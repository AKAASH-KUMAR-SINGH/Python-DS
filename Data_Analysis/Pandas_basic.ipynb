{
 "cells": [
  {
   "cell_type": "code",
   "execution_count": null,
   "metadata": {},
   "outputs": [],
   "source": [
    "import pandas as pd\n",
    "import numpy as np\n",
    "import matplotlib.pyplot as plt  "
   ]
  },
  {
   "cell_type": "code",
   "execution_count": null,
   "metadata": {},
   "outputs": [],
   "source": [
    "pd.read_excel('canada.xlsx',sheet_name=1,skiprows=20,skipfooter=2)"
   ]
  },
  {
   "cell_type": "code",
   "execution_count": null,
   "metadata": {},
   "outputs": [],
   "source": [
    "df=pd.read_excel('canada.xlsx',sheet_name=1,skiprows=20,skipfooter=2)"
   ]
  },
  {
   "cell_type": "code",
   "execution_count": null,
   "metadata": {},
   "outputs": [],
   "source": [
    "pd.set_option('display.max_columns',None)\n",
    "# pd.set_option('display.set.precision',2)"
   ]
  },
  {
   "cell_type": "code",
   "execution_count": null,
   "metadata": {},
   "outputs": [],
   "source": [
    "df"
   ]
  },
  {
   "cell_type": "code",
   "execution_count": null,
   "metadata": {},
   "outputs": [],
   "source": [
    "# what to Learn\n",
    "#     -selection of data\n",
    "#         row selection\n",
    "#             head\n",
    "#             tail\n",
    "#             slicing\n",
    "#             iloc\n",
    "#             loc\n",
    "#         column selection\n",
    "#             object style\n",
    "#             dictionary style"
   ]
  },
  {
   "cell_type": "code",
   "execution_count": null,
   "metadata": {},
   "outputs": [],
   "source": [
    "df.head()"
   ]
  },
  {
   "cell_type": "code",
   "execution_count": null,
   "metadata": {},
   "outputs": [],
   "source": [
    "df.tail()"
   ]
  },
  {
   "cell_type": "code",
   "execution_count": null,
   "metadata": {},
   "outputs": [],
   "source": [
    "df.tail(3)  #bottom 5 columns"
   ]
  },
  {
   "cell_type": "code",
   "execution_count": null,
   "metadata": {},
   "outputs": [],
   "source": [
    "df[:10]     #same as head(10)"
   ]
  },
  {
   "cell_type": "code",
   "execution_count": null,
   "metadata": {},
   "outputs": [],
   "source": [
    "df[50:100]  #rows 50 to 100"
   ]
  },
  {
   "cell_type": "code",
   "execution_count": null,
   "metadata": {},
   "outputs": [],
   "source": [
    "df.iloc[0]  # first row"
   ]
  },
  {
   "cell_type": "code",
   "execution_count": null,
   "metadata": {},
   "outputs": [],
   "source": [
    "df.iloc[-1] #last row"
   ]
  },
  {
   "cell_type": "code",
   "execution_count": null,
   "metadata": {},
   "outputs": [],
   "source": [
    "df.iloc[[0,5,10,15]]"
   ]
  },
  {
   "cell_type": "code",
   "execution_count": null,
   "metadata": {},
   "outputs": [],
   "source": [
    "df.iloc[:50]"
   ]
  },
  {
   "cell_type": "code",
   "execution_count": null,
   "metadata": {},
   "outputs": [],
   "source": [
    "df.iloc[30,:5]"
   ]
  },
  {
   "cell_type": "code",
   "execution_count": null,
   "metadata": {},
   "outputs": [],
   "source": [
    "df.iloc[:,:5]"
   ]
  },
  {
   "cell_type": "code",
   "execution_count": null,
   "metadata": {},
   "outputs": [],
   "source": [
    "df.iloc[:,[0,2,5,7,10]] # all rows, column 0,2,5,7,10"
   ]
  },
  {
   "cell_type": "code",
   "execution_count": null,
   "metadata": {},
   "outputs": [],
   "source": [
    "# list all column names\n",
    "df.columns"
   ]
  },
  {
   "cell_type": "code",
   "execution_count": null,
   "metadata": {},
   "outputs": [],
   "source": [
    "print(df.columns.tolist())"
   ]
  },
  {
   "cell_type": "code",
   "execution_count": null,
   "metadata": {},
   "outputs": [],
   "source": [
    "df['OdName']    #column as a series"
   ]
  },
  {
   "cell_type": "code",
   "execution_count": null,
   "metadata": {},
   "outputs": [],
   "source": [
    "df[1980]"
   ]
  },
  {
   "cell_type": "code",
   "execution_count": null,
   "metadata": {},
   "outputs": [],
   "source": [
    "# multiple columns\n",
    "col_list=['OdName',1980,1981,1982,1983,1984,1985]\n",
    "df[col_list]"
   ]
  },
  {
   "cell_type": "code",
   "execution_count": null,
   "metadata": {},
   "outputs": [],
   "source": [
    "df[['OdName','AreaName',1980,1990,2000,2010]]"
   ]
  },
  {
   "cell_type": "code",
   "execution_count": null,
   "metadata": {},
   "outputs": [],
   "source": [
    "df[['OdName','AreaName',1980,1990,2000,2010]][5:50] #Selected cols and selected rows"
   ]
  },
  {
   "cell_type": "markdown",
   "metadata": {},
   "source": [
    "Maths and satas"
   ]
  },
  {
   "cell_type": "code",
   "execution_count": null,
   "metadata": {},
   "outputs": [],
   "source": [
    "df.head()"
   ]
  },
  {
   "cell_type": "code",
   "execution_count": null,
   "metadata": {},
   "outputs": [],
   "source": [
    "df.info()"
   ]
  },
  {
   "cell_type": "code",
   "execution_count": null,
   "metadata": {},
   "outputs": [],
   "source": [
    "df.describe()   #numerical columns summary"
   ]
  },
  {
   "cell_type": "code",
   "execution_count": null,
   "metadata": {},
   "outputs": [],
   "source": [
    "df.describe(exclude=np.number)  #non-numerical columns summary"
   ]
  },
  {
   "cell_type": "code",
   "execution_count": null,
   "metadata": {},
   "outputs": [],
   "source": [
    "df"
   ]
  },
  {
   "cell_type": "code",
   "execution_count": null,
   "metadata": {},
   "outputs": [],
   "source": [
    "df[2010].sum()"
   ]
  },
  {
   "cell_type": "code",
   "execution_count": null,
   "metadata": {},
   "outputs": [],
   "source": [
    "df[[1980,1981,1982,1983,1984,1985]].sum()"
   ]
  },
  {
   "cell_type": "code",
   "execution_count": null,
   "metadata": {},
   "outputs": [],
   "source": [
    "df[[1980,1981,1982,1983,1984,1985]].sum(axis=1)"
   ]
  },
  {
   "cell_type": "code",
   "execution_count": null,
   "metadata": {},
   "outputs": [],
   "source": [
    "years=list(range(1980,2014))\n",
    "print(years)"
   ]
  },
  {
   "cell_type": "code",
   "execution_count": null,
   "metadata": {},
   "outputs": [],
   "source": [
    "df[years]"
   ]
  },
  {
   "cell_type": "code",
   "execution_count": null,
   "metadata": {},
   "outputs": [],
   "source": [
    "df[years].sum(axis=1).plot(kind='line')"
   ]
  },
  {
   "cell_type": "code",
   "execution_count": null,
   "metadata": {},
   "outputs": [],
   "source": [
    "df['total']=df[years].sum(axis=1)\n",
    "df.head(5)"
   ]
  },
  {
   "cell_type": "code",
   "execution_count": null,
   "metadata": {},
   "outputs": [],
   "source": [
    "plt.figure(figsize=(25,3),dpi=300)\n",
    "plt.bar('OdName','Total',data=df)\n",
    "plt.xticks(rotation=90)\n",
    "plt.show()"
   ]
  },
  {
   "cell_type": "code",
   "execution_count": null,
   "metadata": {},
   "outputs": [],
   "source": [
    "df['faltu']=10"
   ]
  },
  {
   "cell_type": "code",
   "execution_count": null,
   "metadata": {},
   "outputs": [],
   "source": [
    "df['kuch bhi']=[1,2,3,4,5]*39       #this is just an example, don't do this\n",
    "df"
   ]
  },
  {
   "cell_type": "code",
   "execution_count": null,
   "metadata": {},
   "outputs": [],
   "source": [
    "df[2013]=df[1980]"
   ]
  },
  {
   "cell_type": "code",
   "execution_count": null,
   "metadata": {},
   "outputs": [],
   "source": [
    "df['anpther column']=df[2013]-df[1980]"
   ]
  },
  {
   "cell_type": "code",
   "execution_count": null,
   "metadata": {},
   "outputs": [],
   "source": [
    "df"
   ]
  },
  {
   "cell_type": "code",
   "execution_count": null,
   "metadata": {},
   "outputs": [],
   "source": [
    "# add to pandas dataframe row wise"
   ]
  },
  {
   "cell_type": "code",
   "execution_count": null,
   "metadata": {},
   "outputs": [],
   "source": [
    "small_df1=df[:10]\n",
    "small_df2=df[185:]"
   ]
  },
  {
   "cell_type": "code",
   "execution_count": null,
   "metadata": {},
   "outputs": [],
   "source": [
    "pd.concat([small_df1, small_df2])"
   ]
  },
  {
   "cell_type": "markdown",
   "metadata": {},
   "source": [
    "remove columns"
   ]
  },
  {
   "cell_type": "code",
   "execution_count": null,
   "metadata": {},
   "outputs": [],
   "source": [
    "df"
   ]
  },
  {
   "cell_type": "markdown",
   "metadata": {},
   "source": [
    "to drop columns\n",
    "    -df.drop()   -> removes columns\n",
    "to drop rows\n",
    "    -df.drop()  ->removes rows\n",
    "    -df.dropna()    ->removes rows with NaN\n",
    "    -df.drop_duplicates()   ->removes row with duplicate value"
   ]
  },
  {
   "cell_type": "code",
   "execution_count": null,
   "metadata": {},
   "outputs": [],
   "source": [
    "cols_to_drop=[\n",
    "    'AREA','REG','DEV','Type','Coverage',\n",
    "    'faltu','kuch bhi','anpther column'\n",
    "]\n",
    "\n",
    "df.drop(columns=cols_to_drop,inplace=True)"
   ]
  },
  {
   "cell_type": "code",
   "execution_count": null,
   "metadata": {},
   "outputs": [],
   "source": [
    "df.drop_duplicates(subset=['AreaName'])     #just an example"
   ]
  },
  {
   "cell_type": "code",
   "execution_count": null,
   "metadata": {},
   "outputs": [],
   "source": [
    "df"
   ]
  },
  {
   "cell_type": "markdown",
   "metadata": {},
   "source": [
    "Ordering columns"
   ]
  },
  {
   "cell_type": "code",
   "execution_count": null,
   "metadata": {},
   "outputs": [],
   "source": [
    "df.columns"
   ]
  },
  {
   "cell_type": "code",
   "execution_count": null,
   "metadata": {},
   "outputs": [],
   "source": [
    "reordered_cols=['OdName', 'AreaName',  'RegName',  'DevName',   'total',    1980,       1981,\n",
    "             1982,       1983,       1984,       1985,       1986,       1987,\n",
    "             1988,       1989,       1990,       1991,       1992,       1993,\n",
    "             1994,       1995,       1996,       1997,       1998,       1999,\n",
    "             2000,       2001,       2002,       2003,       2004,       2005,\n",
    "             2006,       2007,       2008,       2009,       2010,       2011,\n",
    "             2012,       2013,    \n",
    "\n",
    "]\n",
    "reordered_cols"
   ]
  },
  {
   "cell_type": "code",
   "execution_count": null,
   "metadata": {},
   "outputs": [],
   "source": [
    "df=df[reordered_cols]   #columns in the order you want\n",
    "df.head()"
   ]
  },
  {
   "cell_type": "code",
   "execution_count": null,
   "metadata": {},
   "outputs": [],
   "source": [
    "df.rename(columns={\n",
    "    'OdName':'Country',\n",
    "    'AreaName':'Continent',\n",
    "    'RegName':'Region',\n",
    "    'DevName':'Status',   \n",
    "}, inplace=True)"
   ]
  },
  {
   "cell_type": "code",
   "execution_count": null,
   "metadata": {},
   "outputs": [],
   "source": [
    "df.head()"
   ]
  },
  {
   "cell_type": "markdown",
   "metadata": {},
   "source": [
    "Sorting"
   ]
  },
  {
   "cell_type": "code",
   "execution_count": null,
   "metadata": {},
   "outputs": [],
   "source": [
    "df.sort_values(by='total',inplace=True,\n",
    "    ascending=False)    #descending order\n",
    "df"
   ]
  },
  {
   "cell_type": "code",
   "execution_count": null,
   "metadata": {},
   "outputs": [],
   "source": [
    "df.sort_values(by='total', inplace=True)\n",
    "df"
   ]
  },
  {
   "cell_type": "markdown",
   "metadata": {},
   "source": [
    "Visualize"
   ]
  },
  {
   "cell_type": "code",
   "execution_count": null,
   "metadata": {},
   "outputs": [],
   "source": [
    "plt.bar('Country','total',data=df.head(10))\n",
    "plt.xticks(rotation=90)\n",
    "plt.show()"
   ]
  },
  {
   "cell_type": "code",
   "execution_count": null,
   "metadata": {},
   "outputs": [],
   "source": [
    "import seaborn as sns"
   ]
  },
  {
   "cell_type": "code",
   "execution_count": null,
   "metadata": {},
   "outputs": [],
   "source": [
    "sns.barplot(x='Country',y='total',hue='Status',data=df.head(10))\n",
    "plt.xticks(rotation=90)\n",
    "plt.show()"
   ]
  },
  {
   "cell_type": "code",
   "execution_count": null,
   "metadata": {},
   "outputs": [],
   "source": [
    "df"
   ]
  },
  {
   "cell_type": "code",
   "execution_count": null,
   "metadata": {},
   "outputs": [],
   "source": [
    "df.loc[79,years].plot(kind='area',figsize=(20,4))"
   ]
  },
  {
   "cell_type": "code",
   "execution_count": null,
   "metadata": {},
   "outputs": [],
   "source": [
    "df.loc[(79,36),years].T.plot(kind='area',figsize=(20,4),stacked=False,alpha=0.5)"
   ]
  },
  {
   "cell_type": "code",
   "execution_count": null,
   "metadata": {},
   "outputs": [],
   "source": [
    "df"
   ]
  },
  {
   "cell_type": "code",
   "execution_count": null,
   "metadata": {},
   "outputs": [],
   "source": [
    "#how to changing the index to another column"
   ]
  },
  {
   "cell_type": "code",
   "execution_count": null,
   "metadata": {},
   "outputs": [],
   "source": [
    "df.index"
   ]
  },
  {
   "cell_type": "code",
   "execution_count": null,
   "metadata": {},
   "outputs": [],
   "source": [
    "df.set_index(\"Region\",inplace=True)    #make country as index"
   ]
  },
  {
   "cell_type": "code",
   "execution_count": null,
   "metadata": {},
   "outputs": [],
   "source": [
    "df"
   ]
  },
  {
   "cell_type": "code",
   "execution_count": null,
   "metadata": {},
   "outputs": [],
   "source": [
    "df.set_index('Country',inplace=True)"
   ]
  },
  {
   "cell_type": "code",
   "execution_count": null,
   "metadata": {},
   "outputs": [],
   "source": [
    "df.head()"
   ]
  },
  {
   "cell_type": "code",
   "execution_count": null,
   "metadata": {},
   "outputs": [],
   "source": [
    "df.reset_index(inplace=True)"
   ]
  },
  {
   "cell_type": "code",
   "execution_count": null,
   "metadata": {},
   "outputs": [],
   "source": [
    "df"
   ]
  },
  {
   "cell_type": "code",
   "execution_count": null,
   "metadata": {},
   "outputs": [],
   "source": [
    "df.head()"
   ]
  },
  {
   "cell_type": "code",
   "execution_count": null,
   "metadata": {},
   "outputs": [],
   "source": [
    "df.set_index('Country',inplace=True)"
   ]
  },
  {
   "cell_type": "code",
   "execution_count": null,
   "metadata": {},
   "outputs": [],
   "source": [
    "df"
   ]
  },
  {
   "cell_type": "code",
   "execution_count": null,
   "metadata": {},
   "outputs": [],
   "source": [
    "df.loc['Japan',years].plot(kind='bar')"
   ]
  },
  {
   "cell_type": "code",
   "execution_count": null,
   "metadata": {},
   "outputs": [],
   "source": [
    "countries=['Japan','China','India','Pakistan','Bangladesh']\n",
    "df.loc[countries,years].plot(kind='area',alpha=.5)"
   ]
  },
  {
   "cell_type": "code",
   "execution_count": null,
   "metadata": {},
   "outputs": [],
   "source": [
    "countries=['Japan','China','India','Pakistan','Bangladesh']\n",
    "df.loc[countries,years].T.plot(kind='area',alpha=.5)"
   ]
  },
  {
   "cell_type": "code",
   "execution_count": null,
   "metadata": {},
   "outputs": [],
   "source": [
    "df"
   ]
  },
  {
   "cell_type": "code",
   "execution_count": null,
   "metadata": {},
   "outputs": [],
   "source": [
    "df.groupby('Continent')"
   ]
  },
  {
   "cell_type": "code",
   "execution_count": null,
   "metadata": {},
   "outputs": [],
   "source": [
    "df.groupby('Continent').get_group('Asia')"
   ]
  },
  {
   "cell_type": "code",
   "execution_count": null,
   "metadata": {},
   "outputs": [],
   "source": [
    "df.groupby('Continent')[years].sum()"
   ]
  },
  {
   "cell_type": "code",
   "execution_count": null,
   "metadata": {},
   "outputs": [],
   "source": [
    "df.groupby('Continent')[years].sum().plot(figsize=(15,4))"
   ]
  },
  {
   "cell_type": "code",
   "execution_count": null,
   "metadata": {},
   "outputs": [],
   "source": [
    "df.groupby('Continent')[years].sum().T.plot(figsize=(15,4))"
   ]
  },
  {
   "cell_type": "code",
   "execution_count": null,
   "metadata": {},
   "outputs": [],
   "source": [
    "df.groupby('Continent')[years].agg(['min','max'])"
   ]
  },
  {
   "cell_type": "code",
   "execution_count": null,
   "metadata": {},
   "outputs": [],
   "source": [
    "df.groupby('Continent')[years].agg(['min','max']).plot()"
   ]
  },
  {
   "cell_type": "code",
   "execution_count": null,
   "metadata": {},
   "outputs": [],
   "source": [
    "df.groupby('Continent')[years].agg(['min','max']).T.plot()"
   ]
  },
  {
   "cell_type": "code",
   "execution_count": null,
   "metadata": {},
   "outputs": [],
   "source": [
    "continent_df=df.groupby('Continent')[years].sum()"
   ]
  },
  {
   "cell_type": "code",
   "execution_count": null,
   "metadata": {},
   "outputs": [],
   "source": [
    "continent_df"
   ]
  },
  {
   "cell_type": "code",
   "execution_count": null,
   "metadata": {},
   "outputs": [],
   "source": [
    "df.groupby(['Continent','Status'])[years].mean()"
   ]
  },
  {
   "cell_type": "code",
   "execution_count": 196,
   "metadata": {},
   "outputs": [
    {
     "data": {
      "text/html": [
       "<div>\n",
       "<style scoped>\n",
       "    .dataframe tbody tr th:only-of-type {\n",
       "        vertical-align: middle;\n",
       "    }\n",
       "\n",
       "    .dataframe tbody tr th {\n",
       "        vertical-align: top;\n",
       "    }\n",
       "\n",
       "    .dataframe thead th {\n",
       "        text-align: right;\n",
       "    }\n",
       "</style>\n",
       "<table border=\"1\" class=\"dataframe\">\n",
       "  <thead>\n",
       "    <tr style=\"text-align: right;\">\n",
       "      <th></th>\n",
       "      <th>Continent</th>\n",
       "      <th>Status</th>\n",
       "      <th>1980</th>\n",
       "      <th>1981</th>\n",
       "      <th>1982</th>\n",
       "      <th>1983</th>\n",
       "      <th>1984</th>\n",
       "      <th>1985</th>\n",
       "      <th>1986</th>\n",
       "      <th>1987</th>\n",
       "      <th>1988</th>\n",
       "      <th>1989</th>\n",
       "      <th>1990</th>\n",
       "      <th>1991</th>\n",
       "      <th>1992</th>\n",
       "      <th>1993</th>\n",
       "      <th>1994</th>\n",
       "      <th>1995</th>\n",
       "      <th>1996</th>\n",
       "      <th>1997</th>\n",
       "      <th>1998</th>\n",
       "      <th>1999</th>\n",
       "      <th>2000</th>\n",
       "      <th>2001</th>\n",
       "      <th>2002</th>\n",
       "      <th>2003</th>\n",
       "      <th>2004</th>\n",
       "      <th>2005</th>\n",
       "      <th>2006</th>\n",
       "      <th>2007</th>\n",
       "      <th>2008</th>\n",
       "      <th>2009</th>\n",
       "      <th>2010</th>\n",
       "      <th>2011</th>\n",
       "      <th>2012</th>\n",
       "      <th>2013</th>\n",
       "    </tr>\n",
       "  </thead>\n",
       "  <tbody>\n",
       "    <tr>\n",
       "      <th>0</th>\n",
       "      <td>Africa</td>\n",
       "      <td>Developing regions</td>\n",
       "      <td>73.166667</td>\n",
       "      <td>80.796296</td>\n",
       "      <td>70.722222</td>\n",
       "      <td>49.462963</td>\n",
       "      <td>48.870370</td>\n",
       "      <td>49.074074</td>\n",
       "      <td>70.037037</td>\n",
       "      <td>138.777778</td>\n",
       "      <td>139.851852</td>\n",
       "      <td>183.222222</td>\n",
       "      <td>203.925926</td>\n",
       "      <td>263.481481</td>\n",
       "      <td>356.333333</td>\n",
       "      <td>306.129630</td>\n",
       "      <td>242.074074</td>\n",
       "      <td>274.185185</td>\n",
       "      <td>290.740741</td>\n",
       "      <td>267.981481</td>\n",
       "      <td>255.388889</td>\n",
       "      <td>296.222222</td>\n",
       "      <td>376.777778</td>\n",
       "      <td>449.851852</td>\n",
       "      <td>420.555556</td>\n",
       "      <td>432.703704</td>\n",
       "      <td>522.074074</td>\n",
       "      <td>509.685185</td>\n",
       "      <td>540.518519</td>\n",
       "      <td>523.777778</td>\n",
       "      <td>553.518519</td>\n",
       "      <td>639.518519</td>\n",
       "      <td>757.259259</td>\n",
       "      <td>656.314815</td>\n",
       "      <td>705.240741</td>\n",
       "      <td>73.166667</td>\n",
       "    </tr>\n",
       "    <tr>\n",
       "      <th>1</th>\n",
       "      <td>Asia</td>\n",
       "      <td>Developed regions</td>\n",
       "      <td>701.000000</td>\n",
       "      <td>756.000000</td>\n",
       "      <td>598.000000</td>\n",
       "      <td>309.000000</td>\n",
       "      <td>246.000000</td>\n",
       "      <td>198.000000</td>\n",
       "      <td>248.000000</td>\n",
       "      <td>422.000000</td>\n",
       "      <td>324.000000</td>\n",
       "      <td>494.000000</td>\n",
       "      <td>379.000000</td>\n",
       "      <td>506.000000</td>\n",
       "      <td>605.000000</td>\n",
       "      <td>907.000000</td>\n",
       "      <td>956.000000</td>\n",
       "      <td>826.000000</td>\n",
       "      <td>994.000000</td>\n",
       "      <td>924.000000</td>\n",
       "      <td>897.000000</td>\n",
       "      <td>1083.000000</td>\n",
       "      <td>1010.000000</td>\n",
       "      <td>1092.000000</td>\n",
       "      <td>806.000000</td>\n",
       "      <td>817.000000</td>\n",
       "      <td>973.000000</td>\n",
       "      <td>1067.000000</td>\n",
       "      <td>1212.000000</td>\n",
       "      <td>1250.000000</td>\n",
       "      <td>1284.000000</td>\n",
       "      <td>1194.000000</td>\n",
       "      <td>1168.000000</td>\n",
       "      <td>1265.000000</td>\n",
       "      <td>1214.000000</td>\n",
       "      <td>701.000000</td>\n",
       "    </tr>\n",
       "    <tr>\n",
       "      <th>2</th>\n",
       "      <td>Asia</td>\n",
       "      <td>Developing regions</td>\n",
       "      <td>631.750000</td>\n",
       "      <td>699.125000</td>\n",
       "      <td>617.000000</td>\n",
       "      <td>508.062500</td>\n",
       "      <td>563.083333</td>\n",
       "      <td>492.750000</td>\n",
       "      <td>593.562500</td>\n",
       "      <td>891.270833</td>\n",
       "      <td>981.875000</td>\n",
       "      <td>1245.041667</td>\n",
       "      <td>1509.375000</td>\n",
       "      <td>1863.708333</td>\n",
       "      <td>1878.062500</td>\n",
       "      <td>2038.125000</td>\n",
       "      <td>1831.166667</td>\n",
       "      <td>1866.625000</td>\n",
       "      <td>2125.750000</td>\n",
       "      <td>2197.062500</td>\n",
       "      <td>1875.666667</td>\n",
       "      <td>2203.354167</td>\n",
       "      <td>2781.958333</td>\n",
       "      <td>3062.312500</td>\n",
       "      <td>2850.979167</td>\n",
       "      <td>2728.166667</td>\n",
       "      <td>2789.104167</td>\n",
       "      <td>3295.541667</td>\n",
       "      <td>3080.041667</td>\n",
       "      <td>2754.354167</td>\n",
       "      <td>2887.708333</td>\n",
       "      <td>2921.666667</td>\n",
       "      <td>3389.104167</td>\n",
       "      <td>3033.937500</td>\n",
       "      <td>3145.916667</td>\n",
       "      <td>631.750000</td>\n",
       "    </tr>\n",
       "    <tr>\n",
       "      <th>3</th>\n",
       "      <td>Europe</td>\n",
       "      <td>Developed regions</td>\n",
       "      <td>924.651163</td>\n",
       "      <td>1041.906977</td>\n",
       "      <td>993.488372</td>\n",
       "      <td>572.976744</td>\n",
       "      <td>518.302326</td>\n",
       "      <td>484.744186</td>\n",
       "      <td>566.744186</td>\n",
       "      <td>1086.000000</td>\n",
       "      <td>1272.697674</td>\n",
       "      <td>1416.116279</td>\n",
       "      <td>1588.395349</td>\n",
       "      <td>1347.395349</td>\n",
       "      <td>1491.232558</td>\n",
       "      <td>1463.651163</td>\n",
       "      <td>1454.209302</td>\n",
       "      <td>1296.837209</td>\n",
       "      <td>1294.000000</td>\n",
       "      <td>1135.837209</td>\n",
       "      <td>853.930233</td>\n",
       "      <td>828.813953</td>\n",
       "      <td>888.720930</td>\n",
       "      <td>994.860465</td>\n",
       "      <td>855.767442</td>\n",
       "      <td>803.627907</td>\n",
       "      <td>885.627907</td>\n",
       "      <td>836.162791</td>\n",
       "      <td>768.674419</td>\n",
       "      <td>778.953488</td>\n",
       "      <td>806.790698</td>\n",
       "      <td>815.767442</td>\n",
       "      <td>777.325581</td>\n",
       "      <td>622.744186</td>\n",
       "      <td>678.534884</td>\n",
       "      <td>924.651163</td>\n",
       "    </tr>\n",
       "    <tr>\n",
       "      <th>4</th>\n",
       "      <td>Latin America and the Caribbean</td>\n",
       "      <td>Developing regions</td>\n",
       "      <td>396.393939</td>\n",
       "      <td>461.060606</td>\n",
       "      <td>508.151515</td>\n",
       "      <td>467.484848</td>\n",
       "      <td>414.484848</td>\n",
       "      <td>459.727273</td>\n",
       "      <td>641.787879</td>\n",
       "      <td>862.757576</td>\n",
       "      <td>664.363636</td>\n",
       "      <td>759.393939</td>\n",
       "      <td>846.727273</td>\n",
       "      <td>1115.969697</td>\n",
       "      <td>1147.060606</td>\n",
       "      <td>1025.454545</td>\n",
       "      <td>646.696970</td>\n",
       "      <td>614.000000</td>\n",
       "      <td>565.000000</td>\n",
       "      <td>520.424242</td>\n",
       "      <td>419.090909</td>\n",
       "      <td>457.212121</td>\n",
       "      <td>512.060606</td>\n",
       "      <td>608.090909</td>\n",
       "      <td>585.363636</td>\n",
       "      <td>614.030303</td>\n",
       "      <td>672.151515</td>\n",
       "      <td>749.909091</td>\n",
       "      <td>747.757576</td>\n",
       "      <td>788.212121</td>\n",
       "      <td>804.454545</td>\n",
       "      <td>814.151515</td>\n",
       "      <td>873.272727</td>\n",
       "      <td>844.121212</td>\n",
       "      <td>823.424242</td>\n",
       "      <td>396.393939</td>\n",
       "    </tr>\n",
       "    <tr>\n",
       "      <th>5</th>\n",
       "      <td>Northern America</td>\n",
       "      <td>Developed regions</td>\n",
       "      <td>4689.000000</td>\n",
       "      <td>5015.000000</td>\n",
       "      <td>4537.000000</td>\n",
       "      <td>3550.000000</td>\n",
       "      <td>3330.500000</td>\n",
       "      <td>3271.500000</td>\n",
       "      <td>3537.000000</td>\n",
       "      <td>3852.500000</td>\n",
       "      <td>3234.500000</td>\n",
       "      <td>3395.000000</td>\n",
       "      <td>2947.500000</td>\n",
       "      <td>3028.500000</td>\n",
       "      <td>3423.000000</td>\n",
       "      <td>3719.000000</td>\n",
       "      <td>2951.000000</td>\n",
       "      <td>2445.500000</td>\n",
       "      <td>2758.000000</td>\n",
       "      <td>2376.500000</td>\n",
       "      <td>2218.500000</td>\n",
       "      <td>2598.000000</td>\n",
       "      <td>2716.500000</td>\n",
       "      <td>2802.000000</td>\n",
       "      <td>2474.000000</td>\n",
       "      <td>2771.500000</td>\n",
       "      <td>3495.000000</td>\n",
       "      <td>4197.000000</td>\n",
       "      <td>4806.500000</td>\n",
       "      <td>4731.500000</td>\n",
       "      <td>5095.000000</td>\n",
       "      <td>4497.500000</td>\n",
       "      <td>4071.000000</td>\n",
       "      <td>3838.500000</td>\n",
       "      <td>3946.000000</td>\n",
       "      <td>4689.000000</td>\n",
       "    </tr>\n",
       "    <tr>\n",
       "      <th>6</th>\n",
       "      <td>Oceania</td>\n",
       "      <td>Developed regions</td>\n",
       "      <td>652.000000</td>\n",
       "      <td>559.500000</td>\n",
       "      <td>424.000000</td>\n",
       "      <td>228.500000</td>\n",
       "      <td>240.500000</td>\n",
       "      <td>233.500000</td>\n",
       "      <td>266.000000</td>\n",
       "      <td>337.500000</td>\n",
       "      <td>305.000000</td>\n",
       "      <td>395.000000</td>\n",
       "      <td>445.000000</td>\n",
       "      <td>433.500000</td>\n",
       "      <td>537.500000</td>\n",
       "      <td>619.000000</td>\n",
       "      <td>468.000000</td>\n",
       "      <td>439.000000</td>\n",
       "      <td>459.000000</td>\n",
       "      <td>402.000000</td>\n",
       "      <td>312.500000</td>\n",
       "      <td>343.500000</td>\n",
       "      <td>405.500000</td>\n",
       "      <td>579.500000</td>\n",
       "      <td>534.000000</td>\n",
       "      <td>610.500000</td>\n",
       "      <td>640.000000</td>\n",
       "      <td>639.500000</td>\n",
       "      <td>596.500000</td>\n",
       "      <td>691.500000</td>\n",
       "      <td>749.000000</td>\n",
       "      <td>769.000000</td>\n",
       "      <td>711.500000</td>\n",
       "      <td>613.000000</td>\n",
       "      <td>699.500000</td>\n",
       "      <td>652.000000</td>\n",
       "    </tr>\n",
       "    <tr>\n",
       "      <th>7</th>\n",
       "      <td>Oceania</td>\n",
       "      <td>Developing regions</td>\n",
       "      <td>53.166667</td>\n",
       "      <td>60.000000</td>\n",
       "      <td>68.916667</td>\n",
       "      <td>46.750000</td>\n",
       "      <td>33.083333</td>\n",
       "      <td>37.750000</td>\n",
       "      <td>31.000000</td>\n",
       "      <td>43.750000</td>\n",
       "      <td>47.583333</td>\n",
       "      <td>62.416667</td>\n",
       "      <td>98.750000</td>\n",
       "      <td>135.666667</td>\n",
       "      <td>149.666667</td>\n",
       "      <td>110.666667</td>\n",
       "      <td>85.916667</td>\n",
       "      <td>57.250000</td>\n",
       "      <td>52.833333</td>\n",
       "      <td>38.250000</td>\n",
       "      <td>33.000000</td>\n",
       "      <td>30.666667</td>\n",
       "      <td>38.750000</td>\n",
       "      <td>54.916667</td>\n",
       "      <td>51.416667</td>\n",
       "      <td>48.250000</td>\n",
       "      <td>42.333333</td>\n",
       "      <td>25.500000</td>\n",
       "      <td>23.333333</td>\n",
       "      <td>25.833333</td>\n",
       "      <td>28.000000</td>\n",
       "      <td>26.833333</td>\n",
       "      <td>34.250000</td>\n",
       "      <td>26.833333</td>\n",
       "      <td>23.333333</td>\n",
       "      <td>53.166667</td>\n",
       "    </tr>\n",
       "  </tbody>\n",
       "</table>\n",
       "</div>"
      ],
      "text/plain": [
       "                         Continent              Status         1980  \\\n",
       "0                           Africa  Developing regions    73.166667   \n",
       "1                             Asia   Developed regions   701.000000   \n",
       "2                             Asia  Developing regions   631.750000   \n",
       "3                           Europe   Developed regions   924.651163   \n",
       "4  Latin America and the Caribbean  Developing regions   396.393939   \n",
       "5                 Northern America   Developed regions  4689.000000   \n",
       "6                          Oceania   Developed regions   652.000000   \n",
       "7                          Oceania  Developing regions    53.166667   \n",
       "\n",
       "          1981         1982         1983         1984         1985  \\\n",
       "0    80.796296    70.722222    49.462963    48.870370    49.074074   \n",
       "1   756.000000   598.000000   309.000000   246.000000   198.000000   \n",
       "2   699.125000   617.000000   508.062500   563.083333   492.750000   \n",
       "3  1041.906977   993.488372   572.976744   518.302326   484.744186   \n",
       "4   461.060606   508.151515   467.484848   414.484848   459.727273   \n",
       "5  5015.000000  4537.000000  3550.000000  3330.500000  3271.500000   \n",
       "6   559.500000   424.000000   228.500000   240.500000   233.500000   \n",
       "7    60.000000    68.916667    46.750000    33.083333    37.750000   \n",
       "\n",
       "          1986         1987         1988         1989         1990  \\\n",
       "0    70.037037   138.777778   139.851852   183.222222   203.925926   \n",
       "1   248.000000   422.000000   324.000000   494.000000   379.000000   \n",
       "2   593.562500   891.270833   981.875000  1245.041667  1509.375000   \n",
       "3   566.744186  1086.000000  1272.697674  1416.116279  1588.395349   \n",
       "4   641.787879   862.757576   664.363636   759.393939   846.727273   \n",
       "5  3537.000000  3852.500000  3234.500000  3395.000000  2947.500000   \n",
       "6   266.000000   337.500000   305.000000   395.000000   445.000000   \n",
       "7    31.000000    43.750000    47.583333    62.416667    98.750000   \n",
       "\n",
       "          1991         1992         1993         1994         1995  \\\n",
       "0   263.481481   356.333333   306.129630   242.074074   274.185185   \n",
       "1   506.000000   605.000000   907.000000   956.000000   826.000000   \n",
       "2  1863.708333  1878.062500  2038.125000  1831.166667  1866.625000   \n",
       "3  1347.395349  1491.232558  1463.651163  1454.209302  1296.837209   \n",
       "4  1115.969697  1147.060606  1025.454545   646.696970   614.000000   \n",
       "5  3028.500000  3423.000000  3719.000000  2951.000000  2445.500000   \n",
       "6   433.500000   537.500000   619.000000   468.000000   439.000000   \n",
       "7   135.666667   149.666667   110.666667    85.916667    57.250000   \n",
       "\n",
       "          1996         1997         1998         1999         2000  \\\n",
       "0   290.740741   267.981481   255.388889   296.222222   376.777778   \n",
       "1   994.000000   924.000000   897.000000  1083.000000  1010.000000   \n",
       "2  2125.750000  2197.062500  1875.666667  2203.354167  2781.958333   \n",
       "3  1294.000000  1135.837209   853.930233   828.813953   888.720930   \n",
       "4   565.000000   520.424242   419.090909   457.212121   512.060606   \n",
       "5  2758.000000  2376.500000  2218.500000  2598.000000  2716.500000   \n",
       "6   459.000000   402.000000   312.500000   343.500000   405.500000   \n",
       "7    52.833333    38.250000    33.000000    30.666667    38.750000   \n",
       "\n",
       "          2001         2002         2003         2004         2005  \\\n",
       "0   449.851852   420.555556   432.703704   522.074074   509.685185   \n",
       "1  1092.000000   806.000000   817.000000   973.000000  1067.000000   \n",
       "2  3062.312500  2850.979167  2728.166667  2789.104167  3295.541667   \n",
       "3   994.860465   855.767442   803.627907   885.627907   836.162791   \n",
       "4   608.090909   585.363636   614.030303   672.151515   749.909091   \n",
       "5  2802.000000  2474.000000  2771.500000  3495.000000  4197.000000   \n",
       "6   579.500000   534.000000   610.500000   640.000000   639.500000   \n",
       "7    54.916667    51.416667    48.250000    42.333333    25.500000   \n",
       "\n",
       "          2006         2007         2008         2009         2010  \\\n",
       "0   540.518519   523.777778   553.518519   639.518519   757.259259   \n",
       "1  1212.000000  1250.000000  1284.000000  1194.000000  1168.000000   \n",
       "2  3080.041667  2754.354167  2887.708333  2921.666667  3389.104167   \n",
       "3   768.674419   778.953488   806.790698   815.767442   777.325581   \n",
       "4   747.757576   788.212121   804.454545   814.151515   873.272727   \n",
       "5  4806.500000  4731.500000  5095.000000  4497.500000  4071.000000   \n",
       "6   596.500000   691.500000   749.000000   769.000000   711.500000   \n",
       "7    23.333333    25.833333    28.000000    26.833333    34.250000   \n",
       "\n",
       "          2011         2012         2013  \n",
       "0   656.314815   705.240741    73.166667  \n",
       "1  1265.000000  1214.000000   701.000000  \n",
       "2  3033.937500  3145.916667   631.750000  \n",
       "3   622.744186   678.534884   924.651163  \n",
       "4   844.121212   823.424242   396.393939  \n",
       "5  3838.500000  3946.000000  4689.000000  \n",
       "6   613.000000   699.500000   652.000000  \n",
       "7    26.833333    23.333333    53.166667  "
      ]
     },
     "execution_count": 196,
     "metadata": {},
     "output_type": "execute_result"
    }
   ],
   "source": [
    "df.groupby(['Continent','Status'])[years].mean().reset_index()"
   ]
  },
  {
   "cell_type": "code",
   "execution_count": 198,
   "metadata": {},
   "outputs": [
    {
     "ename": "KeyError",
     "evalue": "'Column not found: Total'",
     "output_type": "error",
     "traceback": [
      "\u001b[1;31m---------------------------------------------------------------------------\u001b[0m",
      "\u001b[1;31mKeyError\u001b[0m                                  Traceback (most recent call last)",
      "Cell \u001b[1;32mIn[198], line 1\u001b[0m\n\u001b[1;32m----> 1\u001b[0m df\u001b[39m.\u001b[39mgroupby([\u001b[39m'\u001b[39m\u001b[39mContinent\u001b[39m\u001b[39m'\u001b[39m,\u001b[39m'\u001b[39m\u001b[39mStatus\u001b[39m\u001b[39m'\u001b[39m])[\u001b[39m'\u001b[39m\u001b[39mTotal\u001b[39m\u001b[39m'\u001b[39m]\u001b[39m.\u001b[39msum()\n",
      "File \u001b[1;32mc:\\Users\\akash\\miniconda3\\Lib\\site-packages\\pandas\\core\\groupby\\generic.py:1771\u001b[0m, in \u001b[0;36mDataFrameGroupBy.__getitem__\u001b[1;34m(self, key)\u001b[0m\n\u001b[0;32m   1764\u001b[0m \u001b[39mif\u001b[39;00m \u001b[39misinstance\u001b[39m(key, \u001b[39mtuple\u001b[39m) \u001b[39mand\u001b[39;00m \u001b[39mlen\u001b[39m(key) \u001b[39m>\u001b[39m \u001b[39m1\u001b[39m:\n\u001b[0;32m   1765\u001b[0m     \u001b[39m# if len == 1, then it becomes a SeriesGroupBy and this is actually\u001b[39;00m\n\u001b[0;32m   1766\u001b[0m     \u001b[39m# valid syntax, so don't raise\u001b[39;00m\n\u001b[0;32m   1767\u001b[0m     \u001b[39mraise\u001b[39;00m \u001b[39mValueError\u001b[39;00m(\n\u001b[0;32m   1768\u001b[0m         \u001b[39m\"\u001b[39m\u001b[39mCannot subset columns with a tuple with more than one element. \u001b[39m\u001b[39m\"\u001b[39m\n\u001b[0;32m   1769\u001b[0m         \u001b[39m\"\u001b[39m\u001b[39mUse a list instead.\u001b[39m\u001b[39m\"\u001b[39m\n\u001b[0;32m   1770\u001b[0m     )\n\u001b[1;32m-> 1771\u001b[0m \u001b[39mreturn\u001b[39;00m \u001b[39msuper\u001b[39m()\u001b[39m.\u001b[39m\u001b[39m__getitem__\u001b[39m(key)\n",
      "File \u001b[1;32mc:\\Users\\akash\\miniconda3\\Lib\\site-packages\\pandas\\core\\base.py:244\u001b[0m, in \u001b[0;36mSelectionMixin.__getitem__\u001b[1;34m(self, key)\u001b[0m\n\u001b[0;32m    242\u001b[0m \u001b[39melse\u001b[39;00m:\n\u001b[0;32m    243\u001b[0m     \u001b[39mif\u001b[39;00m key \u001b[39mnot\u001b[39;00m \u001b[39min\u001b[39;00m \u001b[39mself\u001b[39m\u001b[39m.\u001b[39mobj:\n\u001b[1;32m--> 244\u001b[0m         \u001b[39mraise\u001b[39;00m \u001b[39mKeyError\u001b[39;00m(\u001b[39mf\u001b[39m\u001b[39m\"\u001b[39m\u001b[39mColumn not found: \u001b[39m\u001b[39m{\u001b[39;00mkey\u001b[39m}\u001b[39;00m\u001b[39m\"\u001b[39m)\n\u001b[0;32m    245\u001b[0m     ndim \u001b[39m=\u001b[39m \u001b[39mself\u001b[39m\u001b[39m.\u001b[39mobj[key]\u001b[39m.\u001b[39mndim\n\u001b[0;32m    246\u001b[0m     \u001b[39mreturn\u001b[39;00m \u001b[39mself\u001b[39m\u001b[39m.\u001b[39m_gotitem(key, ndim\u001b[39m=\u001b[39mndim)\n",
      "\u001b[1;31mKeyError\u001b[0m: 'Column not found: Total'"
     ]
    }
   ],
   "source": [
    "df.groupby(['Continent','Status'])['Total'].sum()"
   ]
  }
 ],
 "metadata": {
  "kernelspec": {
   "display_name": "base",
   "language": "python",
   "name": "python3"
  },
  "language_info": {
   "codemirror_mode": {
    "name": "ipython",
    "version": 3
   },
   "file_extension": ".py",
   "mimetype": "text/x-python",
   "name": "python",
   "nbconvert_exporter": "python",
   "pygments_lexer": "ipython3",
   "version": "3.11.4"
  },
  "orig_nbformat": 4
 },
 "nbformat": 4,
 "nbformat_minor": 2
}
