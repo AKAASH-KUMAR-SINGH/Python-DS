{
 "cells": [
  {
   "cell_type": "code",
   "execution_count": 2,
   "metadata": {},
   "outputs": [],
   "source": [
    "import cv2\n",
    "import numpy as np"
   ]
  },
  {
   "cell_type": "code",
   "execution_count": 3,
   "metadata": {},
   "outputs": [],
   "source": [
    "img=cv2.imread('13.png')\n",
    "re_img=cv2.resize(img,(600,600))\n",
    "cv2.imshow('Akash',re_img)\n",
    "cv2.waitKey(0)\n",
    "cv2.destroyAllWindows()"
   ]
  },
  {
   "cell_type": "code",
   "execution_count": 4,
   "metadata": {},
   "outputs": [
    {
     "name": "stdout",
     "output_type": "stream",
     "text": [
      "[[[247 247 247]\n",
      "  [247 247 247]\n",
      "  [247 247 247]\n",
      "  ...\n",
      "  [247 247 247]\n",
      "  [247 247 247]\n",
      "  [247 247 247]]\n",
      "\n",
      " [[247 247 247]\n",
      "  [247 247 247]\n",
      "  [247 247 247]\n",
      "  ...\n",
      "  [247 247 247]\n",
      "  [247 247 247]\n",
      "  [247 247 247]]\n",
      "\n",
      " [[247 247 247]\n",
      "  [247 247 247]\n",
      "  [247 247 247]\n",
      "  ...\n",
      "  [247 247 247]\n",
      "  [247 247 247]\n",
      "  [247 247 247]]\n",
      "\n",
      " ...\n",
      "\n",
      " [[247 236 225]\n",
      "  [248 237 226]\n",
      "  [250 239 228]\n",
      "  ...\n",
      "  [250 239 227]\n",
      "  [248 237 225]\n",
      "  [248 237 225]]\n",
      "\n",
      " [[248 237 226]\n",
      "  [248 237 226]\n",
      "  [248 237 226]\n",
      "  ...\n",
      "  [248 237 225]\n",
      "  [249 238 226]\n",
      "  [250 239 227]]\n",
      "\n",
      " [[247 236 225]\n",
      "  [250 239 228]\n",
      "  [248 237 226]\n",
      "  ...\n",
      "  [248 237 225]\n",
      "  [248 237 225]\n",
      "  [247 236 224]]]\n"
     ]
    }
   ],
   "source": [
    "print(img)"
   ]
  },
  {
   "cell_type": "code",
   "execution_count": 5,
   "metadata": {},
   "outputs": [],
   "source": [
    "img=cv2.imread('13.png')\n",
    "re_img=cv2.resize(img,(400,500))\n",
    "h=np.hstack((re_img,re_img))\n",
    "cv2.imshow('Akash',h)\n",
    "cv2.waitKey(0)\n",
    "cv2.destroyAllWindows()"
   ]
  },
  {
   "cell_type": "code",
   "execution_count": 6,
   "metadata": {},
   "outputs": [],
   "source": [
    "img=cv2.imread('17.png')\n",
    "img2=cv2.imread('12.png')\n",
    "re_img=cv2.resize(img,(200,200))\n",
    "re_img2=cv2.resize(img2,(200,200))\n",
    "h=np.hstack((re_img,re_img2))\n",
    "v=np.vstack((h,h))\n",
    "cv2.imshow('Akash',v)\n",
    "cv2.waitKey(0)\n",
    "cv2.destroyAllWindows()"
   ]
  },
  {
   "cell_type": "code",
   "execution_count": 7,
   "metadata": {},
   "outputs": [],
   "source": [
    "import os"
   ]
  },
  {
   "cell_type": "code",
   "execution_count": 8,
   "metadata": {},
   "outputs": [
    {
     "data": {
      "text/plain": [
       "['11.png',\n",
       " '12.png',\n",
       " '13.png',\n",
       " '14.png',\n",
       " '15.png',\n",
       " '16.png',\n",
       " '17.png',\n",
       " '18.png',\n",
       " '19.png',\n",
       " 'cv1.ipynb',\n",
       " 'cv2.ipynb']"
      ]
     },
     "execution_count": 8,
     "metadata": {},
     "output_type": "execute_result"
    }
   ],
   "source": [
    "list_name=os.listdir(r\"H:\\Python+DS\\Computer_Vision\\wscube_openCV\")\n",
    "list_name"
   ]
  },
  {
   "cell_type": "code",
   "execution_count": 12,
   "metadata": {},
   "outputs": [
    {
     "ename": "error",
     "evalue": "OpenCV(4.8.0) D:\\a\\opencv-python\\opencv-python\\opencv\\modules\\imgproc\\src\\resize.cpp:4062: error: (-215:Assertion failed) !ssize.empty() in function 'cv::resize'\n",
     "output_type": "error",
     "traceback": [
      "\u001b[1;31m---------------------------------------------------------------------------\u001b[0m",
      "\u001b[1;31merror\u001b[0m                                     Traceback (most recent call last)",
      "\u001b[1;32mh:\\Python+DS\\Computer_Vision\\wscube_openCV\\cv2.ipynb Cell 8\u001b[0m line \u001b[0;36m7\n\u001b[0;32m      <a href='vscode-notebook-cell:/h%3A/Python%2BDS/Computer_Vision/wscube_openCV/cv2.ipynb#X10sZmlsZQ%3D%3D?line=4'>5</a>\u001b[0m img_name\u001b[39m=\u001b[39mpath\u001b[39m+\u001b[39m\u001b[39m\"\u001b[39m\u001b[39m\\\\\u001b[39;00m\u001b[39m\"\u001b[39m\u001b[39m+\u001b[39mname\n\u001b[0;32m      <a href='vscode-notebook-cell:/h%3A/Python%2BDS/Computer_Vision/wscube_openCV/cv2.ipynb#X10sZmlsZQ%3D%3D?line=5'>6</a>\u001b[0m img\u001b[39m=\u001b[39mcv2\u001b[39m.\u001b[39mimread(img_name)\n\u001b[1;32m----> <a href='vscode-notebook-cell:/h%3A/Python%2BDS/Computer_Vision/wscube_openCV/cv2.ipynb#X10sZmlsZQ%3D%3D?line=6'>7</a>\u001b[0m img\u001b[39m=\u001b[39mcv2\u001b[39m.\u001b[39mresize(img,(\u001b[39m500\u001b[39m,\u001b[39m600\u001b[39m))\n\u001b[0;32m      <a href='vscode-notebook-cell:/h%3A/Python%2BDS/Computer_Vision/wscube_openCV/cv2.ipynb#X10sZmlsZQ%3D%3D?line=7'>8</a>\u001b[0m cv2\u001b[39m.\u001b[39mimshow(\u001b[39m'\u001b[39m\u001b[39mAkash\u001b[39m\u001b[39m'\u001b[39m,img)\n\u001b[0;32m      <a href='vscode-notebook-cell:/h%3A/Python%2BDS/Computer_Vision/wscube_openCV/cv2.ipynb#X10sZmlsZQ%3D%3D?line=8'>9</a>\u001b[0m cv2\u001b[39m.\u001b[39mwaitKey(\u001b[39m0\u001b[39m)\n",
      "\u001b[1;31merror\u001b[0m: OpenCV(4.8.0) D:\\a\\opencv-python\\opencv-python\\opencv\\modules\\imgproc\\src\\resize.cpp:4062: error: (-215:Assertion failed) !ssize.empty() in function 'cv::resize'\n"
     ]
    }
   ],
   "source": [
    "list_name=os.listdir(r\"H:\\Python+DS\\Computer_Vision\\wscube_openCV\")\n",
    "\n",
    "for name in list_name:\n",
    "    path=\"H:\\\\Python+DS\\\\Computer_Vision\\\\wscube_openCV\"\n",
    "    img_name=path+\"\\\\\"+name\n",
    "    img=cv2.imread(img_name)\n",
    "    img=cv2.resize(img,(500,600))\n",
    "    cv2.imshow('Akash',img)\n",
    "    cv2.waitKey(0)\n",
    "cv2.destroyAllWindows()"
   ]
  },
  {
   "cell_type": "code",
   "execution_count": null,
   "metadata": {},
   "outputs": [],
   "source": []
  }
 ],
 "metadata": {
  "kernelspec": {
   "display_name": "base",
   "language": "python",
   "name": "python3"
  },
  "language_info": {
   "codemirror_mode": {
    "name": "ipython",
    "version": 3
   },
   "file_extension": ".py",
   "mimetype": "text/x-python",
   "name": "python",
   "nbconvert_exporter": "python",
   "pygments_lexer": "ipython3",
   "version": "3.11.4"
  }
 },
 "nbformat": 4,
 "nbformat_minor": 2
}
