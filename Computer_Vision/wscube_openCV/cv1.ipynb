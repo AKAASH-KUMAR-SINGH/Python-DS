{
 "cells": [
  {
   "cell_type": "code",
   "execution_count": 1,
   "metadata": {},
   "outputs": [],
   "source": [
    "import cv2"
   ]
  },
  {
   "cell_type": "code",
   "execution_count": 2,
   "metadata": {},
   "outputs": [],
   "source": [
    "# core,imgproc,imgcodecs,highgui,video,\n",
    "# clib3d,features2d,objdetect,dnn,ml,flann,\n",
    "# photo,stitching,shape,superres,viz,videostab"
   ]
  },
  {
   "cell_type": "code",
   "execution_count": 3,
   "metadata": {},
   "outputs": [],
   "source": [
    "# Read and Show Image"
   ]
  },
  {
   "cell_type": "markdown",
   "metadata": {},
   "source": [
    "Single window"
   ]
  },
  {
   "cell_type": "code",
   "execution_count": 10,
   "metadata": {},
   "outputs": [],
   "source": [
    "# img=cv2.imread('11.png')   #image read\n",
    "# cv2.imshow('Akash',img) #image show\n",
    "# cv2.waitKey(0)   # image fram wait time-ms  and 0 pass keyboard any key press\n",
    "# cv2.destroyAllWindows()     # all window close\n",
    "# # cv2.destroyWindow()         #only one window close\n"
   ]
  },
  {
   "cell_type": "markdown",
   "metadata": {},
   "source": [
    "Multiple window"
   ]
  },
  {
   "cell_type": "code",
   "execution_count": 14,
   "metadata": {},
   "outputs": [],
   "source": [
    "img=cv2.imread('11.png')   #image read\n",
    "cv2.imshow('Akash',img) #image show\n",
    "cv2.imshow('Akash 1',img) #image show\n",
    "cv2.waitKey(0)   # image fram wait time-ms  and 0 pass keyboard any key press\n",
    "cv2.destroyAllWindows()     # all window close\n",
    "# cv2.destroyWindow()         #only one window close\n"
   ]
  }
 ],
 "metadata": {
  "kernelspec": {
   "display_name": "base",
   "language": "python",
   "name": "python3"
  },
  "language_info": {
   "codemirror_mode": {
    "name": "ipython",
    "version": 3
   },
   "file_extension": ".py",
   "mimetype": "text/x-python",
   "name": "python",
   "nbconvert_exporter": "python",
   "pygments_lexer": "ipython3",
   "version": "3.11.4"
  }
 },
 "nbformat": 4,
 "nbformat_minor": 2
}
