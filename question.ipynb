{
 "cells": [
  {
   "cell_type": "code",
   "execution_count": 1,
   "metadata": {},
   "outputs": [],
   "source": [
    "a=[1,2,1,3,4,5,6,1,2,2,2,3,3,5]"
   ]
  },
  {
   "cell_type": "code",
   "execution_count": 2,
   "metadata": {},
   "outputs": [
    {
     "name": "stdout",
     "output_type": "stream",
     "text": [
      "[1, 8, 9, 10]\n"
     ]
    }
   ],
   "source": [
    "search=2\n",
    "cnt=a.count(search)\n",
    "start=0\n",
    "result=[]\n",
    "for i in range(cnt):\n",
    "    idx=a.index(search,start)\n",
    "    start=idx+1\n",
    "    result.append(idx)\n",
    "print(result)"
   ]
  },
  {
   "cell_type": "code",
   "execution_count": 3,
   "metadata": {},
   "outputs": [],
   "source": [
    "# WAP to cal. Fibbinachi series."
   ]
  },
  {
   "cell_type": "code",
   "execution_count": 4,
   "metadata": {},
   "outputs": [
    {
     "name": "stdout",
     "output_type": "stream",
     "text": [
      "[0, 1, 1, 2, 3, 5, 8]\n"
     ]
    }
   ],
   "source": [
    "num=int(input(\"enter a number\"))\n",
    "fib=[0,1]\n",
    "for i in range(num):\n",
    "    fib.append(fib[-1]+fib[-2])\n",
    "print(fib)"
   ]
  },
  {
   "cell_type": "code",
   "execution_count": 5,
   "metadata": {},
   "outputs": [],
   "source": [
    "# WAP to cal.factorial of a number."
   ]
  },
  {
   "cell_type": "code",
   "execution_count": 7,
   "metadata": {},
   "outputs": [
    {
     "name": "stdout",
     "output_type": "stream",
     "text": [
      "120\n"
     ]
    }
   ],
   "source": [
    "num=int(input(\"Enter a number\"))\n",
    "fact=1\n",
    "for i in range(1,num+1):\n",
    "    fact=fact*i\n",
    "print(fact)"
   ]
  },
  {
   "cell_type": "code",
   "execution_count": 10,
   "metadata": {},
   "outputs": [
    {
     "name": "stdout",
     "output_type": "stream",
     "text": [
      "['blue', 'white', 'purple', 'orange']\n"
     ]
    }
   ],
   "source": [
    "colors=['red','green','blue','yellow','white','black','pink','purple','orange']\n",
    "Color=[]\n",
    "for c in colors:\n",
    "    if c.endswith('e'):\n",
    "        Color.append(c)\n",
    "print(Color)"
   ]
  },
  {
   "cell_type": "code",
   "execution_count": 11,
   "metadata": {},
   "outputs": [
    {
     "name": "stdout",
     "output_type": "stream",
     "text": [
      "['red', 'green', 'blue', 'yellow', 'white', 'black', 'purple', 'orange']\n"
     ]
    }
   ],
   "source": [
    "colors_having_ane=[]\n",
    "for c in colors:\n",
    "    if 'a' in c or 'e' in c:\n",
    "        colors_having_ane.append(c)\n",
    "print(colors_having_ane) "
   ]
  },
  {
   "cell_type": "code",
   "execution_count": 12,
   "metadata": {},
   "outputs": [
    {
     "name": "stdout",
     "output_type": "stream",
     "text": [
      "[3, 4, 5, 6, 7, 8, 9, 10, 11, 12]\n"
     ]
    }
   ],
   "source": [
    "#mapping\n",
    "a=[1,2,3,4,5,6,7,8,9,10]\n",
    "a2=[]\n",
    "for num in a:\n",
    "    a2.append(num+2)\n",
    "print(a2)"
   ]
  },
  {
   "cell_type": "code",
   "execution_count": 14,
   "metadata": {},
   "outputs": [
    {
     "name": "stdout",
     "output_type": "stream",
     "text": [
      "[1, 4, 9, 16, 25, 36, 49, 64, 81, 100]\n"
     ]
    }
   ],
   "source": [
    "sqrt=[]\n",
    "for i in a:\n",
    "    sqrt.append(i**2)\n",
    "print(sqrt)"
   ]
  },
  {
   "cell_type": "code",
   "execution_count": 16,
   "metadata": {},
   "outputs": [
    {
     "name": "stdout",
     "output_type": "stream",
     "text": [
      "[0, 4, 16, 36, 64]\n"
     ]
    }
   ],
   "source": [
    "even_sqrt=[]\n",
    "for i in range(len(a)):\n",
    "    if i%2==0:\n",
    "        even_sqrt.append(i**2)\n",
    "print(even_sqrt)"
   ]
  },
  {
   "cell_type": "code",
   "execution_count": 27,
   "metadata": {},
   "outputs": [
    {
     "name": "stdout",
     "output_type": "stream",
     "text": [
      "['AK', 'VS', 'RK', 'RS', 'HP', 'AG']\n"
     ]
    }
   ],
   "source": [
    "full_name=['Amar Kumar','Vijay Singh','Rajesh Kumar','Rajesh Singh','Harish Pandey','Ajay Kumar Garg']\n",
    "short_list=[]\n",
    "for i in full_name:\n",
    "    words=i.split()\n",
    "    short_list.append((words[0][0]+words[-1][0]))\n",
    "print(short_list)"
   ]
  },
  {
   "cell_type": "code",
   "execution_count": null,
   "metadata": {},
   "outputs": [],
   "source": []
  }
 ],
 "metadata": {
  "kernelspec": {
   "display_name": "base",
   "language": "python",
   "name": "python3"
  },
  "language_info": {
   "codemirror_mode": {
    "name": "ipython",
    "version": 3
   },
   "file_extension": ".py",
   "mimetype": "text/x-python",
   "name": "python",
   "nbconvert_exporter": "python",
   "pygments_lexer": "ipython3",
   "version": "3.11.4"
  },
  "orig_nbformat": 4
 },
 "nbformat": 4,
 "nbformat_minor": 2
}
