{
 "cells": [
  {
   "cell_type": "code",
   "execution_count": 1,
   "metadata": {},
   "outputs": [
    {
     "name": "stdout",
     "output_type": "stream",
     "text": [
      "Leave $7.50\n"
     ]
    }
   ],
   "source": [
    "def main():\n",
    "    dollars = dollars_to_float(input(\"How much was the meal? \"))\n",
    "    percent = percent_to_float(input(\"What percentage would you like to tip? \"))\n",
    "    tip = float(dollars) * float(percent)/100\n",
    "    print(f\"Leave ${tip:.2f}\")\n",
    "\n",
    "\n",
    "\n",
    "def dollars_to_float(d):\n",
    "    return d.removeprefix('$')\n",
    "\n",
    "\n",
    "def percent_to_float(p):\n",
    "    return p.removesuffix('%')\n",
    "\n",
    "main()"
   ]
  },
  {
   "cell_type": "code",
   "execution_count": 2,
   "metadata": {},
   "outputs": [
    {
     "name": "stdout",
     "output_type": "stream",
     "text": [
      "yes\n"
     ]
    }
   ],
   "source": [
    "String=input(\"What is the Answer to the Great Question of Life, the Universe, and Everything?\").lower()\n",
    "if((String==\"42\") or(String==\"fourty-two\")or(String==\"fourty two\")):\n",
    "    print(\"yes\")\n",
    "else:\n",
    "    print(\"No\")"
   ]
  },
  {
   "cell_type": "code",
   "execution_count": 3,
   "metadata": {},
   "outputs": [
    {
     "name": "stdout",
     "output_type": "stream",
     "text": [
      "$0\n"
     ]
    }
   ],
   "source": [
    "String=input(\"\").lower()\n",
    "if String[0]!=\"h\":\n",
    "    print(\"$100\")\n",
    "elif String==\"hello\":\n",
    "    print(\"$0\")\n",
    "else:\n",
    "    print(\"$20\")"
   ]
  },
  {
   "cell_type": "code",
   "execution_count": null,
   "metadata": {},
   "outputs": [],
   "source": []
  }
 ],
 "metadata": {
  "kernelspec": {
   "display_name": "base",
   "language": "python",
   "name": "python3"
  },
  "language_info": {
   "codemirror_mode": {
    "name": "ipython",
    "version": 3
   },
   "file_extension": ".py",
   "mimetype": "text/x-python",
   "name": "python",
   "nbconvert_exporter": "python",
   "pygments_lexer": "ipython3",
   "version": "3.11.4"
  },
  "orig_nbformat": 4
 },
 "nbformat": 4,
 "nbformat_minor": 2
}
