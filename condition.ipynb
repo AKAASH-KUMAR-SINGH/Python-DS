{
 "cells": [
  {
   "cell_type": "code",
   "execution_count": 1,
   "metadata": {},
   "outputs": [],
   "source": [
    "#condition\n",
    "# -->if\n",
    "#      -->if, if-else,if-elif-else\n",
    "#-->match"
   ]
  },
  {
   "cell_type": "code",
   "execution_count": null,
   "metadata": {},
   "outputs": [],
   "source": []
  },
  {
   "cell_type": "code",
   "execution_count": 2,
   "metadata": {},
   "outputs": [],
   "source": [
    "x=input(\"Enter your name:\")"
   ]
  },
  {
   "cell_type": "code",
   "execution_count": 3,
   "metadata": {},
   "outputs": [
    {
     "data": {
      "text/plain": [
       "'akash'"
      ]
     },
     "execution_count": 3,
     "metadata": {},
     "output_type": "execute_result"
    }
   ],
   "source": [
    "x"
   ]
  },
  {
   "cell_type": "code",
   "execution_count": 4,
   "metadata": {},
   "outputs": [],
   "source": [
    "x=input(\"Enter the College name:\")"
   ]
  },
  {
   "cell_type": "code",
   "execution_count": 5,
   "metadata": {},
   "outputs": [
    {
     "data": {
      "text/plain": [
       "'itm'"
      ]
     },
     "execution_count": 5,
     "metadata": {},
     "output_type": "execute_result"
    }
   ],
   "source": [
    "x"
   ]
  },
  {
   "cell_type": "code",
   "execution_count": 6,
   "metadata": {},
   "outputs": [
    {
     "data": {
      "text/plain": [
       "3"
      ]
     },
     "execution_count": 6,
     "metadata": {},
     "output_type": "execute_result"
    }
   ],
   "source": [
    "len(x)"
   ]
  },
  {
   "cell_type": "code",
   "execution_count": 7,
   "metadata": {},
   "outputs": [
    {
     "name": "stdout",
     "output_type": "stream",
     "text": [
      "your letter is not equal to 3\n"
     ]
    }
   ],
   "source": [
    "if len(x)==12:\n",
    "    print(\"Your letter is\",len(x))\n",
    "else:\n",
    "    print(\"your letter is not equal to\",len(x))"
   ]
  },
  {
   "cell_type": "code",
   "execution_count": 8,
   "metadata": {},
   "outputs": [
    {
     "name": "stdout",
     "output_type": "stream",
     "text": [
      "Sorry,Your are not eligable\n"
     ]
    }
   ],
   "source": [
    "x=int(input(\"enter your age:\"))\n",
    "if x>=18:\n",
    "    print(\"You are eligable for vote\")\n",
    "else:\n",
    "    print(\"Sorry,Your are not eligable\")"
   ]
  },
  {
   "cell_type": "code",
   "execution_count": 9,
   "metadata": {},
   "outputs": [
    {
     "name": "stdout",
     "output_type": "stream",
     "text": [
      "number is not divisible\n"
     ]
    }
   ],
   "source": [
    "num=int(input(\"enter the number to check number is divisible by 4\"))\n",
    "if num%4==0:\n",
    "    print(\"Number is divisible\")\n",
    "else:\n",
    "    print(\"number is not divisible\")"
   ]
  },
  {
   "cell_type": "code",
   "execution_count": 10,
   "metadata": {},
   "outputs": [
    {
     "name": "stdout",
     "output_type": "stream",
     "text": [
      "12 is greater\n"
     ]
    }
   ],
   "source": [
    "num1=int(input(\"Enter the first number\"))\n",
    "num2=int(input(\"Enter the second number\"))\n",
    "num3=int(input(\"nter the third number\"))\n",
    "if num1>num2 and num1>num3:\n",
    "    print(num1,\"is greater\")\n",
    "elif num2>num1 and num2>num3:\n",
    "    print(num2,\"is greater\")\n",
    "else:\n",
    "    print(num3,\"is greater\")"
   ]
  },
  {
   "cell_type": "code",
   "execution_count": 11,
   "metadata": {},
   "outputs": [
    {
     "name": "stdout",
     "output_type": "stream",
     "text": [
      "You choose correct day\n"
     ]
    }
   ],
   "source": [
    "day=input(\"enter the day:\")\n",
    "match(day):\n",
    "    case 'monday':print('You choose monday')\n",
    "    case 'tuesday':print('You choose tuesday')\n",
    "    case 'wednesday':print('You choose wednesday')\n",
    "    case 'thrusday':print('You choose thrusday')\n",
    "    case 'friday':print('You choose friday')\n",
    "    case 'saturaday':print('You choose saturaday')\n",
    "    case 'sunday':print('You choose sunday')\n",
    "    case _:print('You choose correct day')"
   ]
  },
  {
   "cell_type": "code",
   "execution_count": 12,
   "metadata": {},
   "outputs": [
    {
     "name": "stdout",
     "output_type": "stream",
     "text": [
      "1200 -->>2100.0\n"
     ]
    }
   ],
   "source": [
    "amount=int(input(\"enter your Basic salary\"))\n",
    "if amount>1000 or amount<10000:\n",
    "    total=amount+amount*.75\n",
    "elif amount>=10000 or amount<50000:\n",
    "    total=amount+amount*.50\n",
    "elif amount>=50000 or amount<100000:\n",
    "    total=total+total*.25\n",
    "else:\n",
    "    total=amount+amount*.1\n",
    "print(f'{amount} -->>{total}')"
   ]
  },
  {
   "cell_type": "code",
   "execution_count": 13,
   "metadata": {},
   "outputs": [
    {
     "name": "stdout",
     "output_type": "stream",
     "text": [
      "Simple interest is :17280.0\n"
     ]
    }
   ],
   "source": [
    "p=int(input(\"enter principal amount :\"))\n",
    "r=int(input(\"enter the rate :\"))\n",
    "t=int(input(\"enter the time\"))\n",
    "Si=(p*r*t)/100\n",
    "print(f'Simple interest is :{Si}')"
   ]
  },
  {
   "cell_type": "code",
   "execution_count": 67,
   "metadata": {},
   "outputs": [
    {
     "name": "stdout",
     "output_type": "stream",
     "text": [
      "40   41\n",
      "(   41\n",
      "93   94\n",
      "(   94\n"
     ]
    }
   ],
   "source": [
    "s=\"([]\"\n",
    "count=0\n",
    "\n",
    "for i in range(0,len(s),2):\n",
    "    print(ord(s[i]),\" \",ord(s[i])+1)\n",
    "    print(chr(40),\" \",ord(s[i])+1)\n",
    "    if s[i]=='(':\n",
    "        if ord(s[i])+1==ord(s[i+1]):\n",
    "            print(true)\n",
    "    elif s[i]=='{':\n",
    "        if ord(s[i])==ord(s[i+2]):\n",
    "            count=0\n",
    "    elif s[i]=='[':\n",
    "        if ord(s[i])==ord(s[i+2]):\n",
    "            count=0\n",
    "    else:\n",
    "        count+1"
   ]
  },
  {
   "cell_type": "code",
   "execution_count": 66,
   "metadata": {},
   "outputs": [
    {
     "name": "stdout",
     "output_type": "stream",
     "text": [
      "true\n"
     ]
    }
   ],
   "source": [
    "if count==0:\n",
    "    print(\"true\")\n",
    "else:\n",
    "    print(\"false\")"
   ]
  },
  {
   "cell_type": "code",
   "execution_count": null,
   "metadata": {},
   "outputs": [],
   "source": []
  }
 ],
 "metadata": {
  "kernelspec": {
   "display_name": "base",
   "language": "python",
   "name": "python3"
  },
  "language_info": {
   "codemirror_mode": {
    "name": "ipython",
    "version": 3
   },
   "file_extension": ".py",
   "mimetype": "text/x-python",
   "name": "python",
   "nbconvert_exporter": "python",
   "pygments_lexer": "ipython3",
   "version": "3.11.4"
  },
  "orig_nbformat": 4
 },
 "nbformat": 4,
 "nbformat_minor": 2
}
