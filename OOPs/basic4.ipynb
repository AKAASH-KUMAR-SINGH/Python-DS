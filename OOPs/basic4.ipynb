{
 "cells": [
  {
   "cell_type": "code",
   "execution_count": null,
   "metadata": {},
   "outputs": [
    {
     "ename": "",
     "evalue": "",
     "output_type": "error",
     "traceback": [
      "\u001b[1;31mRunning cells with 'base' requires the ipykernel package.\n",
      "\u001b[1;31mRun the following command to install 'ipykernel' into the Python environment. \n",
      "\u001b[1;31mCommand: 'conda install -n base ipykernel --update-deps --force-reinstall'"
     ]
    }
   ],
   "source": [
    "class Person:\n",
    "    def __init__(self,name,age):\n",
    "        self.name=name\n",
    "        self.age=age\n",
    "    # to string method\n",
    "    def __str__(self):\n",
    "        return self.name\n",
    "    #representation method\n",
    "    def __repr__(self):\n",
    "        return f'Person({self.name})'\n",
    "    \n",
    "    # greater than operator overloading\n",
    "    def __gt__(self,other):\n",
    "        if isinstance(other,Person):\n",
    "            return self.age > other.age\n",
    "        else:\n",
    "            raise TypeError('Invalid type')"
   ]
  },
  {
   "cell_type": "code",
   "execution_count": null,
   "metadata": {},
   "outputs": [
    {
     "ename": "",
     "evalue": "",
     "output_type": "error",
     "traceback": [
      "\u001b[1;31mRunning cells with 'base' requires the ipykernel package.\n",
      "\u001b[1;31mRun the following command to install 'ipykernel' into the Python environment. \n",
      "\u001b[1;31mCommand: 'conda install -n base ipykernel --update-deps --force-reinstall'"
     ]
    }
   ],
   "source": [
    "p1=Person('Raj',20)\n",
    "p3=Person(\"Rohan\",22)\n",
    "p2=Person(\"rahul\",21)"
   ]
  },
  {
   "cell_type": "code",
   "execution_count": null,
   "metadata": {},
   "outputs": [
    {
     "ename": "",
     "evalue": "",
     "output_type": "error",
     "traceback": [
      "\u001b[1;31mRunning cells with 'base' requires the ipykernel package.\n",
      "\u001b[1;31mRun the following command to install 'ipykernel' into the Python environment. \n",
      "\u001b[1;31mCommand: 'conda install -n base ipykernel --update-deps --force-reinstall'"
     ]
    }
   ],
   "source": [
    "print(p1,p2,p3)"
   ]
  },
  {
   "cell_type": "code",
   "execution_count": null,
   "metadata": {},
   "outputs": [],
   "source": [
    "class Coder:\n",
    "    def __init__(self,language,level=1):\n",
    "        self.language=language\n",
    "        self.level=level\n",
    "    def info(self):\n",
    "        print(f'Language:{self.lanuage}')\n",
    "        print(f'Level:{self.level}')\n",
    "\n",
    "class Criketer:\n",
    "    def __init__(self,type='Batman'):\n",
    "        self.type=type\n",
    "\n",
    "class Chef:\n",
    "    def __init__(self,cuisine=\"Indian\"):\n",
    "        self.cuisine=cuisine\n",
    "    def info(self):\n",
    "        print(f'Cuisine:{self.cuisine}')\n",
    "    \n",
    "class SkilledPerson(Coder,Criketer,Chef):\n",
    "    def __init__(self, language,playingType,cuisine langlevel=1):\n",
    "        Coder.__init__(self,language,langlevel)\n",
    "        Criketer.__init__(self,playingType)\n",
    "        Chef.__init__(self,cuisine)\n",
    "        self.name=name\n",
    "\n",
    "    #method overloading\n",
    "    def info(self):\n",
    "        print(f'Name: {self.name}')\n",
    "        Coder.info(self)\n",
    "        print(f'Playing Type:{self.type}')\n",
    "        Chef.info(self)\n",
    "\n",
    "s1=SkillwdPerson('Rahul','Python',\"Bowler\",'Italian')\n",
    "s2=SkilledPerson('Raj','Java',\"Batsman\",'Indian')\n",
    "s1.info()\n",
    "s2.info()\n"
   ]
  }
 ],
 "metadata": {
  "kernelspec": {
   "display_name": "base",
   "language": "python",
   "name": "python3"
  },
  "language_info": {
   "name": "python",
   "version": "3.11.4"
  },
  "orig_nbformat": 4
 },
 "nbformat": 4,
 "nbformat_minor": 2
}
