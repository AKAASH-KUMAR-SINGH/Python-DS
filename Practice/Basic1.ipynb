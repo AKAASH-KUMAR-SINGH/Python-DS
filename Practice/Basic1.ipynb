{
 "cells": [
  {
   "cell_type": "markdown",
   "metadata": {},
   "source": [
    "#   Global Variable"
   ]
  },
  {
   "cell_type": "code",
   "execution_count": 1,
   "metadata": {},
   "outputs": [
    {
     "name": "stdout",
     "output_type": "stream",
     "text": [
      "20\n",
      "20\n"
     ]
    }
   ],
   "source": [
    "a=10\n",
    "def my_fun():\n",
    "    global a\n",
    "    a=20\n",
    "    print(a)\n",
    "my_fun()\n",
    "print(a)"
   ]
  },
  {
   "cell_type": "code",
   "execution_count": 2,
   "metadata": {},
   "outputs": [
    {
     "name": "stdout",
     "output_type": "stream",
     "text": [
      "richard  is age  80\n",
      "john  is age  12\n",
      "paul  is age  8\n"
     ]
    }
   ],
   "source": [
    "friends={'richard':80,'john':12,'paul':8}\n",
    "for name,age in friends.items():\n",
    "    print(name,\" is age \",age)"
   ]
  },
  {
   "cell_type": "code",
   "execution_count": 4,
   "metadata": {},
   "outputs": [
    {
     "name": "stdout",
     "output_type": "stream",
     "text": [
      "Akash  is age  12\n",
      "Vicky  is age  60\n",
      "vijay  is age  45\n",
      "allu  is age  23\n",
      "ntr  is age  45\n"
     ]
    }
   ],
   "source": [
    "#   Exercise \n",
    "    # Change the program so it contain 5 of your friend age.\n",
    "\n",
    "friends={'Akash':12,\"Vicky\":60,'vijay':45,'allu':23,'ntr':45}\n",
    "for name,age in friends.items():\n",
    "    print(name,' is age ',age)"
   ]
  },
  {
   "cell_type": "code",
   "execution_count": 6,
   "metadata": {},
   "outputs": [
    {
     "name": "stdout",
     "output_type": "stream",
     "text": [
      "Vicky age is  60\n",
      "vijay age is  45\n",
      "allu age is  23\n"
     ]
    }
   ],
   "source": [
    "#   Exercise\n",
    "    # Can you add an if statement to only print the age of friends older than 10?\n",
    "\n",
    "friends={'Akash':2,\"Vicky\":60,'vijay':45,'allu':23,'ntr':4}\n",
    "count=0\n",
    "for name,age in friends.items():\n",
    "    if age>10:  \n",
    "        print(name,\"age is \",age)\n"
   ]
  },
  {
   "cell_type": "code",
   "execution_count": 10,
   "metadata": {},
   "outputs": [
    {
     "name": "stdout",
     "output_type": "stream",
     "text": [
      "friend older than 10: 3\n"
     ]
    }
   ],
   "source": [
    "#   Exercise\n",
    "    # Can you add an if statement to only print the age of friends older than 10?\n",
    "\n",
    "friends={'Akash':2,\"Vicky\":60,'vijay':45,'allu':23,'ntr':4}\n",
    "count=0\n",
    "for name,age in friends.items():\n",
    "    if age>10:\n",
    "        count+=1\n",
    "print(\"friend older than 10:\",count)"
   ]
  },
  {
   "cell_type": "code",
   "execution_count": 11,
   "metadata": {},
   "outputs": [
    {
     "name": "stdout",
     "output_type": "stream",
     "text": [
      "friends age between 11 to 13 : 0\n"
     ]
    }
   ],
   "source": [
    "friends={'Akash':2,\"Vicky\":60,'vijay':45,'allu':23,'ntr':4}\n",
    "count=0\n",
    "for name,age in friends.items():\n",
    "    if age>10 and age<14:\n",
    "        count+=1\n",
    "print(\"friends age between 11 to 13 :\",count)"
   ]
  },
  {
   "cell_type": "code",
   "execution_count": 13,
   "metadata": {},
   "outputs": [
    {
     "name": "stdout",
     "output_type": "stream",
     "text": [
      "Oldest age: 60\n"
     ]
    }
   ],
   "source": [
    "friends={'Akash':2,\"Vicky\":60,'vijay':45,'allu':23,'ntr':4}\n",
    "older=0\n",
    "for name,age in friends.items():\n",
    "    if age>older:\n",
    "        older=age\n",
    "print(\"Oldest age:\" ,older)"
   ]
  },
  {
   "cell_type": "code",
   "execution_count": 15,
   "metadata": {},
   "outputs": [
    {
     "name": "stdout",
     "output_type": "stream",
     "text": [
      "Oldest age : 60\n",
      "Youngest age : 2\n"
     ]
    }
   ],
   "source": [
    "friends={'Akash':2,\"Vicky\":60,'vijay':45,'allu':23,'ntr':4}\n",
    "older=0\n",
    "young=100\n",
    "for name,age in friends.items():\n",
    "    if age>older:\n",
    "        older=age\n",
    "    if age<young:\n",
    "        young=age\n",
    "print(\"Oldest age :\",older)\n",
    "print(\"Youngest age :\",young)"
   ]
  },
  {
   "cell_type": "code",
   "execution_count": 16,
   "metadata": {},
   "outputs": [
    {
     "name": "stdout",
     "output_type": "stream",
     "text": [
      "Oldest age : Vicky\n",
      "Youngest age : Akash\n"
     ]
    }
   ],
   "source": [
    "friends={'Akash':2,\"Vicky\":60,'vijay':45,'allu':23,'ntr':4}\n",
    "older=0\n",
    "young=100\n",
    "for name,age in friends.items():\n",
    "    if age>older:\n",
    "        older=age\n",
    "        oldname=name\n",
    "    if age<young:\n",
    "        young=age\n",
    "        youngname=name\n",
    "print(\"Oldest age :\",oldname)\n",
    "print(\"Youngest age :\",youngname)"
   ]
  },
  {
   "cell_type": "code",
   "execution_count": 17,
   "metadata": {},
   "outputs": [
    {
     "name": "stdout",
     "output_type": "stream",
     "text": [
      "average age is : 44.666666666666664\n"
     ]
    }
   ],
   "source": [
    "friends={'Akash':2,\"Vicky\":60,'vijay':45,'allu':23,'ntr':4}\n",
    "total=0\n",
    "for name,age in friends.items():\n",
    "    total=total+age\n",
    "avg=total/3\n",
    "print(\"average age is :\",avg)"
   ]
  },
  {
   "cell_type": "code",
   "execution_count": 19,
   "metadata": {},
   "outputs": [
    {
     "name": "stdout",
     "output_type": "stream",
     "text": [
      "What is 6 + 7 ?\n",
      "Correct\n"
     ]
    }
   ],
   "source": [
    "#   Exercise\n",
    "#  A random maths question\n",
    "\n",
    "import random\n",
    "n=random.randint(0,10)\n",
    "print(\"What is\", n,\"+ 7 ?\")\n",
    "g=int(input())\n",
    "if g==n+7:\n",
    "    print(\"Correct\")\n",
    "else:\n",
    "    print(\"Wrong\")"
   ]
  },
  {
   "cell_type": "code",
   "execution_count": 25,
   "metadata": {},
   "outputs": [
    {
     "name": "stdout",
     "output_type": "stream",
     "text": [
      "what is  75 - 13\n",
      "correct\n"
     ]
    }
   ],
   "source": [
    "#   Exercise\n",
    "#  A random maths question\n",
    "n=random.randint(0,100)\n",
    "print(\"what is \",n,\"- 13\")\n",
    "q=int(input())\n",
    "if q==n-13:\n",
    "    print(\"correct\")\n",
    "else:\n",
    "    print(\"Wrong\")"
   ]
  },
  {
   "cell_type": "code",
   "execution_count": 27,
   "metadata": {},
   "outputs": [
    {
     "name": "stdout",
     "output_type": "stream",
     "text": [
      "what is  73 - 13\n",
      "Wrong\n"
     ]
    }
   ],
   "source": [
    "score=0\n",
    "n=random.randint(0,100)\n",
    "print(\"what is \",n,\"- 13\")\n",
    "q=int(input())\n",
    "if q==n-13:\n",
    "    print(\"correct\")\n",
    "else:\n",
    "    print(\"Wrong\")"
   ]
  },
  {
   "cell_type": "code",
   "execution_count": null,
   "metadata": {},
   "outputs": [],
   "source": []
  }
 ],
 "metadata": {
  "kernelspec": {
   "display_name": "base",
   "language": "python",
   "name": "python3"
  },
  "language_info": {
   "codemirror_mode": {
    "name": "ipython",
    "version": 3
   },
   "file_extension": ".py",
   "mimetype": "text/x-python",
   "name": "python",
   "nbconvert_exporter": "python",
   "pygments_lexer": "ipython3",
   "version": "3.11.4"
  },
  "orig_nbformat": 4
 },
 "nbformat": 4,
 "nbformat_minor": 2
}
