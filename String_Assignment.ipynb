{
 "cells": [
  {
   "cell_type": "markdown",
   "metadata": {},
   "source": [
    "Welcome To String Assignment"
   ]
  },
  {
   "cell_type": "code",
   "execution_count": 1,
   "metadata": {},
   "outputs": [
    {
     "name": "stdout",
     "output_type": "stream",
     "text": [
      "My Name is Akash Kumar Singh\n"
     ]
    }
   ],
   "source": [
    "# ------------>>Ques1 :<<---------------\n",
    "# Create a string and print it.\n",
    "\n",
    "string=\"My Name is Akash Kumar Singh\"\n",
    "print(string)"
   ]
  },
  {
   "cell_type": "code",
   "execution_count": 2,
   "metadata": {},
   "outputs": [
    {
     "name": "stdout",
     "output_type": "stream",
     "text": [
      "10\n"
     ]
    }
   ],
   "source": [
    "# ------------>>Ques2 :<<---------------\n",
    "# Take a string input and print it's length.\n",
    "\n",
    "Name=input(\"Enter your name to count the length \")\n",
    "print(len(Name))"
   ]
  },
  {
   "cell_type": "code",
   "execution_count": 3,
   "metadata": {},
   "outputs": [
    {
     "name": "stdout",
     "output_type": "stream",
     "text": [
      "t\n"
     ]
    }
   ],
   "source": [
    "# ------------>>Ques3 :<<---------------\n",
    "# Print the last word of the string Python is great using slices.\n",
    "\n",
    "string=\"Python is great\"\n",
    "print(string[-1])"
   ]
  },
  {
   "cell_type": "code",
   "execution_count": 4,
   "metadata": {},
   "outputs": [
    {
     "name": "stdout",
     "output_type": "stream",
     "text": [
      "p\n",
      "y\n",
      "t\n",
      "h\n",
      "o\n",
      "n\n",
      " \n",
      "i\n",
      "s\n",
      " \n",
      "e\n",
      "v\n",
      "e\n",
      "r\n",
      "y\n",
      "w\n",
      "h\n",
      "e\n",
      "r\n",
      "e\n"
     ]
    }
   ],
   "source": [
    "# ------------>>Ques4 :<<---------------\n",
    "# Print the each word in different line of string python is everywhere.\n",
    "\n",
    "String=\"python is everywhere\"\n",
    "for i in String:\n",
    "    print(i,end='\\n')"
   ]
  },
  {
   "cell_type": "code",
   "execution_count": 10,
   "metadata": {},
   "outputs": [
    {
     "name": "stdout",
     "output_type": "stream",
     "text": [
      "!dlroW olleH\n"
     ]
    }
   ],
   "source": [
    "# ------------>>Ques5 :<<---------------\n",
    "# Print the string Hello World! in reverse.\n",
    "\n",
    "string='Hello World!'\n",
    "print(string[::-1])"
   ]
  },
  {
   "cell_type": "code",
   "execution_count": 11,
   "metadata": {},
   "outputs": [
    {
     "name": "stdout",
     "output_type": "stream",
     "text": [
      "how are you?\n"
     ]
    }
   ],
   "source": [
    "# ------------>>Ques6 :<<---------------\n",
    "# Convert the string 'How are you?' in uppercase.\n",
    "\n",
    "string=\"How are you?\"\n",
    "print(string.lower())"
   ]
  },
  {
   "cell_type": "code",
   "execution_count": 12,
   "metadata": {},
   "outputs": [
    {
     "name": "stdout",
     "output_type": "stream",
     "text": [
      "HOW ARE YOU?\n"
     ]
    }
   ],
   "source": [
    "# ------------>>Ques7 :<<---------------\n",
    "# Convert the string How are you? in uppercase.\n",
    "\n",
    "string=\"How are you?\"\n",
    "print(string.upper())"
   ]
  },
  {
   "cell_type": "code",
   "execution_count": 45,
   "metadata": {},
   "outputs": [
    {
     "name": "stdout",
     "output_type": "stream",
     "text": [
      "Python is easy to learn\n",
      "Python is easy to learn\n"
     ]
    }
   ],
   "source": [
    "# ------------>>Ques8 :<<---------------\n",
    "# Join the following list by spaces( ) and print the result.\n",
    "\n",
    "words = ['Python', 'is', 'easy', 'to', 'learn']\n",
    "x=' '\n",
    "for i in words:\n",
    "    x+=i+\" \"\n",
    "    # x.strip()\n",
    "print(x.strip())\n",
    "print(' '.join(words))"
   ]
  },
  {
   "cell_type": "code",
   "execution_count": 46,
   "metadata": {},
   "outputs": [
    {
     "name": "stdout",
     "output_type": "stream",
     "text": [
      "this is python programing\n",
      "language demanding in future.\n"
     ]
    }
   ],
   "source": [
    "# ------------>>Ques9 :<<---------------\n",
    "# Print a multiline string using a single print.\n",
    "\n",
    "print('''this is python programing\n",
    "language demanding in future.''')"
   ]
  },
  {
   "cell_type": "code",
   "execution_count": null,
   "metadata": {},
   "outputs": [],
   "source": []
  }
 ],
 "metadata": {
  "kernelspec": {
   "display_name": "base",
   "language": "python",
   "name": "python3"
  },
  "language_info": {
   "codemirror_mode": {
    "name": "ipython",
    "version": 3
   },
   "file_extension": ".py",
   "mimetype": "text/x-python",
   "name": "python",
   "nbconvert_exporter": "python",
   "pygments_lexer": "ipython3",
   "version": "3.11.4"
  },
  "orig_nbformat": 4
 },
 "nbformat": 4,
 "nbformat_minor": 2
}
