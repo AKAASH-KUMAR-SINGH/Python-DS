{
 "cells": [
  {
   "cell_type": "code",
   "execution_count": 1,
   "metadata": {},
   "outputs": [
    {
     "name": "stdout",
     "output_type": "stream",
     "text": [
      "<class 'str'>\n",
      "<class 'str'>\n",
      "<class 'str'>\n"
     ]
    }
   ],
   "source": [
    "a='apple'\n",
    "b=\"Banana\"\n",
    "c='''this a string \n",
    "of multiple \n",
    "lines'''\n",
    "print(type(a))\n",
    "print(type(b))\n",
    "print(type(c))"
   ]
  },
  {
   "cell_type": "code",
   "execution_count": 10,
   "metadata": {},
   "outputs": [],
   "source": [
    "# String\n",
    " #   create\n",
    "  #  index and slice\n",
    "   # methods -->"
   ]
  },
  {
   "cell_type": "code",
   "execution_count": 2,
   "metadata": {},
   "outputs": [
    {
     "name": "stdout",
     "output_type": "stream",
     "text": [
      "<class 'str'>\n"
     ]
    }
   ],
   "source": [
    "d=str(123)\n",
    "print(type(d))"
   ]
  },
  {
   "cell_type": "code",
   "execution_count": 3,
   "metadata": {},
   "outputs": [
    {
     "name": "stdout",
     "output_type": "stream",
     "text": [
      "<class 'str'>\n"
     ]
    }
   ],
   "source": [
    "name=input(type(\"enter your name\"))\n",
    "print(type(name))"
   ]
  },
  {
   "cell_type": "code",
   "execution_count": 5,
   "metadata": {},
   "outputs": [
    {
     "name": "stdout",
     "output_type": "stream",
     "text": [
      "<class 'int'>\n",
      "<class 'str'>\n"
     ]
    }
   ],
   "source": [
    "num=int(input(\"Enter any number\"))\n",
    "print(type(num))\n",
    "num=str(num)\n",
    "print(type(num))"
   ]
  },
  {
   "cell_type": "code",
   "execution_count": 7,
   "metadata": {},
   "outputs": [
    {
     "data": {
      "text/plain": [
       "'akashakashakashakashakash'"
      ]
     },
     "execution_count": 7,
     "metadata": {},
     "output_type": "execute_result"
    }
   ],
   "source": [
    "name*5  #String duplication"
   ]
  },
  {
   "cell_type": "code",
   "execution_count": 9,
   "metadata": {},
   "outputs": [
    {
     "data": {
      "text/plain": [
       "'123akash'"
      ]
     },
     "execution_count": 9,
     "metadata": {},
     "output_type": "execute_result"
    }
   ],
   "source": [
    "num+name    #string concatenation"
   ]
  },
  {
   "cell_type": "code",
   "execution_count": 12,
   "metadata": {},
   "outputs": [],
   "source": [
    "# string index can we perform in two ways\n",
    "#--> positive index\n",
    "#--> negative index"
   ]
  },
  {
   "cell_type": "code",
   "execution_count": 16,
   "metadata": {},
   "outputs": [
    {
     "name": "stdout",
     "output_type": "stream",
     "text": [
      "a\n",
      "s\n"
     ]
    }
   ],
   "source": [
    "# positive index\n",
    "print(name[0])\n",
    "print(name[3])"
   ]
  },
  {
   "cell_type": "code",
   "execution_count": 17,
   "metadata": {},
   "outputs": [],
   "source": [
    "#String is immutable  --> because we cannot change the string at any index."
   ]
  },
  {
   "cell_type": "code",
   "execution_count": 24,
   "metadata": {},
   "outputs": [
    {
     "name": "stdout",
     "output_type": "stream",
     "text": [
      "Vijay\n",
      "Deenanath\n",
      "Chauhan\n",
      "Chauhan\n"
     ]
    }
   ],
   "source": [
    "name=\"Vijay Deenanath Chauhan\"\n",
    "print(name[0:5])\n",
    "print(name[6:15])\n",
    "print(name[16:23])\n",
    "print(name[16:len(name)])"
   ]
  },
  {
   "cell_type": "code",
   "execution_count": 25,
   "metadata": {},
   "outputs": [
    {
     "name": "stdout",
     "output_type": "stream",
     "text": [
      "Vijay\n"
     ]
    }
   ],
   "source": [
    "#when starting index is not given ,it is assumed to be 0\n",
    "print(name[:5])"
   ]
  },
  {
   "cell_type": "code",
   "execution_count": 27,
   "metadata": {},
   "outputs": [
    {
     "name": "stdout",
     "output_type": "stream",
     "text": [
      "Chauhan\n",
      " Chauhan\n"
     ]
    }
   ],
   "source": [
    "#when ending index is not given, it is assumed to be len(name)\n",
    "print(name[16:])\n",
    "print(name[-8:])"
   ]
  },
  {
   "cell_type": "code",
   "execution_count": 28,
   "metadata": {},
   "outputs": [],
   "source": [
    "#   --->>>> Syntax for slicing:\n",
    "#           var[start:stop:step]"
   ]
  },
  {
   "cell_type": "code",
   "execution_count": 29,
   "metadata": {},
   "outputs": [
    {
     "name": "stdout",
     "output_type": "stream",
     "text": [
      "VjyDeaah\n"
     ]
    }
   ],
   "source": [
    "print(name[:16:2])"
   ]
  },
  {
   "cell_type": "code",
   "execution_count": 30,
   "metadata": {},
   "outputs": [
    {
     "name": "stdout",
     "output_type": "stream",
     "text": [
      "Cun\n"
     ]
    }
   ],
   "source": [
    "print(name[-7::3])"
   ]
  },
  {
   "cell_type": "code",
   "execution_count": 31,
   "metadata": {},
   "outputs": [
    {
     "name": "stdout",
     "output_type": "stream",
     "text": [
      "Vijay Deenanath Chauhan\n"
     ]
    }
   ],
   "source": [
    "print(name)"
   ]
  },
  {
   "cell_type": "code",
   "execution_count": 32,
   "metadata": {},
   "outputs": [
    {
     "name": "stdout",
     "output_type": "stream",
     "text": [
      "Ctaeyi\n"
     ]
    }
   ],
   "source": [
    "print(name[-7::-3])"
   ]
  },
  {
   "cell_type": "code",
   "execution_count": 33,
   "metadata": {},
   "outputs": [
    {
     "name": "stdout",
     "output_type": "stream",
     "text": [
      "nahuahC htananeeD yajiV\n"
     ]
    }
   ],
   "source": [
    "#   ---->>> Reverse String\n",
    "print(name[::-1])"
   ]
  },
  {
   "cell_type": "markdown",
   "metadata": {},
   "source": [
    "String method\n",
    "-formating methods\n",
    "    -upper(),lower(),capitalize(),title(),swapcase()\n",
    "-validation methods\n",
    "    -isupper(),islower(),istitle(),isalpha(),isnumeric()\n",
    "    -startswith(),endwith()\n",
    "-utility methods\n",
    "    -split(),join(),find(),replace(),strip()\n",
    "    "
   ]
  },
  {
   "cell_type": "code",
   "execution_count": 41,
   "metadata": {},
   "outputs": [
    {
     "name": "stdout",
     "output_type": "stream",
     "text": [
      "THIS IS A PYTHON STRING\n",
      "this is a python string\n",
      "This is a python string\n",
      "THIS IS A python STRING\n",
      "This Is A Python String\n",
      "this is a PYTHON string\n"
     ]
    }
   ],
   "source": [
    "#   --> .upper() is used to capitalize all the string in capital letter\n",
    "msg=\"this is a PYTHON string\"\n",
    "print(msg.upper())\n",
    "#   --> .lower() is used to capitalize all the string in capital letter\n",
    "print(msg.lower())\n",
    "#   --> .capatilize() is used to capitalize all the first letter of the string in capital.\n",
    "print(msg.capitalize())\n",
    "#   --> .swapcase() is used to convert the words in upper and lowercase. \n",
    "print(msg.swapcase())\n",
    "#   --> .title() is used to capitalize all first letter of  string in capital letter\n",
    "print(msg.title())\n",
    "#   --> 'msg' is used to print the string\n",
    "print(msg)"
   ]
  },
  {
   "cell_type": "code",
   "execution_count": 43,
   "metadata": {},
   "outputs": [
    {
     "name": "stdout",
     "output_type": "stream",
     "text": [
      ">>> 123 <<<\n",
      "You enter a number\n",
      "You entered a alphanumberic\n"
     ]
    }
   ],
   "source": [
    "x=input(\"Enter a number\")\n",
    "print(\">>>\",x,\"<<<\")\n",
    "if x.isnumeric():\n",
    "    print(\"You enter a number\")\n",
    "if x.isalpha():\n",
    "    print(\"You enter a string\")\n",
    "if x.isalnum():\n",
    "    print(\"You entered a alphanumberic\")\n",
    "if x.islower():\n",
    "    print(\"you entered a number\")"
   ]
  },
  {
   "cell_type": "code",
   "execution_count": 45,
   "metadata": {},
   "outputs": [
    {
     "name": "stdout",
     "output_type": "stream",
     "text": [
      "True\n",
      "False\n"
     ]
    }
   ],
   "source": [
    "#   -->> startswith ()is used to check the given words in the function.\n",
    "person=\"Mr.Smith\"\n",
    "print(person.startswith(\"Mr.\"))\n",
    "print(person.startswith(\"Ms.\"))\n"
   ]
  },
  {
   "cell_type": "code",
   "execution_count": 49,
   "metadata": {},
   "outputs": [
    {
     "name": "stdout",
     "output_type": "stream",
     "text": [
      "Blue\n",
      "Black\n"
     ]
    }
   ],
   "source": [
    "colors=['red','Pink','White','Blue','Black','Green']\n",
    "for i in colors:\n",
    "    if i.startswith(\"B\"):\n",
    "        print(i)"
   ]
  },
  {
   "cell_type": "code",
   "execution_count": 57,
   "metadata": {},
   "outputs": [
    {
     "name": "stdout",
     "output_type": "stream",
     "text": [
      "Life Before Death, Strength Before Weakness, Journey Before Destination\n",
      "['Life Before Death', ' Strength Before Weakness', ' Journey Before Destination']\n",
      "['Life', 'Before', 'Death,', 'Strength', 'Before', 'Weakness,', 'Journey', 'Before', 'Destination']\n",
      "['Lif', ' B', 'for', ' D', 'ath, Str', 'ngth B', 'for', ' W', 'akn', 'ss, Journ', 'y B', 'for', ' D', 'stination']\n",
      "['Life', 'Death, Strength', 'Weakness, Journey', 'Destination']\n",
      "4\n"
     ]
    }
   ],
   "source": [
    "quote=\"Life Before Death, Strength Before Weakness, Journey Before Destination\"\n",
    "print(quote)\n",
    "print(quote.split(\",\"))\n",
    "print(quote.split(\" \"))\n",
    "print(quote.split(\"e\"))\n",
    "words=quote.split(\" Before \")\n",
    "print(words)\n",
    "print(len(words))"
   ]
  },
  {
   "cell_type": "code",
   "execution_count": null,
   "metadata": {},
   "outputs": [],
   "source": []
  }
 ],
 "metadata": {
  "kernelspec": {
   "display_name": "base",
   "language": "python",
   "name": "python3"
  },
  "language_info": {
   "codemirror_mode": {
    "name": "ipython",
    "version": 3
   },
   "file_extension": ".py",
   "mimetype": "text/x-python",
   "name": "python",
   "nbconvert_exporter": "python",
   "pygments_lexer": "ipython3",
   "version": "3.11.4"
  },
  "orig_nbformat": 4
 },
 "nbformat": 4,
 "nbformat_minor": 2
}
