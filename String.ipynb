{
 "cells": [
  {
   "cell_type": "code",
   "execution_count": 1,
   "metadata": {},
   "outputs": [
    {
     "name": "stdout",
     "output_type": "stream",
     "text": [
      "<class 'str'>\n",
      "<class 'str'>\n",
      "<class 'str'>\n"
     ]
    }
   ],
   "source": [
    "a='apple'\n",
    "b=\"Banana\"\n",
    "c='''this a string \n",
    "of multiple \n",
    "lines'''\n",
    "print(type(a))\n",
    "print(type(b))\n",
    "print(type(c))"
   ]
  },
  {
   "cell_type": "code",
   "execution_count": null,
   "metadata": {},
   "outputs": [],
   "source": [
    "# String\n",
    " #   create\n",
    "  #  index and slice\n",
    "   # methods -->"
   ]
  },
  {
   "cell_type": "code",
   "execution_count": 2,
   "metadata": {},
   "outputs": [
    {
     "name": "stdout",
     "output_type": "stream",
     "text": [
      "<class 'str'>\n"
     ]
    }
   ],
   "source": [
    "d=str(123)\n",
    "print(type(d))"
   ]
  },
  {
   "cell_type": "code",
   "execution_count": null,
   "metadata": {},
   "outputs": [],
   "source": [
    "name=input(type(\"enter your name\"))\n",
    "print(type(name))"
   ]
  },
  {
   "cell_type": "code",
   "execution_count": null,
   "metadata": {},
   "outputs": [],
   "source": [
    "num=int(input(\"Enter any number\"))\n",
    "print(type(num))\n",
    "num=str(num)\n",
    "print(type(num))"
   ]
  },
  {
   "cell_type": "code",
   "execution_count": null,
   "metadata": {},
   "outputs": [],
   "source": [
    "name*5  #String duplication"
   ]
  },
  {
   "cell_type": "code",
   "execution_count": null,
   "metadata": {},
   "outputs": [],
   "source": [
    "num+name    #string concatenation"
   ]
  },
  {
   "cell_type": "code",
   "execution_count": null,
   "metadata": {},
   "outputs": [],
   "source": [
    "# string index can we perform in two ways\n",
    "#--> positive index\n",
    "#--> negative index"
   ]
  },
  {
   "cell_type": "code",
   "execution_count": null,
   "metadata": {},
   "outputs": [],
   "source": [
    "# positive index\n",
    "print(name[0])\n",
    "print(name[3])"
   ]
  },
  {
   "cell_type": "code",
   "execution_count": null,
   "metadata": {},
   "outputs": [],
   "source": [
    "#String is immutable  --> because we cannot change the string at any index."
   ]
  },
  {
   "cell_type": "code",
   "execution_count": null,
   "metadata": {},
   "outputs": [],
   "source": [
    "name=\"Vijay Deenanath Chauhan\"\n",
    "print(name[0:5])\n",
    "print(name[6:15])\n",
    "print(name[16:23])\n",
    "print(name[16:len(name)])"
   ]
  },
  {
   "cell_type": "code",
   "execution_count": null,
   "metadata": {},
   "outputs": [],
   "source": [
    "#when starting index is not given ,it is assumed to be 0\n",
    "print(name[:5])"
   ]
  },
  {
   "cell_type": "code",
   "execution_count": null,
   "metadata": {},
   "outputs": [],
   "source": [
    "#when ending index is not given, it is assumed to be len(name)\n",
    "print(name[16:])\n",
    "print(name[-8:])"
   ]
  },
  {
   "cell_type": "code",
   "execution_count": null,
   "metadata": {},
   "outputs": [],
   "source": [
    "#   --->>>> Syntax for slicing:\n",
    "#           var[start:stop:step]"
   ]
  },
  {
   "cell_type": "code",
   "execution_count": 3,
   "metadata": {},
   "outputs": [
    {
     "ename": "NameError",
     "evalue": "name 'name' is not defined",
     "output_type": "error",
     "traceback": [
      "\u001b[1;31m---------------------------------------------------------------------------\u001b[0m",
      "\u001b[1;31mNameError\u001b[0m                                 Traceback (most recent call last)",
      "Cell \u001b[1;32mIn[3], line 1\u001b[0m\n\u001b[1;32m----> 1\u001b[0m \u001b[39mprint\u001b[39m(name[:\u001b[39m16\u001b[39m:\u001b[39m2\u001b[39m])\n",
      "\u001b[1;31mNameError\u001b[0m: name 'name' is not defined"
     ]
    }
   ],
   "source": [
    "print(name[:16:2])"
   ]
  },
  {
   "cell_type": "code",
   "execution_count": null,
   "metadata": {},
   "outputs": [],
   "source": [
    "print(name[-7::3])"
   ]
  },
  {
   "cell_type": "code",
   "execution_count": null,
   "metadata": {},
   "outputs": [],
   "source": [
    "print(name)"
   ]
  },
  {
   "cell_type": "code",
   "execution_count": null,
   "metadata": {},
   "outputs": [],
   "source": [
    "print(name[-7::-3])"
   ]
  },
  {
   "cell_type": "code",
   "execution_count": null,
   "metadata": {},
   "outputs": [],
   "source": [
    "#   ---->>> Reverse String\n",
    "print(name[::-1])"
   ]
  },
  {
   "cell_type": "markdown",
   "metadata": {},
   "source": [
    "String method\n",
    "-formating methods\n",
    "    -upper(),lower(),capitalize(),title(),swapcase()\n",
    "-validation methods\n",
    "    -isupper(),islower(),istitle(),isalpha(),isnumeric()\n",
    "    -startswith(),endwith()\n",
    "-utility methods\n",
    "    -split(),join(),find(),replace(),strip(),count()\n",
    "    "
   ]
  },
  {
   "cell_type": "code",
   "execution_count": 45,
   "metadata": {},
   "outputs": [
    {
     "name": "stdout",
     "output_type": "stream",
     "text": [
      "THIS IS A PYTHON STRING\n",
      "this is a python string\n",
      "This is a python string\n",
      "THIS IS A python STRING\n",
      "This Is A Python String\n",
      "this is a PYTHON string\n"
     ]
    }
   ],
   "source": [
    "#   --> .upper() is used to capitalize all the string in capital letter\n",
    "msg=\"this is a PYTHON string\"\n",
    "print(msg.upper())\n",
    "#   --> .lower() is used to capitalize all the string in capital letter\n",
    "print(msg.lower())\n",
    "#   --> .capatilize() is used to capitalize all the first letter of the string in capital.\n",
    "print(msg.capitalize())\n",
    "#   --> .swapcase() is used to convert the words in upper and lowercase. \n",
    "print(msg.swapcase())\n",
    "#   --> .title() is used to capitalize all first letter of  string in capital letter\n",
    "print(msg.title())\n",
    "#   --> 'msg' is used to print the string\n",
    "print(msg)"
   ]
  },
  {
   "cell_type": "code",
   "execution_count": 46,
   "metadata": {},
   "outputs": [
    {
     "name": "stdout",
     "output_type": "stream",
     "text": [
      ">>>  <<<\n"
     ]
    }
   ],
   "source": [
    "x=input(\"Enter a number\")\n",
    "print(\">>>\",x,\"<<<\")\n",
    "if x.isnumeric():\n",
    "    print(\"You enter a number\")\n",
    "if x.isalpha():\n",
    "    print(\"You enter a string\")\n",
    "if x.isalnum():\n",
    "    print(\"You entered a alphanumberic\")\n",
    "if x.islower():\n",
    "    print(\"you entered a number\")"
   ]
  },
  {
   "cell_type": "code",
   "execution_count": 47,
   "metadata": {},
   "outputs": [
    {
     "name": "stdout",
     "output_type": "stream",
     "text": [
      "True\n",
      "False\n"
     ]
    }
   ],
   "source": [
    "#   -->> startswith ()is used to check the given words in the function.\n",
    "person=\"Mr.Smith\"\n",
    "print(person.startswith(\"Mr.\"))\n",
    "print(person.startswith(\"Ms.\"))\n"
   ]
  },
  {
   "cell_type": "code",
   "execution_count": 48,
   "metadata": {},
   "outputs": [
    {
     "name": "stdout",
     "output_type": "stream",
     "text": [
      "Blue\n",
      "Black\n"
     ]
    }
   ],
   "source": [
    "colors=['red','Pink','White','Blue','Black','Green']\n",
    "for i in colors:\n",
    "    if i.startswith(\"B\"):\n",
    "        print(i)"
   ]
  },
  {
   "cell_type": "code",
   "execution_count": 49,
   "metadata": {},
   "outputs": [
    {
     "name": "stdout",
     "output_type": "stream",
     "text": [
      "Life Before Death, Strength Before Weakness, Journey Before Destination\n",
      "['Life Before Death', ' Strength Before Weakness', ' Journey Before Destination']\n",
      "['Life', 'Before', 'Death,', 'Strength', 'Before', 'Weakness,', 'Journey', 'Before', 'Destination']\n",
      "['Lif', ' B', 'for', ' D', 'ath, Str', 'ngth B', 'for', ' W', 'akn', 'ss, Journ', 'y B', 'for', ' D', 'stination']\n",
      "['Life', 'Death, Strength', 'Weakness, Journey', 'Destination']\n",
      "4\n"
     ]
    }
   ],
   "source": [
    "quote=\"Life Before Death, Strength Before Weakness, Journey Before Destination\"\n",
    "print(quote)\n",
    "print(quote.split(\",\"))\n",
    "print(quote.split(\" \"))\n",
    "print(quote.split(\"e\"))\n",
    "words=quote.split(\" Before \")\n",
    "print(words)\n",
    "print(len(words))"
   ]
  },
  {
   "cell_type": "code",
   "execution_count": 50,
   "metadata": {},
   "outputs": [
    {
     "name": "stdout",
     "output_type": "stream",
     "text": [
      "AlexAlexaAlexisAlexander\n",
      "Alex,Alexa,Alexis,Alexander\n",
      "Alex+Alexa+Alexis+Alexander\n",
      "Alex.Alexa.Alexis.Alexander\n"
     ]
    }
   ],
   "source": [
    "#-->> .join is used to join two list\n",
    "x=['Alex','Alexa','Alexis','Alexander']\n",
    "print(\"\".join(x))\n",
    "print(\",\".join(x))\n",
    "print(\"+\".join(x))\n",
    "print(\".\".join(x))"
   ]
  },
  {
   "cell_type": "code",
   "execution_count": 51,
   "metadata": {},
   "outputs": [
    {
     "name": "stdout",
     "output_type": "stream",
     "text": [
      "29\n",
      "62\n",
      "-1\n",
      "0\n"
     ]
    }
   ],
   "source": [
    "#---->>>>.find() id used to find the sequence of the first letter..\n",
    "story=\"Once upon a time,there was a king,who left his kingdom to the queen,andshe ruled it\"\n",
    "print(story.find('king'))\n",
    "print(story.find('queen'))\n",
    "print(story.find('prince'))\n",
    "print(story.find(''))"
   ]
  },
  {
   "cell_type": "code",
   "execution_count": 52,
   "metadata": {},
   "outputs": [
    {
     "name": "stdout",
     "output_type": "stream",
     "text": [
      "Once upon a tome,there was a kong,who left hos kongdom to the queen,andshe ruled ot\n"
     ]
    }
   ],
   "source": [
    "#--->>>> .replace is used to replace the words..\n",
    "print(story.replace('i','o'))"
   ]
  },
  {
   "cell_type": "code",
   "execution_count": 53,
   "metadata": {},
   "outputs": [
    {
     "name": "stdout",
     "output_type": "stream",
     "text": [
      "Once upon a time,thisre was a king,who left his kingdom to this queen,andshe ruled it\n",
      "Once upon a year,there was a king,who left his kingdom to the queen,andshe ruled it ('time', 'year')\n",
      "Once upon a time,there was a Queen,who left his Queendom to the queen,andshe ruled it ('queen', 'King')\n"
     ]
    }
   ],
   "source": [
    "print(story.replace('the','this'))\n",
    "print(story.replace('time','year'),('time','year'))\n",
    "print(story.replace('king','Queen'),('queen','King'))\n"
   ]
  },
  {
   "cell_type": "code",
   "execution_count": 54,
   "metadata": {},
   "outputs": [
    {
     "name": "stdout",
     "output_type": "stream",
     "text": [
      "Once upon a time,there was a king,who left his kingdom to the queen,andshe ruled it\n",
      "Once upon a time,there was a ,who left his dom to the queen,andshe ruled it\n"
     ]
    }
   ],
   "source": [
    "print(story)\n",
    "print(story.replace('king',''))      #remove all king from the list"
   ]
  },
  {
   "cell_type": "code",
   "execution_count": 55,
   "metadata": {},
   "outputs": [
    {
     "name": "stdout",
     "output_type": "stream",
     "text": [
      "Once upon A time,there wAs A queen,who join his queendom to the queen,Andshe ruled it\n"
     ]
    }
   ],
   "source": [
    "print(story.replace('king','queen').replace('a','A').replace('left','join'))"
   ]
  },
  {
   "cell_type": "code",
   "execution_count": 56,
   "metadata": {},
   "outputs": [
    {
     "name": "stdout",
     "output_type": "stream",
     "text": [
      "Once upon a time,there was a queen,who left his queendom to the queen,andshe ruled it\n"
     ]
    }
   ],
   "source": [
    "story=story.replace('king','queen')\n",
    "print(story)"
   ]
  },
  {
   "cell_type": "code",
   "execution_count": 57,
   "metadata": {},
   "outputs": [],
   "source": [
    "data='their was a king in the kingdom who join the kingdom for queen, but he die, that is the story'\n",
    "data=data.split(\"a\")"
   ]
  },
  {
   "cell_type": "code",
   "execution_count": 58,
   "metadata": {},
   "outputs": [
    {
     "name": "stdout",
     "output_type": "stream",
     "text": [
      "['their w', 's ', ' king in the kingdom who join the kingdom for queen, but he die, th', 't is the story']\n"
     ]
    }
   ],
   "source": [
    "print(data)"
   ]
  },
  {
   "cell_type": "code",
   "execution_count": 59,
   "metadata": {},
   "outputs": [
    {
     "data": {
      "text/plain": [
       "['their w',\n",
       " 's ',\n",
       " ' king in the kingdom who join the kingdom for queen, but he die, th',\n",
       " 't is the story']"
      ]
     },
     "execution_count": 59,
     "metadata": {},
     "output_type": "execute_result"
    }
   ],
   "source": [
    "data"
   ]
  },
  {
   "cell_type": "code",
   "execution_count": 60,
   "metadata": {},
   "outputs": [
    {
     "name": "stdout",
     "output_type": "stream",
     "text": [
      "\n",
      "Rs.100000\n",
      "\n",
      "11\n",
      "['Rs.100000']\n"
     ]
    }
   ],
   "source": [
    "kachara='''\n",
    "Rs.100000\n",
    "'''\n",
    "print(kachara)\n",
    "print(len(kachara))\n",
    "print(kachara.split())"
   ]
  },
  {
   "cell_type": "code",
   "execution_count": 69,
   "metadata": {},
   "outputs": [
    {
     "name": "stdout",
     "output_type": "stream",
     "text": [
      "[\"'1.jpg','2.jpg','3.pdf','4.img','5.c','6.java','7.python'\"]\n"
     ]
    }
   ],
   "source": [
    "image=\"'1.jpg','2.jpg','3.pdf','4.img','5.c','6.java','7.python'\"\n",
    "print(image.split())\n",
    "# print(image.removesuffix(.jpg))"
   ]
  },
  {
   "cell_type": "code",
   "execution_count": 78,
   "metadata": {},
   "outputs": [
    {
     "name": "stdout",
     "output_type": "stream",
     "text": [
      "<class 'str'>\n"
     ]
    },
    {
     "ename": "TypeError",
     "evalue": "'NoneType' object is not callable",
     "output_type": "error",
     "traceback": [
      "\u001b[1;31m---------------------------------------------------------------------------\u001b[0m",
      "\u001b[1;31mTypeError\u001b[0m                                 Traceback (most recent call last)",
      "Cell \u001b[1;32mIn[78], line 1\u001b[0m\n\u001b[1;32m----> 1\u001b[0m \u001b[39mprint\u001b[39m(\u001b[39mstr\u001b[39m)(story)\n",
      "\u001b[1;31mTypeError\u001b[0m: 'NoneType' object is not callable"
     ]
    }
   ],
   "source": [
    "print(story)"
   ]
  },
  {
   "cell_type": "code",
   "execution_count": 73,
   "metadata": {},
   "outputs": [
    {
     "name": "stdout",
     "output_type": "stream",
     "text": [
      "3\n",
      "0\n",
      "4\n"
     ]
    }
   ],
   "source": [
    "print(story.count(\"queen\"))\n",
    "print(story.count(\"king\"))\n",
    "print(story.count(\"a\"))\n"
   ]
  },
  {
   "cell_type": "code",
   "execution_count": 76,
   "metadata": {},
   "outputs": [
    {
     "ename": "AttributeError",
     "evalue": "'int' object has no attribute 'story'",
     "output_type": "error",
     "traceback": [
      "\u001b[1;31m---------------------------------------------------------------------------\u001b[0m",
      "\u001b[1;31mAttributeError\u001b[0m                            Traceback (most recent call last)",
      "Cell \u001b[1;32mIn[76], line 1\u001b[0m\n\u001b[1;32m----> 1\u001b[0m \u001b[39mprint\u001b[39m(story\u001b[39m.\u001b[39mcount(\u001b[39m'\u001b[39m\u001b[39ma\u001b[39m\u001b[39m'\u001b[39m)\u001b[39m+\u001b[39mstory\u001b[39m.\u001b[39mcount(\u001b[39m'\u001b[39m\u001b[39mo\u001b[39m\u001b[39m'\u001b[39m)\u001b[39m.\u001b[39mstory\u001b[39m.\u001b[39mcount(\u001b[39m'\u001b[39m\u001b[39me\u001b[39m\u001b[39m'\u001b[39m)\u001b[39m.\u001b[39mstory\u001b[39m.\u001b[39mcount(\u001b[39m'\u001b[39m\u001b[39mi\u001b[39m\u001b[39m'\u001b[39m)\u001b[39m+\u001b[39mstory\u001b[39m.\u001b[39mcount(\u001b[39m'\u001b[39m\u001b[39mu\u001b[39m\u001b[39m'\u001b[39m))\n",
      "\u001b[1;31mAttributeError\u001b[0m: 'int' object has no attribute 'story'"
     ]
    }
   ],
   "source": [
    "print(story.count('a')+story.count('o').story.count('e').story.count('i')+story.count('u'))"
   ]
  },
  {
   "cell_type": "code",
   "execution_count": 81,
   "metadata": {},
   "outputs": [
    {
     "name": "stdout",
     "output_type": "stream",
     "text": [
      "856\n",
      "4\n"
     ]
    }
   ],
   "source": [
    "content='''The Zen of Python, by Tim Peters\n",
    "\n",
    "Beautiful is better than ugly.\n",
    "Explicit is better than implicit.\n",
    "Simple is better than complex.\n",
    "Complex is better than complicated.\n",
    "Flat is better than nested.\n",
    "Sparse is better than dense.\n",
    "Readability counts.\n",
    "Special cases aren't special enough to break the rules.\n",
    "Although practicality beats purity.\n",
    "Errors should never pass silently.\n",
    "Unless explicitly silenced.\n",
    "In the face of ambiguity, refuse the temptation to guess.\n",
    "There should be one-- and preferably only one --obvious way to do it.\n",
    "Although that way may not be obvious at first unless you're Dutch.\n",
    "Now is better than never.\n",
    "Although never is often better than *right* now.\n",
    "If the implementation is hard to explain, it's a bad idea.\n",
    "If the implementation is easy to explain, it may be a good idea.\n",
    "Namespaces are one honking great idea -- let's do more of those!'''\n",
    "print(len(content))\n",
    "print(content.find('Zen'))"
   ]
  },
  {
   "cell_type": "code",
   "execution_count": 90,
   "metadata": {},
   "outputs": [
    {
     "name": "stdout",
     "output_type": "stream",
     "text": [
      "The                 3\n",
      "Zen                 3\n",
      "of                  2\n",
      "Python,             7\n",
      "by                  2\n",
      "Tim                 3\n",
      "Peters              6\n",
      "Beautiful           9\n",
      "is                  2\n",
      "better              6\n",
      "than                4\n",
      "ugly.               5\n",
      "Explicit            8\n",
      "is                  2\n",
      "better              6\n",
      "than                4\n",
      "implicit.           9\n",
      "Simple              6\n",
      "is                  2\n",
      "better              6\n",
      "than                4\n",
      "complex.            8\n",
      "Complex             7\n",
      "is                  2\n",
      "better              6\n",
      "than                4\n",
      "complicated.        12\n",
      "Flat                4\n",
      "is                  2\n",
      "better              6\n",
      "than                4\n",
      "nested.             7\n",
      "Sparse              6\n",
      "is                  2\n",
      "better              6\n",
      "than                4\n",
      "dense.              6\n",
      "Readability         11\n",
      "counts.             7\n",
      "Special             7\n",
      "cases               5\n",
      "aren't              6\n",
      "special             7\n",
      "enough              6\n",
      "to                  2\n",
      "break               5\n",
      "the                 3\n",
      "rules.              6\n",
      "Although            8\n",
      "practicality        12\n",
      "beats               5\n",
      "purity.             7\n",
      "Errors              6\n",
      "should              6\n",
      "never               5\n",
      "pass                4\n",
      "silently.           9\n",
      "Unless              6\n",
      "explicitly          10\n",
      "silenced.           9\n",
      "In                  2\n",
      "the                 3\n",
      "face                4\n",
      "of                  2\n",
      "ambiguity,          10\n",
      "refuse              6\n",
      "the                 3\n",
      "temptation          10\n",
      "to                  2\n",
      "guess.              6\n",
      "There               5\n",
      "should              6\n",
      "be                  2\n",
      "one--               5\n",
      "and                 3\n",
      "preferably          10\n",
      "only                4\n",
      "one                 3\n",
      "--obvious           9\n",
      "way                 3\n",
      "to                  2\n",
      "do                  2\n",
      "it.                 3\n",
      "Although            8\n",
      "that                4\n",
      "way                 3\n",
      "may                 3\n",
      "not                 3\n",
      "be                  2\n",
      "obvious             7\n",
      "at                  2\n",
      "first               5\n",
      "unless              6\n",
      "you're              6\n",
      "Dutch.              6\n",
      "Now                 3\n",
      "is                  2\n",
      "better              6\n",
      "than                4\n",
      "never.              6\n",
      "Although            8\n",
      "never               5\n",
      "is                  2\n",
      "often               5\n",
      "better              6\n",
      "than                4\n",
      "*right*             7\n",
      "now.                4\n",
      "If                  2\n",
      "the                 3\n",
      "implementation      14\n",
      "is                  2\n",
      "hard                4\n",
      "to                  2\n",
      "explain,            8\n",
      "it's                4\n",
      "a                   1\n",
      "bad                 3\n",
      "idea.               5\n",
      "If                  2\n",
      "the                 3\n",
      "implementation      14\n",
      "is                  2\n",
      "easy                4\n",
      "to                  2\n",
      "explain,            8\n",
      "it                  2\n",
      "may                 3\n",
      "be                  2\n",
      "a                   1\n",
      "good                4\n",
      "idea.               5\n",
      "Namespaces          10\n",
      "are                 3\n",
      "one                 3\n",
      "honking             7\n",
      "great               5\n",
      "idea                4\n",
      "--                  2\n",
      "let's               5\n",
      "do                  2\n",
      "more                4\n",
      "of                  2\n",
      "those!              6\n"
     ]
    }
   ],
   "source": [
    "for word in content.split():\n",
    "    print(f'{word:20}{len(word)}')"
   ]
  },
  {
   "cell_type": "code",
   "execution_count": null,
   "metadata": {},
   "outputs": [],
   "source": []
  }
 ],
 "metadata": {
  "kernelspec": {
   "display_name": "base",
   "language": "python",
   "name": "python3"
  },
  "language_info": {
   "codemirror_mode": {
    "name": "ipython",
    "version": 3
   },
   "file_extension": ".py",
   "mimetype": "text/x-python",
   "name": "python",
   "nbconvert_exporter": "python",
   "pygments_lexer": "ipython3",
   "version": "3.11.4"
  },
  "orig_nbformat": 4
 },
 "nbformat": 4,
 "nbformat_minor": 2
}
