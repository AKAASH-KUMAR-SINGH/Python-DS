{
 "cells": [
  {
   "cell_type": "code",
   "execution_count": 1,
   "metadata": {},
   "outputs": [
    {
     "name": "stdout",
     "output_type": "stream",
     "text": [
      "<class 'str'>\n",
      "<class 'str'>\n",
      "<class 'str'>\n"
     ]
    }
   ],
   "source": [
    "a='apple'\n",
    "b=\"Banana\"\n",
    "c='''this a string \n",
    "of multiple \n",
    "lines'''\n",
    "print(type(a))\n",
    "print(type(b))\n",
    "print(type(c))"
   ]
  },
  {
   "cell_type": "code",
   "execution_count": null,
   "metadata": {},
   "outputs": [],
   "source": [
    "# String\n",
    " #   create\n",
    "  #  index and slice\n",
    "   # methods -->"
   ]
  },
  {
   "cell_type": "code",
   "execution_count": 2,
   "metadata": {},
   "outputs": [
    {
     "name": "stdout",
     "output_type": "stream",
     "text": [
      "<class 'str'>\n"
     ]
    }
   ],
   "source": [
    "d=str(123)\n",
    "print(type(d))"
   ]
  },
  {
   "cell_type": "code",
   "execution_count": 4,
   "metadata": {},
   "outputs": [
    {
     "name": "stdout",
     "output_type": "stream",
     "text": [
      "<class 'str'>\n"
     ]
    }
   ],
   "source": [
    "name=input(type(\"enter your name\"))\n",
    "print(type(name))"
   ]
  },
  {
   "cell_type": "code",
   "execution_count": 12,
   "metadata": {},
   "outputs": [
    {
     "name": "stdout",
     "output_type": "stream",
     "text": [
      "<class 'int'>\n",
      "<class 'str'>\n"
     ]
    }
   ],
   "source": [
    "num=int(input(\"Enter any number\"))\n",
    "print(type(num))\n",
    "num=str(num)\n",
    "print(type(num))"
   ]
  },
  {
   "cell_type": "code",
   "execution_count": 13,
   "metadata": {},
   "outputs": [
    {
     "data": {
      "text/plain": [
       "'akashakashakashakashakash'"
      ]
     },
     "execution_count": 13,
     "metadata": {},
     "output_type": "execute_result"
    }
   ],
   "source": [
    "name*5  #String duplication"
   ]
  },
  {
   "cell_type": "code",
   "execution_count": 14,
   "metadata": {},
   "outputs": [
    {
     "data": {
      "text/plain": [
       "'1234akash'"
      ]
     },
     "execution_count": 14,
     "metadata": {},
     "output_type": "execute_result"
    }
   ],
   "source": [
    "num+name  #string concatenation"
   ]
  },
  {
   "cell_type": "code",
   "execution_count": 15,
   "metadata": {},
   "outputs": [
    {
     "data": {
      "text/plain": [
       "'1234 akash'"
      ]
     },
     "execution_count": 15,
     "metadata": {},
     "output_type": "execute_result"
    }
   ],
   "source": [
    "num+\" \"+name"
   ]
  },
  {
   "cell_type": "code",
   "execution_count": 18,
   "metadata": {},
   "outputs": [
    {
     "name": "stdout",
     "output_type": "stream",
     "text": [
      "My name is Akash, I am 36\n"
     ]
    }
   ],
   "source": [
    "# we cannot concatenate number and a string , it will through error.\n",
    "# but it can we done by using \".format()\" method.\n",
    "age=36\n",
    "txt=\"My name is Akash, I am {}\"\n",
    "print(txt.format(age))\n"
   ]
  },
  {
   "cell_type": "code",
   "execution_count": 19,
   "metadata": {},
   "outputs": [
    {
     "name": "stdout",
     "output_type": "stream",
     "text": [
      "I am 12 yrs old\n"
     ]
    }
   ],
   "source": [
    "age=int(input(\"Enter the your age: \"))\n",
    "txt=\"I am {0} yrs old\"\n",
    "print(txt.format(age))"
   ]
  },
  {
   "cell_type": "code",
   "execution_count": 20,
   "metadata": {},
   "outputs": [
    {
     "name": "stdout",
     "output_type": "stream",
     "text": [
      "I want 3 pieces of item 567 for 49.95 dollars.\n"
     ]
    }
   ],
   "source": [
    "quality=3\n",
    "itemno=567\n",
    "price=49.95\n",
    "myorder=\"I want {} pieces of item {} for {} dollars.\"\n",
    "print(myorder.format(quality,itemno,price))"
   ]
  },
  {
   "cell_type": "code",
   "execution_count": 32,
   "metadata": {},
   "outputs": [
    {
     "name": "stdout",
     "output_type": "stream",
     "text": [
      "we are the so-called \"Vikinggs\" from the north.\n",
      "Beautiful is better than ugly.'Explicit is better than implicit'.Simple is better than complex.Complex is better than complicated.\n"
     ]
    }
   ],
   "source": [
    "'''If we use double quote in a double quote or \n",
    "single quote in a single quote it will return -->> error\n",
    "it can we fix by using (\\\"\\\") or (\\'\\') '''\n",
    "txt=\"we are the so-called \\\"Vikinggs\\\" from the north.\"\n",
    "print(txt)\n",
    "txt='Beautiful is better than ugly.\\'Explicit is better than implicit\\'.Simple is better than complex.Complex is better than complicated.'\n",
    "print(txt)"
   ]
  },
  {
   "cell_type": "code",
   "execution_count": null,
   "metadata": {},
   "outputs": [],
   "source": [
    "# string index can we perform in two ways\n",
    "#--> positive index\n",
    "#--> negative index"
   ]
  },
  {
   "cell_type": "code",
   "execution_count": 37,
   "metadata": {},
   "outputs": [
    {
     "name": "stdout",
     "output_type": "stream",
     "text": [
      "Rahul\n",
      "a\n",
      "h\n"
     ]
    }
   ],
   "source": [
    "# positive index\n",
    "name=input(\"enter a name:\")\n",
    "print(name)\n",
    "idx=int(input(\"Enter the index number:\"))\n",
    "print(name[idx])\n",
    "idx=int(input(\"Enter the index number:\"))\n",
    "print(name[idx])"
   ]
  },
  {
   "cell_type": "code",
   "execution_count": null,
   "metadata": {},
   "outputs": [],
   "source": [
    "#String is immutable  --> because we cannot change the string at any index."
   ]
  },
  {
   "cell_type": "code",
   "execution_count": 38,
   "metadata": {},
   "outputs": [
    {
     "name": "stdout",
     "output_type": "stream",
     "text": [
      "Vijay\n",
      "Deenanath\n",
      "Chauhan\n",
      "Chauhan\n"
     ]
    }
   ],
   "source": [
    "name=\"Vijay Deenanath Chauhan\"\n",
    "print(name[0:5])\n",
    "print(name[6:15])\n",
    "print(name[16:23])\n",
    "print(name[16:len(name)])"
   ]
  },
  {
   "cell_type": "code",
   "execution_count": 40,
   "metadata": {},
   "outputs": [
    {
     "name": "stdout",
     "output_type": "stream",
     "text": [
      "Vija\n"
     ]
    }
   ],
   "source": [
    "#when starting index is not given ,it is assumed to be 0\n",
    "print(name[:4])"
   ]
  },
  {
   "cell_type": "code",
   "execution_count": 43,
   "metadata": {},
   "outputs": [
    {
     "name": "stdout",
     "output_type": "stream",
     "text": [
      "Chauhan\n",
      "Vijay Deenanath Chauhan\n"
     ]
    }
   ],
   "source": [
    "#when ending index is not given, it is assumed to be len(name)\n",
    "print(name[16:])\n",
    "print(name[:])"
   ]
  },
  {
   "cell_type": "code",
   "execution_count": null,
   "metadata": {},
   "outputs": [],
   "source": [
    "#   --->>>> Syntax for slicing:\n",
    "#           var[start:stop:step]"
   ]
  },
  {
   "cell_type": "code",
   "execution_count": 47,
   "metadata": {},
   "outputs": [
    {
     "name": "stdout",
     "output_type": "stream",
     "text": [
      "1 6 11 16 21 26 31 36 41 46 51 56 61 66 71 76 81 86 91 96 "
     ]
    }
   ],
   "source": [
    "for i in range(1,100,5):\n",
    "    print(i,end=\" \")"
   ]
  },
  {
   "cell_type": "code",
   "execution_count": null,
   "metadata": {},
   "outputs": [],
   "source": [
    "\n",
    "print(name[-7::3])"
   ]
  },
  {
   "cell_type": "code",
   "execution_count": null,
   "metadata": {},
   "outputs": [],
   "source": [
    "print(name)"
   ]
  },
  {
   "cell_type": "code",
   "execution_count": null,
   "metadata": {},
   "outputs": [],
   "source": [
    "print(name[-7::-3])"
   ]
  },
  {
   "cell_type": "code",
   "execution_count": 49,
   "metadata": {},
   "outputs": [
    {
     "name": "stdout",
     "output_type": "stream",
     "text": [
      "hsakA\n"
     ]
    }
   ],
   "source": [
    "#   ---->>> Reverse String\n",
    "name='Akash'\n",
    "print(name[::-1])"
   ]
  },
  {
   "cell_type": "markdown",
   "metadata": {},
   "source": [
    "String method ---->>>>\n",
    "-> formating methods  ---->>>\n",
    "    -upper(),lower(),capitalize(),title(),swapcase(),casefold(),.ceter(),.count(),.encode(),.endwith(),.find(),.index()\n",
    "-> validation methods  ------>>>>\n",
    "    -isupper(),islower(),istitle(),isalpha(),isnumeric()\n",
    "    -startswith(),endwith()\n",
    "-> utility methods  -------->>>>>\n",
    "    -split(),join(),find(),replace(),strip(),count()\n",
    "    "
   ]
  },
  {
   "cell_type": "code",
   "execution_count": 85,
   "metadata": {},
   "outputs": [
    {
     "name": "stdout",
     "output_type": "stream",
     "text": [
      "although practicality beats purity.Errors should never pass silently.Unless explicitly sile\n",
      "ALTHOUGH PRACTICALITY BEATS PURITY.ERRORS SHOULD NEVER PASS SILENTLY.UNLESS EXPLICITLY SILE\n",
      "although practicality beats purity.errors should never pass silently.unless explicitly sile\n",
      "Although practicality beats purity.errors should never pass silently.unless explicitly sile\n",
      "ALTHOUGH PRACTICALITY BEATS PURITY.eRRORS SHOULD NEVER PASS SILENTLY.uNLESS EXPLICITLY SILE\n",
      "Although Practicality Beats Purity.Errors Should Never Pass Silently.Unless Explicitly Sile\n",
      "although practicality beats purity.Errors should never pass silently.Unless explicitly sile\n",
      "although practicality beats purity.errors should never pass silently.unless explicitly sile\n",
      "\n",
      "\n",
      "91\n",
      "    although practicality beats purity.Errors should never pass silently.Unless explicitly sile     \n"
     ]
    }
   ],
   "source": [
    "#   --> .upper() is used to capitalize all the string in capital letter\n",
    "msg=\"although practicality beats purity.Errors should never pass silently.Unless explicitly sile\"\n",
    "print(msg)\n",
    "#   --> .lower() is used to smallletter all the string in capital letter.\n",
    "print(msg.upper())\n",
    "# #   --> .lower() is used to smallletter all the string in capital letter.\n",
    "print(msg.lower())\n",
    "# #   --> .capatilize() is used to capitalize all the first letter of the string in capital.\n",
    "print(msg.capitalize())\n",
    "# #   --> .swapcase() is used to convert the words  uppercase into lowercase and vicecersa. \n",
    "print(msg.swapcase())\n",
    "# #   --> .title() is used to capitalize all first letter of each word in capital letter\n",
    "print(msg.title())\n",
    "# #   --> 'msg' is used to print the string\n",
    "print(msg)\n",
    "print(msg.casefold())\n",
    "print(\"\\n\")\n",
    "#   --> .len() is used to return the length of the string.\n",
    "print(len(msg))\n",
    "Msg=msg.center(100,\" \")\n",
    "#   --> .center() is used to return the number of times a specified value occur in a string.\n",
    "print(msg.center(100,\" \"))\n",
    "# print(msg.encode(encoding='ascii',errors=\"ignore\"))"
   ]
  },
  {
   "cell_type": "code",
   "execution_count": 98,
   "metadata": {},
   "outputs": [
    {
     "name": "stdout",
     "output_type": "stream",
     "text": [
      "85\n",
      "True\n"
     ]
    }
   ],
   "source": [
    "# --> .startswith(string,start-idx(optional),end-idx(optional)) is used to return \"true\" if String start wiyh given \"string\" \n",
    "name=\"'Mr.Akash','Mr.Rahul','Mr.Nitish','Mr.Ajay','Mr.Aakash','Mrs.Universe',\\\"Mrs.Sangeeta\\\"\"\n",
    "print(len(name))\n",
    "print(name.startswith(\"'\",0,len(name)))"
   ]
  },
  {
   "cell_type": "code",
   "execution_count": 106,
   "metadata": {},
   "outputs": [
    {
     "name": "stdout",
     "output_type": "stream",
     "text": [
      "-1\n",
      "26\n"
     ]
    }
   ],
   "source": [
    "# --> .find() is used to Search the string for a specified value and return the position.\n",
    "# --> .index() is used to Search the string for a specified value and return the position.\n",
    "# -->> (\"The main difference between find and index if string not fount find return{-1} but index return error.\")\n",
    "print(name.find(\"Q\"))\n",
    "# it will return error if string not found.\n",
    "print(name.index(\"N\"))"
   ]
  },
  {
   "cell_type": "code",
   "execution_count": 107,
   "metadata": {},
   "outputs": [
    {
     "name": "stdout",
     "output_type": "stream",
     "text": [
      ">>>  <<<\n"
     ]
    }
   ],
   "source": [
    "x=input(\"Enter a number\")\n",
    "print(\">>>\",x,\"<<<\")\n",
    "if x.isnumeric():\n",
    "    print(\"You enter a number\")\n",
    "if x.isalpha():\n",
    "    print(\"You enter a string\")\n",
    "if x.isalnum():\n",
    "    print(\"You entered a alphanumberic\")\n",
    "if x.islower():\n",
    "    print(\"you entered a number\")"
   ]
  },
  {
   "cell_type": "code",
   "execution_count": 108,
   "metadata": {},
   "outputs": [
    {
     "name": "stdout",
     "output_type": "stream",
     "text": [
      "True\n",
      "False\n"
     ]
    }
   ],
   "source": [
    "#   -->> startswith ()is used to check the given words in the function.\n",
    "person=\"Mr.Smith\"\n",
    "print(person.startswith(\"Mr.\"))\n",
    "print(person.startswith(\"Ms.\"))\n"
   ]
  },
  {
   "cell_type": "code",
   "execution_count": 109,
   "metadata": {},
   "outputs": [
    {
     "name": "stdout",
     "output_type": "stream",
     "text": [
      "Blue\n",
      "Black\n"
     ]
    }
   ],
   "source": [
    "colors=['red','Pink','White','Blue','Black','Green']\n",
    "for i in colors:\n",
    "    if i.startswith(\"B\"):\n",
    "        print(i)"
   ]
  },
  {
   "cell_type": "code",
   "execution_count": 110,
   "metadata": {},
   "outputs": [
    {
     "name": "stdout",
     "output_type": "stream",
     "text": [
      "Life Before Death, Strength Before Weakness, Journey Before Destination\n",
      "['Life Before Death', ' Strength Before Weakness', ' Journey Before Destination']\n",
      "['Life', 'Before', 'Death,', 'Strength', 'Before', 'Weakness,', 'Journey', 'Before', 'Destination']\n",
      "['Lif', ' B', 'for', ' D', 'ath, Str', 'ngth B', 'for', ' W', 'akn', 'ss, Journ', 'y B', 'for', ' D', 'stination']\n",
      "['Life', 'Death, Strength', 'Weakness, Journey', 'Destination']\n",
      "4\n"
     ]
    }
   ],
   "source": [
    "quote=\"Life Before Death, Strength Before Weakness, Journey Before Destination\"\n",
    "print(quote)\n",
    "print(quote.split(\",\"))\n",
    "print(quote.split(\" \"))\n",
    "print(quote.split(\"e\"))\n",
    "words=quote.split(\" Before \")\n",
    "print(words)\n",
    "print(len(words))"
   ]
  },
  {
   "cell_type": "code",
   "execution_count": 111,
   "metadata": {},
   "outputs": [
    {
     "name": "stdout",
     "output_type": "stream",
     "text": [
      "AlexAlexaAlexisAlexander\n",
      "Alex,Alexa,Alexis,Alexander\n",
      "Alex+Alexa+Alexis+Alexander\n",
      "Alex.Alexa.Alexis.Alexander\n"
     ]
    }
   ],
   "source": [
    "#-->> .join is used to join two list\n",
    "x=['Alex','Alexa','Alexis','Alexander']\n",
    "print(\"\".join(x))\n",
    "print(\",\".join(x))\n",
    "print(\"+\".join(x))\n",
    "print(\".\".join(x))"
   ]
  },
  {
   "cell_type": "code",
   "execution_count": 112,
   "metadata": {},
   "outputs": [
    {
     "name": "stdout",
     "output_type": "stream",
     "text": [
      "29\n",
      "62\n",
      "-1\n",
      "0\n"
     ]
    }
   ],
   "source": [
    "#---->>>>.find() id used to find the sequence of the first letter..\n",
    "story=\"Once upon a time,there was a king,who left his kingdom to the queen,andshe ruled it\"\n",
    "print(story.find('king'))\n",
    "print(story.find('queen'))\n",
    "print(story.find('prince'))\n",
    "print(story.find(''))"
   ]
  },
  {
   "cell_type": "code",
   "execution_count": 113,
   "metadata": {},
   "outputs": [
    {
     "name": "stdout",
     "output_type": "stream",
     "text": [
      "Once upon a tome,there was a kong,who left hos kongdom to the queen,andshe ruled ot\n"
     ]
    }
   ],
   "source": [
    "#--->>>> .replace is used to replace the words..\n",
    "print(story.replace('i','o'))"
   ]
  },
  {
   "cell_type": "code",
   "execution_count": 114,
   "metadata": {},
   "outputs": [
    {
     "name": "stdout",
     "output_type": "stream",
     "text": [
      "Once upon a time,thisre was a king,who left his kingdom to this queen,andshe ruled it\n",
      "Once upon a year,there was a king,who left his kingdom to the queen,andshe ruled it ('time', 'year')\n",
      "Once upon a time,there was a Queen,who left his Queendom to the queen,andshe ruled it ('queen', 'King')\n"
     ]
    }
   ],
   "source": [
    "print(story.replace('the','this'))\n",
    "print(story.replace('time','year'),('time','year'))\n",
    "print(story.replace('king','Queen'),('queen','King'))\n"
   ]
  },
  {
   "cell_type": "code",
   "execution_count": 115,
   "metadata": {},
   "outputs": [
    {
     "name": "stdout",
     "output_type": "stream",
     "text": [
      "Once upon a time,there was a king,who left his kingdom to the queen,andshe ruled it\n",
      "Once upon a time,there was a ,who left his dom to the queen,andshe ruled it\n"
     ]
    }
   ],
   "source": [
    "print(story)\n",
    "print(story.replace('king',''))      #remove all king from the list"
   ]
  },
  {
   "cell_type": "code",
   "execution_count": 116,
   "metadata": {},
   "outputs": [
    {
     "name": "stdout",
     "output_type": "stream",
     "text": [
      "Once upon A time,there wAs A queen,who join his queendom to the queen,Andshe ruled it\n"
     ]
    }
   ],
   "source": [
    "print(story.replace('king','queen').replace('a','A').replace('left','join'))"
   ]
  },
  {
   "cell_type": "code",
   "execution_count": 117,
   "metadata": {},
   "outputs": [
    {
     "name": "stdout",
     "output_type": "stream",
     "text": [
      "Once upon a time,there was a queen,who left his queendom to the queen,andshe ruled it\n"
     ]
    }
   ],
   "source": [
    "story=story.replace('king','queen')\n",
    "print(story)"
   ]
  },
  {
   "cell_type": "code",
   "execution_count": 118,
   "metadata": {},
   "outputs": [],
   "source": [
    "data='their was a king in the kingdom who join the kingdom for queen, but he die, that is the story'\n",
    "data=data.split(\"a\")"
   ]
  },
  {
   "cell_type": "code",
   "execution_count": 119,
   "metadata": {},
   "outputs": [
    {
     "name": "stdout",
     "output_type": "stream",
     "text": [
      "['their w', 's ', ' king in the kingdom who join the kingdom for queen, but he die, th', 't is the story']\n"
     ]
    }
   ],
   "source": [
    "print(data)"
   ]
  },
  {
   "cell_type": "code",
   "execution_count": 120,
   "metadata": {},
   "outputs": [
    {
     "data": {
      "text/plain": [
       "['their w',\n",
       " 's ',\n",
       " ' king in the kingdom who join the kingdom for queen, but he die, th',\n",
       " 't is the story']"
      ]
     },
     "execution_count": 120,
     "metadata": {},
     "output_type": "execute_result"
    }
   ],
   "source": [
    "data"
   ]
  },
  {
   "cell_type": "code",
   "execution_count": 121,
   "metadata": {},
   "outputs": [
    {
     "name": "stdout",
     "output_type": "stream",
     "text": [
      "\n",
      "Rs.100000\n",
      "\n",
      "11\n",
      "['Rs.100000']\n"
     ]
    }
   ],
   "source": [
    "kachara='''\n",
    "Rs.100000\n",
    "'''\n",
    "print(kachara)\n",
    "print(len(kachara))\n",
    "print(kachara.split())"
   ]
  },
  {
   "cell_type": "code",
   "execution_count": 122,
   "metadata": {},
   "outputs": [
    {
     "name": "stdout",
     "output_type": "stream",
     "text": [
      "[\"'1.jpg','2.jpg','3.pdf','4.img','5.c','6.java','7.python'\"]\n"
     ]
    }
   ],
   "source": [
    "image=\"'1.jpg','2.jpg','3.pdf','4.img','5.c','6.java','7.python'\"\n",
    "print(image.split())\n",
    "# print(image.removesuffix(.jpg))"
   ]
  },
  {
   "cell_type": "code",
   "execution_count": 123,
   "metadata": {},
   "outputs": [
    {
     "name": "stdout",
     "output_type": "stream",
     "text": [
      "Once upon a time,there was a queen,who left his queendom to the queen,andshe ruled it\n"
     ]
    }
   ],
   "source": [
    "print(story)"
   ]
  },
  {
   "cell_type": "code",
   "execution_count": 124,
   "metadata": {},
   "outputs": [
    {
     "name": "stdout",
     "output_type": "stream",
     "text": [
      "3\n",
      "0\n",
      "4\n"
     ]
    }
   ],
   "source": [
    "print(story.count(\"queen\"))\n",
    "print(story.count(\"king\"))\n",
    "print(story.count(\"a\"))\n"
   ]
  },
  {
   "cell_type": "code",
   "execution_count": 125,
   "metadata": {},
   "outputs": [
    {
     "ename": "AttributeError",
     "evalue": "'int' object has no attribute 'story'",
     "output_type": "error",
     "traceback": [
      "\u001b[1;31m---------------------------------------------------------------------------\u001b[0m",
      "\u001b[1;31mAttributeError\u001b[0m                            Traceback (most recent call last)",
      "Cell \u001b[1;32mIn[125], line 1\u001b[0m\n\u001b[1;32m----> 1\u001b[0m \u001b[39mprint\u001b[39m(story\u001b[39m.\u001b[39mcount(\u001b[39m'\u001b[39m\u001b[39ma\u001b[39m\u001b[39m'\u001b[39m)\u001b[39m+\u001b[39mstory\u001b[39m.\u001b[39mcount(\u001b[39m'\u001b[39m\u001b[39mo\u001b[39m\u001b[39m'\u001b[39m)\u001b[39m.\u001b[39mstory\u001b[39m.\u001b[39mcount(\u001b[39m'\u001b[39m\u001b[39me\u001b[39m\u001b[39m'\u001b[39m)\u001b[39m.\u001b[39mstory\u001b[39m.\u001b[39mcount(\u001b[39m'\u001b[39m\u001b[39mi\u001b[39m\u001b[39m'\u001b[39m)\u001b[39m+\u001b[39mstory\u001b[39m.\u001b[39mcount(\u001b[39m'\u001b[39m\u001b[39mu\u001b[39m\u001b[39m'\u001b[39m))\n",
      "\u001b[1;31mAttributeError\u001b[0m: 'int' object has no attribute 'story'"
     ]
    }
   ],
   "source": [
    "print(story.count('a')+story.count('o').story.count('e').story.count('i')+story.count('u'))"
   ]
  },
  {
   "cell_type": "code",
   "execution_count": 126,
   "metadata": {},
   "outputs": [
    {
     "name": "stdout",
     "output_type": "stream",
     "text": [
      "856\n",
      "4\n"
     ]
    }
   ],
   "source": [
    "content='''The Zen of Python, by Tim Peters\n",
    "\n",
    "Beautiful is better than ugly.\n",
    "Explicit is better than implicit.\n",
    "Simple is better than complex.\n",
    "Complex is better than complicated.\n",
    "Flat is better than nested.\n",
    "Sparse is better than dense.\n",
    "Readability counts.\n",
    "Special cases aren't special enough to break the rules.\n",
    "Although practicality beats purity.\n",
    "Errors should never pass silently.\n",
    "Unless explicitly silenced.\n",
    "In the face of ambiguity, refuse the temptation to guess.\n",
    "There should be one-- and preferably only one --obvious way to do it.\n",
    "Although that way may not be obvious at first unless you're Dutch.\n",
    "Now is better than never.\n",
    "Although never is often better than *right* now.\n",
    "If the implementation is hard to explain, it's a bad idea.\n",
    "If the implementation is easy to explain, it may be a good idea.\n",
    "Namespaces are one honking great idea -- let's do more of those!'''\n",
    "print(len(content))\n",
    "print(content.find('Zen'))"
   ]
  },
  {
   "cell_type": "code",
   "execution_count": 127,
   "metadata": {},
   "outputs": [
    {
     "name": "stdout",
     "output_type": "stream",
     "text": [
      "The                 3\n",
      "Zen                 3\n",
      "of                  2\n",
      "Python,             7\n",
      "by                  2\n",
      "Tim                 3\n",
      "Peters              6\n",
      "Beautiful           9\n",
      "is                  2\n",
      "better              6\n",
      "than                4\n",
      "ugly.               5\n",
      "Explicit            8\n",
      "is                  2\n",
      "better              6\n",
      "than                4\n",
      "implicit.           9\n",
      "Simple              6\n",
      "is                  2\n",
      "better              6\n",
      "than                4\n",
      "complex.            8\n",
      "Complex             7\n",
      "is                  2\n",
      "better              6\n",
      "than                4\n",
      "complicated.        12\n",
      "Flat                4\n",
      "is                  2\n",
      "better              6\n",
      "than                4\n",
      "nested.             7\n",
      "Sparse              6\n",
      "is                  2\n",
      "better              6\n",
      "than                4\n",
      "dense.              6\n",
      "Readability         11\n",
      "counts.             7\n",
      "Special             7\n",
      "cases               5\n",
      "aren't              6\n",
      "special             7\n",
      "enough              6\n",
      "to                  2\n",
      "break               5\n",
      "the                 3\n",
      "rules.              6\n",
      "Although            8\n",
      "practicality        12\n",
      "beats               5\n",
      "purity.             7\n",
      "Errors              6\n",
      "should              6\n",
      "never               5\n",
      "pass                4\n",
      "silently.           9\n",
      "Unless              6\n",
      "explicitly          10\n",
      "silenced.           9\n",
      "In                  2\n",
      "the                 3\n",
      "face                4\n",
      "of                  2\n",
      "ambiguity,          10\n",
      "refuse              6\n",
      "the                 3\n",
      "temptation          10\n",
      "to                  2\n",
      "guess.              6\n",
      "There               5\n",
      "should              6\n",
      "be                  2\n",
      "one--               5\n",
      "and                 3\n",
      "preferably          10\n",
      "only                4\n",
      "one                 3\n",
      "--obvious           9\n",
      "way                 3\n",
      "to                  2\n",
      "do                  2\n",
      "it.                 3\n",
      "Although            8\n",
      "that                4\n",
      "way                 3\n",
      "may                 3\n",
      "not                 3\n",
      "be                  2\n",
      "obvious             7\n",
      "at                  2\n",
      "first               5\n",
      "unless              6\n",
      "you're              6\n",
      "Dutch.              6\n",
      "Now                 3\n",
      "is                  2\n",
      "better              6\n",
      "than                4\n",
      "never.              6\n",
      "Although            8\n",
      "never               5\n",
      "is                  2\n",
      "often               5\n",
      "better              6\n",
      "than                4\n",
      "*right*             7\n",
      "now.                4\n",
      "If                  2\n",
      "the                 3\n",
      "implementation      14\n",
      "is                  2\n",
      "hard                4\n",
      "to                  2\n",
      "explain,            8\n",
      "it's                4\n",
      "a                   1\n",
      "bad                 3\n",
      "idea.               5\n",
      "If                  2\n",
      "the                 3\n",
      "implementation      14\n",
      "is                  2\n",
      "easy                4\n",
      "to                  2\n",
      "explain,            8\n",
      "it                  2\n",
      "may                 3\n",
      "be                  2\n",
      "a                   1\n",
      "good                4\n",
      "idea.               5\n",
      "Namespaces          10\n",
      "are                 3\n",
      "one                 3\n",
      "honking             7\n",
      "great               5\n",
      "idea                4\n",
      "--                  2\n",
      "let's               5\n",
      "do                  2\n",
      "more                4\n",
      "of                  2\n",
      "those!              6\n"
     ]
    }
   ],
   "source": [
    "for word in content.split():\n",
    "    print(f'{word:20}{len(word)}')"
   ]
  }
 ],
 "metadata": {
  "kernelspec": {
   "display_name": "base",
   "language": "python",
   "name": "python3"
  },
  "language_info": {
   "codemirror_mode": {
    "name": "ipython",
    "version": 3
   },
   "file_extension": ".py",
   "mimetype": "text/x-python",
   "name": "python",
   "nbconvert_exporter": "python",
   "pygments_lexer": "ipython3",
   "version": "3.11.4"
  },
  "orig_nbformat": 4
 },
 "nbformat": 4,
 "nbformat_minor": 2
}
