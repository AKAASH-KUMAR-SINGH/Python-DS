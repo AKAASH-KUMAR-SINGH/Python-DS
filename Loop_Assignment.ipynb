{
 "cells": [
  {
   "cell_type": "code",
   "execution_count": null,
   "metadata": {},
   "outputs": [
    {
     "ename": "",
     "evalue": "",
     "output_type": "error",
     "traceback": [
      "\u001b[1;31mFailed to start the Kernel. \n",
      "\u001b[1;31mUnable to start Kernel 'miniconda3 (Python 3.11.4)' due to a timeout waiting for the ports to get used. \n",
      "\u001b[1;31mView Jupyter <a href='command:jupyter.viewOutput'>log</a> for further details."
     ]
    }
   ],
   "source": [
    "#   ---------->>>>>>>Ques 1: <<<<<<------------\n",
    "# WAP to print number from 1 to 10 using For loop\n",
    "for i in range(1,11):\n",
    "    print(i,end=\" \")"
   ]
  },
  {
   "cell_type": "code",
   "execution_count": null,
   "metadata": {},
   "outputs": [
    {
     "ename": "",
     "evalue": "",
     "output_type": "error",
     "traceback": [
      "\u001b[1;31mFailed to start the Kernel. \n",
      "\u001b[1;31mUnable to start Kernel 'miniconda3 (Python 3.11.4)' due to a timeout waiting for the ports to get used. \n",
      "\u001b[1;31mView Jupyter <a href='command:jupyter.viewOutput'>log</a> for further details."
     ]
    }
   ],
   "source": [
    "#   ---------->>>>>>>Ques 2: <<<<<<------------\n",
    "# WAP to print the multiplication table of a given number....\n",
    "\n",
    "num=int(input(\"enter a number you want to print table...\"))\n",
    "count=1\n",
    "while(count<=10):\n",
    "    print(num,\"*\",count,\"=\",num*count)\n",
    "    count+=1"
   ]
  },
  {
   "cell_type": "code",
   "execution_count": null,
   "metadata": {},
   "outputs": [
    {
     "ename": "",
     "evalue": "",
     "output_type": "error",
     "traceback": [
      "\u001b[1;31mFailed to start the Kernel. \n",
      "\u001b[1;31mUnable to start Kernel 'miniconda3 (Python 3.11.4)' due to a timeout waiting for the ports to get used. \n",
      "\u001b[1;31mView Jupyter <a href='command:jupyter.viewOutput'>log</a> for further details."
     ]
    }
   ],
   "source": [
    "#   ---------->>>>>>>Ques 3: <<<<<<------------\n",
    "# WAP to print Sum of all even number between 1 to 100\n",
    "\n",
    "sum=0\n",
    "for i in range(1,101):\n",
    "    if (i%2==0):\n",
    "        sum+=i\n",
    "    \n",
    "print(\"Sum of all number is =\",sum)"
   ]
  },
  {
   "cell_type": "code",
   "execution_count": null,
   "metadata": {},
   "outputs": [
    {
     "ename": "",
     "evalue": "",
     "output_type": "error",
     "traceback": [
      "\u001b[1;31mFailed to start the Kernel. \n",
      "\u001b[1;31mUnable to start Kernel 'miniconda3 (Python 3.11.4)' due to a timeout waiting for the ports to get used. \n",
      "\u001b[1;31mView Jupyter <a href='command:jupyter.viewOutput'>log</a> for further details."
     ]
    }
   ],
   "source": [
    "#   ---------->>>>>>>Ques 4: <<<<<<------------\n",
    "# WAP to check given number is prime or not..\n",
    "\n",
    "num=int(input(\"enter a number:\"))\n",
    "count=0\n",
    "i=2\n",
    "while i<=num/2:\n",
    "    if (num%i)==0:\n",
    "        count=1\n",
    "        break\n",
    "    else:\n",
    "        i+=1\n",
    "if num==1:\n",
    "    print(num,\"is not prime\")\n",
    "elif count==1:\n",
    "    print(num,\"is not prime\")\n",
    "elif count==0:\n",
    "    print(num,\"is a prime number\")\n"
   ]
  },
  {
   "cell_type": "code",
   "execution_count": null,
   "metadata": {},
   "outputs": [
    {
     "ename": "",
     "evalue": "",
     "output_type": "error",
     "traceback": [
      "\u001b[1;31mFailed to start the Kernel. \n",
      "\u001b[1;31mUnable to start Kernel 'miniconda3 (Python 3.11.4)' due to a timeout waiting for the ports to get used. \n",
      "\u001b[1;31mView Jupyter <a href='command:jupyter.viewOutput'>log</a> for further details."
     ]
    }
   ],
   "source": [
    "#   ---------->>>>>>>Ques5: <<<<<<------------\n",
    "# WAP to calculate a factorial of a given number using For loop\n",
    "num=int(input(\"enter a number :\"))\n",
    "sum=1\n",
    "for i in range(1,num+1):\n",
    "    sum*=i\n",
    "print(sum)"
   ]
  },
  {
   "cell_type": "code",
   "execution_count": null,
   "metadata": {},
   "outputs": [
    {
     "ename": "",
     "evalue": "",
     "output_type": "error",
     "traceback": [
      "\u001b[1;31mFailed to start the Kernel. \n",
      "\u001b[1;31mUnable to start Kernel 'miniconda3 (Python 3.11.4)' due to a timeout waiting for the ports to get used. \n",
      "\u001b[1;31mView Jupyter <a href='command:jupyter.viewOutput'>log</a> for further details."
     ]
    }
   ],
   "source": [
    "#   ---------->>>>>>>Ques7: <<<<<<------------\n",
    "# WAP to print Fibonacci Series up to a given limit using \"While Loop\"\n",
    "\n",
    "num=int(input(\"Enter a number to find Fibonacci Series\"))\n",
    "a=0\n",
    "b=1\n",
    "sum=a+b\n",
    "count=0\n",
    "print(\"series\",end=' ')\n",
    "while(count<num):\n",
    "    count+=1\n",
    "    print(a,end=\" \")\n",
    "    a=b\n",
    "    b=sum\n",
    "    sum=a+b"
   ]
  },
  {
   "cell_type": "code",
   "execution_count": null,
   "metadata": {},
   "outputs": [
    {
     "ename": "",
     "evalue": "",
     "output_type": "error",
     "traceback": [
      "\u001b[1;31mFailed to start the Kernel. \n",
      "\u001b[1;31mUnable to start Kernel 'miniconda3 (Python 3.11.4)' due to a timeout waiting for the ports to get used. \n",
      "\u001b[1;31mView Jupyter <a href='command:jupyter.viewOutput'>log</a> for further details."
     ]
    }
   ],
   "source": [
    "# ---------->>>>>>>Ques 8: <<<<<<------------\n",
    "# WAP to print Fibonacci Series up to a given limit using \"for loop\"\n",
    "# (Optional Question)\n",
    "\n",
    "num=int(input(\"enter the term\"))\n",
    "a,b=0,1\n",
    "sum=0\n",
    "print(f'{a} {b}',end=\" \")\n",
    "for i in range(0,num):\n",
    "    sum=a+b\n",
    "    print(f\"{sum}\",end=\" \")\n",
    "\n",
    "    a=b\n",
    "    b=sum"
   ]
  },
  {
   "cell_type": "code",
   "execution_count": null,
   "metadata": {},
   "outputs": [
    {
     "ename": "",
     "evalue": "",
     "output_type": "error",
     "traceback": [
      "\u001b[1;31mFailed to start the Kernel. \n",
      "\u001b[1;31mUnable to start Kernel 'miniconda3 (Python 3.11.4)' due to a timeout waiting for the ports to get used. \n",
      "\u001b[1;31mView Jupyter <a href='command:jupyter.viewOutput'>log</a> for further details."
     ]
    }
   ],
   "source": [
    "# --------->>>>>>Ques9: <<<<<<<-------\n",
    "# WAP to find the largest element in the array using for loop.\n",
    "\n",
    "max=0\n",
    "arr=[2,3,4,1,5,21,65,55,3,45,67,54,87,98,65]\n",
    "for i in range(len(arr)):\n",
    "    if max<=arr[i]:\n",
    "        max=arr[i]\n",
    "\n",
    "print(\"MAximium number in the array is\",max)"
   ]
  },
  {
   "cell_type": "code",
   "execution_count": null,
   "metadata": {},
   "outputs": [
    {
     "ename": "",
     "evalue": "",
     "output_type": "error",
     "traceback": [
      "\u001b[1;31mFailed to start the Kernel. \n",
      "\u001b[1;31mUnable to start Kernel 'miniconda3 (Python 3.11.4)' due to a timeout waiting for the ports to get used. \n",
      "\u001b[1;31mView Jupyter <a href='command:jupyter.viewOutput'>log</a> for further details."
     ]
    }
   ],
   "source": [
    "# ---------->>>>>>Ques10: <<<<<-------\n",
    "# WAP to reverse a given string using while loop\n",
    "\n",
    "string=\"Akash\"\n",
    "b=-1\n",
    "a=[]\n",
    "num=len(string)-1\n",
    "while num>=0:\n",
    "    # a.append(string[num])\n",
    "    a.append(string[b])\n",
    "    b-=1\n",
    "    num-=1\n",
    "print(a)"
   ]
  },
  {
   "cell_type": "code",
   "execution_count": null,
   "metadata": {},
   "outputs": [
    {
     "ename": "",
     "evalue": "",
     "output_type": "error",
     "traceback": [
      "\u001b[1;31mFailed to start the Kernel. \n",
      "\u001b[1;31mUnable to start Kernel 'miniconda3 (Python 3.11.4)' due to a timeout waiting for the ports to get used. \n",
      "\u001b[1;31mView Jupyter <a href='command:jupyter.viewOutput'>log</a> for further details."
     ]
    }
   ],
   "source": [
    "# ------>>>>>Ques11: <<<<<<--------\n",
    "# WAP to print ASCII values of all uppercase letter using \"for loop\"\n",
    "#  lowercase letter from 97 to 122\n",
    "#  uppercase letter from 65 to 90\n",
    "\n",
    "# ASCII values of the lowercase latter.\n",
    "# for i in range('A','Z'):\n",
    "#     print(ord(str(i)),end=\" \")\n",
    "\n",
    "# print(\" \")"
   ]
  },
  {
   "cell_type": "code",
   "execution_count": null,
   "metadata": {},
   "outputs": [
    {
     "ename": "",
     "evalue": "",
     "output_type": "error",
     "traceback": [
      "\u001b[1;31mFailed to start the Kernel. \n",
      "\u001b[1;31mUnable to start Kernel 'miniconda3 (Python 3.11.4)' due to a timeout waiting for the ports to get used. \n",
      "\u001b[1;31mView Jupyter <a href='command:jupyter.viewOutput'>log</a> for further details."
     ]
    }
   ],
   "source": [
    "# ------>>>>>Ques12: <<<<<<--------\n",
    "# WAP to check if a given string is a palindrome using \"while loop\"\n",
    "String=input(\"Enter a string\")\n",
    "n=len(String)//2\n",
    "count=0\n",
    "i=0\n",
    "while n>0:\n",
    "    if String[i]!=String[len(String)-1-i]:\n",
    "        count=1\n",
    "        break\n",
    "    else:\n",
    "        count=0\n",
    "    n-=1\n",
    "    i+=1\n",
    "if count==1:\n",
    "    print(f'{String} is not Palindrome')\n",
    "else:\n",
    "    print(f'{String} is Palindrome')\n"
   ]
  },
  {
   "cell_type": "code",
   "execution_count": null,
   "metadata": {},
   "outputs": [
    {
     "ename": "",
     "evalue": "",
     "output_type": "error",
     "traceback": [
      "\u001b[1;31mFailed to start the Kernel. \n",
      "\u001b[1;31mUnable to start Kernel 'miniconda3 (Python 3.11.4)' due to a timeout waiting for the ports to get used. \n",
      "\u001b[1;31mView Jupyter <a href='command:jupyter.viewOutput'>log</a> for further details."
     ]
    }
   ],
   "source": [
    "# ------>>>>>Ques13: <<<<<<--------\n",
    "# WAP to calculate the average of a list of number using \"for loop\"\n",
    "array=[1,2,3,4,5,6,7,8,9,10]\n",
    "sum=0\n",
    "count=0\n",
    "for i in array:\n",
    "    sum+=i\n",
    "    count+=1\n",
    "sum=sum/count\n",
    "print(\"Average of number is :\",sum)"
   ]
  },
  {
   "cell_type": "code",
   "execution_count": null,
   "metadata": {},
   "outputs": [
    {
     "ename": "",
     "evalue": "",
     "output_type": "error",
     "traceback": [
      "\u001b[1;31mFailed to start the Kernel. \n",
      "\u001b[1;31mUnable to start Kernel 'miniconda3 (Python 3.11.4)' due to a timeout waiting for the ports to get used. \n",
      "\u001b[1;31mView Jupyter <a href='command:jupyter.viewOutput'>log</a> for further details."
     ]
    }
   ],
   "source": [
    "# ------>>>>>Ques14: <<<<<<--------\n",
    "# WAP to find the smallest element in a array using \"while loop\"\n",
    "\n",
    "array=[12,23,32,43,23,25,23,26,56,54,76,66,11]\n",
    "num=array[0]\n",
    "for i in range(1,len(array)):\n",
    "    if num >= array[i]:\n",
    "        num=array[i]\n",
    "print(\"Smallest number is :\",num)"
   ]
  },
  {
   "cell_type": "code",
   "execution_count": null,
   "metadata": {},
   "outputs": [
    {
     "ename": "",
     "evalue": "",
     "output_type": "error",
     "traceback": [
      "\u001b[1;31mFailed to start the Kernel. \n",
      "\u001b[1;31mUnable to start Kernel 'miniconda3 (Python 3.11.4)' due to a timeout waiting for the ports to get used. \n",
      "\u001b[1;31mView Jupyter <a href='command:jupyter.viewOutput'>log</a> for further details."
     ]
    }
   ],
   "source": [
    "# ------>>>>>Ques15: <<<<<<--------\n",
    "# WAP to calculate the sum of digits of a number using \"while loop\"\n",
    "# (Optional question)\n",
    "\n",
    "num=int(input(\"enter a number\"))\n",
    "sum=0\n",
    "while num>0:\n",
    "    Num=num%10\n",
    "    sum+=Num\n",
    "    num//=10\n",
    "print(\"Sum of digit is \",sum)"
   ]
  },
  {
   "cell_type": "code",
   "execution_count": null,
   "metadata": {},
   "outputs": [
    {
     "ename": "",
     "evalue": "",
     "output_type": "error",
     "traceback": [
      "\u001b[1;31mFailed to start the Kernel. \n",
      "\u001b[1;31mUnable to start Kernel 'miniconda3 (Python 3.11.4)' due to a timeout waiting for the ports to get used. \n",
      "\u001b[1;31mView Jupyter <a href='command:jupyter.viewOutput'>log</a> for further details."
     ]
    }
   ],
   "source": [
    "# ------>>>>>Ques16: <<<<<<--------\n",
    "# WAP to check if a given year is a leap year using \"while loop\"\n",
    "year=int(input(\"Enter the year\"))\n",
    "while True:\n",
    "    if year % 100 == 0 or year % 4 == 0 :\n",
    "        print(f'{year} is a leap year')\n",
    "    else:\n",
    "        print(f'{year} is a not leap year')\n",
    "    break\n"
   ]
  },
  {
   "cell_type": "code",
   "execution_count": null,
   "metadata": {},
   "outputs": [
    {
     "ename": "",
     "evalue": "",
     "output_type": "error",
     "traceback": [
      "\u001b[1;31mFailed to start the Kernel. \n",
      "\u001b[1;31mUnable to start Kernel 'miniconda3 (Python 3.11.4)' due to a timeout waiting for the ports to get used. \n",
      "\u001b[1;31mView Jupyter <a href='command:jupyter.viewOutput'>log</a> for further details."
     ]
    }
   ],
   "source": [
    "# ------>>>>>Ques17: <<<<<<--------\n",
    "# WAP to print table of number from 1 to 5 using \"for loop\"\n",
    "\n",
    "for i in range(1,6):\n",
    "    for j in range(1,11):\n",
    "        print(f'{i} * {j} =',i*j)\n",
    "    print(\"\\n\")"
   ]
  },
  {
   "cell_type": "code",
   "execution_count": null,
   "metadata": {},
   "outputs": [
    {
     "ename": "",
     "evalue": "",
     "output_type": "error",
     "traceback": [
      "\u001b[1;31mFailed to start the Kernel. \n",
      "\u001b[1;31mUnable to start Kernel 'miniconda3 (Python 3.11.4)' due to a timeout waiting for the ports to get used. \n",
      "\u001b[1;31mView Jupyter <a href='command:jupyter.viewOutput'>log</a> for further details."
     ]
    }
   ],
   "source": [
    "#   ---------->>>>>>>Ques17: <<<<<<------------\n",
    "# WAP to calculate a factorial of a given number using \"While loop\"\n",
    "\n",
    "\n",
    "num=int(input(\"enter a range\"))\n",
    "sum=1\n",
    "while num>0:\n",
    "    sum*=num\n",
    "    num-=1\n",
    "print(sum)"
   ]
  },
  {
   "cell_type": "code",
   "execution_count": null,
   "metadata": {},
   "outputs": [
    {
     "ename": "",
     "evalue": "",
     "output_type": "error",
     "traceback": [
      "\u001b[1;31mFailed to start the Kernel. \n",
      "\u001b[1;31mUnable to start Kernel 'miniconda3 (Python 3.11.4)' due to a timeout waiting for the ports to get used. \n",
      "\u001b[1;31mView Jupyter <a href='command:jupyter.viewOutput'>log</a> for further details."
     ]
    }
   ],
   "source": [
    "#   ---------->>>>>>>Ques18: <<<<<<------------\n",
    "# WAP to count the number of vowel in a given string using \"for loop\"\n",
    "\n",
    "string=input(\"Enter the string:\")\n",
    "count=0\n",
    "for i in range(len(string)):\n",
    "    if string[i].lower()=='a' or string[i].lower()=='e' or string[i].lower()=='i' or string[i].lower()=='o' or string[i].lower()=='u':\n",
    "        count+=1\n",
    "print(f'number of vowel in the given {string} is :',count)"
   ]
  },
  {
   "cell_type": "code",
   "execution_count": null,
   "metadata": {},
   "outputs": [
    {
     "ename": "",
     "evalue": "",
     "output_type": "error",
     "traceback": [
      "\u001b[1;31mFailed to start the Kernel. \n",
      "\u001b[1;31mUnable to start Kernel 'miniconda3 (Python 3.11.4)' due to a timeout waiting for the ports to get used. \n",
      "\u001b[1;31mView Jupyter <a href='command:jupyter.viewOutput'>log</a> for further details."
     ]
    }
   ],
   "source": [
    "#   ---------->>>>>>>Ques19: <<<<<<------------\n",
    "# Write a program to print the ASCII values of all uppercase letters using a for loop.\n",
    " \n",
    "text=\"Write A Program To Print\"\n",
    "print(len(text))\n",
    "for i in text:\n",
    "    if i.isupper():\n",
    "        print(f'Uppercase letter={i} and its ASCII value={ord(i)}')"
   ]
  },
  {
   "cell_type": "code",
   "execution_count": 12,
   "metadata": {},
   "outputs": [
    {
     "name": "stdout",
     "output_type": "stream",
     "text": [
      "greatest number in arr is 90\n",
      "Smallest number in arrary is 1\n"
     ]
    }
   ],
   "source": [
    "# ---------->> Ques20: <<-------------\n",
    "# Write a program to find the largest and smallest elements in an array using a for loop.\n",
    "arr=[2,3,4,2,1,5,43,55,44,54,67,89,90]\n",
    "largest=float('-inf')\n",
    "smallest=float('inf')\n",
    "for i in range(len(arr)):\n",
    "    if largest < arr[i]:\n",
    "        largest=arr[i]\n",
    "    if smallest > arr[i]:\n",
    "        smallest=arr[i]\n",
    "print(f'greatest number in arr is {largest}\\nSmallest number in arrary is {smallest}')"
   ]
  },
  {
   "cell_type": "code",
   "execution_count": 13,
   "metadata": {},
   "outputs": [],
   "source": [
    "# we can implement (+infinite) in python ny using \n",
    "\n",
    "# Syntax:\n",
    "#     var_name=float('inf')\n",
    "#we can implement (- infinite) in python ny using \n",
    "\n",
    "# Syntax:\n",
    "#     var_name=float('inf')\n"
   ]
  },
  {
   "cell_type": "code",
   "execution_count": 14,
   "metadata": {},
   "outputs": [
    {
     "name": "stdout",
     "output_type": "stream",
     "text": [
      "greatest number in arr is 90\n",
      "Smallest number in arrary is 1\n"
     ]
    }
   ],
   "source": [
    "import math\n",
    "arr=[2,3,4,2,1,5,43,55,44,54,67,89,90]\n",
    "largest=-math.inf\n",
    "smallest=math.inf\n",
    "for i in range(len(arr)):\n",
    "    if largest < arr[i]:\n",
    "        largest=arr[i]\n",
    "    if smallest >arr[i]:\n",
    "        smallest=arr[i]\n",
    "print(f'greatest number in arr is {largest}\\nSmallest number in arrary is {smallest}')"
   ]
  },
  {
   "cell_type": "code",
   "execution_count": 42,
   "metadata": {},
   "outputs": [
    {
     "name": "stdout",
     "output_type": "stream",
     "text": [
      "My name is Akash\n",
      "h s a k a   s i   e m a n   y m "
     ]
    }
   ],
   "source": [
    "# ---------->> Ques21: <<-------------\n",
    "# Write a program to reverse the order of words in a sentence using a while loop.\n",
    "\n",
    "string=\"My name is Akash\"\n",
    "print(string)\n",
    "n=len(string)\n",
    "while n>0:\n",
    "\n",
    "    print(string[n-1].lower(),end=\" \")\n",
    "    n-=1"
   ]
  },
  {
   "cell_type": "markdown",
   "metadata": {},
   "source": [
    "THANKS TO DIGIPODIUM FOR PROVIDING LOOP PRACTICE SET."
   ]
  }
 ],
 "metadata": {
  "kernelspec": {
   "display_name": "base",
   "language": "python",
   "name": "python3"
  },
  "language_info": {
   "codemirror_mode": {
    "name": "ipython",
    "version": 3
   },
   "file_extension": ".py",
   "mimetype": "text/x-python",
   "name": "python",
   "nbconvert_exporter": "python",
   "pygments_lexer": "ipython3",
   "version": "3.11.4"
  },
  "orig_nbformat": 4
 },
 "nbformat": 4,
 "nbformat_minor": 2
}
