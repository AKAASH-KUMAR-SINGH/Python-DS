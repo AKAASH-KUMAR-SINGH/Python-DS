{
 "cells": [
  {
   "cell_type": "code",
   "execution_count": 3,
   "metadata": {},
   "outputs": [],
   "source": [
    "#   ---------->>>>>>>       <<<<<<------------\n",
    "# WAP to print number from 1 to 10 using For loop"
   ]
  },
  {
   "cell_type": "code",
   "execution_count": 4,
   "metadata": {},
   "outputs": [
    {
     "name": "stdout",
     "output_type": "stream",
     "text": [
      "1 2 3 4 5 6 7 8 9 10 "
     ]
    }
   ],
   "source": [
    "for i in range(1,11):\n",
    "    print(i,end=\" \")"
   ]
  },
  {
   "cell_type": "code",
   "execution_count": 5,
   "metadata": {},
   "outputs": [],
   "source": [
    "#   ---------->>>>>>>       <<<<<<------------\n",
    "# WAP to print the multiplication table of a given number...."
   ]
  },
  {
   "cell_type": "code",
   "execution_count": 16,
   "metadata": {},
   "outputs": [
    {
     "name": "stdout",
     "output_type": "stream",
     "text": [
      "6 * 1 = 6\n",
      "6 * 2 = 12\n",
      "6 * 3 = 18\n",
      "6 * 4 = 24\n",
      "6 * 5 = 30\n",
      "6 * 6 = 36\n",
      "6 * 7 = 42\n",
      "6 * 8 = 48\n",
      "6 * 9 = 54\n",
      "6 * 10 = 60\n"
     ]
    }
   ],
   "source": [
    "\n",
    "num=int(input(\"enter a number you want to print table...\"))\n",
    "count=1\n",
    "while(count<=10):\n",
    "    print(num,\"*\",count,\"=\",num*count)\n",
    "    count+=1"
   ]
  },
  {
   "cell_type": "code",
   "execution_count": 17,
   "metadata": {},
   "outputs": [],
   "source": [
    "#   ---------->>>>>>>       <<<<<<------------\n",
    "# WAP to print Sum of all even number between 1 to 100"
   ]
  },
  {
   "cell_type": "code",
   "execution_count": 18,
   "metadata": {},
   "outputs": [
    {
     "name": "stdout",
     "output_type": "stream",
     "text": [
      "Sum of all number is = 2550\n"
     ]
    }
   ],
   "source": [
    "sum=0\n",
    "for i in range(1,101):\n",
    "    if (i%2==0):\n",
    "        sum+=i\n",
    "    \n",
    "print(\"Sum of all number is =\",sum)"
   ]
  },
  {
   "cell_type": "code",
   "execution_count": 19,
   "metadata": {},
   "outputs": [],
   "source": [
    "#   ---------->>>>>>>       <<<<<<------------\n",
    "# WAP to check given number is prime or not.."
   ]
  },
  {
   "cell_type": "code",
   "execution_count": 23,
   "metadata": {},
   "outputs": [
    {
     "name": "stdout",
     "output_type": "stream",
     "text": [
      "6 is not prime\n"
     ]
    }
   ],
   "source": [
    "num=int(input(\"enter a number:\"))\n",
    "count=0\n",
    "i=1\n",
    "while i<=num/2:\n",
    "    if (num%i)==0:\n",
    "        count=1\n",
    "        break\n",
    "    else:\n",
    "        i+=1\n",
    "if num==1:\n",
    "    print(num,\"is not prime\")\n",
    "elif count==1:\n",
    "    print(num,\"is not prime\")\n",
    "elif count==0:\n",
    "    print(num,\"is a prime number\")\n"
   ]
  },
  {
   "cell_type": "code",
   "execution_count": 27,
   "metadata": {},
   "outputs": [
    {
     "name": "stdout",
     "output_type": "stream",
     "text": [
      "720\n"
     ]
    }
   ],
   "source": [
    "#   ---------->>>>>>>       <<<<<<------------\n",
    "# WAP to calculate a factorial of a given number using For loop\n",
    "num=int(input(\"enter a number :\"))\n",
    "sum=1\n",
    "for i in range(1,num+1):\n",
    "    sum*=i\n",
    "print(sum)"
   ]
  },
  {
   "cell_type": "code",
   "execution_count": 43,
   "metadata": {},
   "outputs": [
    {
     "name": "stdout",
     "output_type": "stream",
     "text": [
      "series 0 1 1 2 3 "
     ]
    }
   ],
   "source": [
    "#   ---------->>>>>>>       <<<<<<------------\n",
    "# WAP to print Fibonacci Series up to a giiven limit\n",
    "num=int(input(\"Enter a number to find Fibonacci Series\"))\n",
    "a=0\n",
    "b=1\n",
    "sum=a+b\n",
    "count=0\n",
    "print(\"series\",end=' ')\n",
    "while(count<num):\n",
    "    count+=1\n",
    "    print(a,end=\" \")\n",
    "    a=b\n",
    "    b=sum\n",
    "    sum=a+b"
   ]
  },
  {
   "cell_type": "code",
   "execution_count": null,
   "metadata": {},
   "outputs": [],
   "source": []
  }
 ],
 "metadata": {
  "kernelspec": {
   "display_name": "base",
   "language": "python",
   "name": "python3"
  },
  "language_info": {
   "codemirror_mode": {
    "name": "ipython",
    "version": 3
   },
   "file_extension": ".py",
   "mimetype": "text/x-python",
   "name": "python",
   "nbconvert_exporter": "python",
   "pygments_lexer": "ipython3",
   "version": "3.11.4"
  },
  "orig_nbformat": 4
 },
 "nbformat": 4,
 "nbformat_minor": 2
}
