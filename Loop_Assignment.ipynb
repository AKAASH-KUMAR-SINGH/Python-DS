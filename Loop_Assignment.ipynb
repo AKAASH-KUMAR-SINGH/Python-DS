{
 "cells": [
  {
   "cell_type": "code",
   "execution_count": 1,
   "metadata": {},
   "outputs": [
    {
     "name": "stdout",
     "output_type": "stream",
     "text": [
      "1 2 3 4 5 6 7 8 9 10 "
     ]
    }
   ],
   "source": [
    "#   ---------->>>>>>>Ques 1: <<<<<<------------\n",
    "# WAP to print number from 1 to 10 using For loop\n",
    "for i in range(1,11):\n",
    "    print(i,end=\" \")"
   ]
  },
  {
   "cell_type": "code",
   "execution_count": 2,
   "metadata": {},
   "outputs": [
    {
     "name": "stdout",
     "output_type": "stream",
     "text": [
      "4 * 1 = 4\n",
      "4 * 2 = 8\n",
      "4 * 3 = 12\n",
      "4 * 4 = 16\n",
      "4 * 5 = 20\n",
      "4 * 6 = 24\n",
      "4 * 7 = 28\n",
      "4 * 8 = 32\n",
      "4 * 9 = 36\n",
      "4 * 10 = 40\n"
     ]
    }
   ],
   "source": [
    "#   ---------->>>>>>>Ques 2: <<<<<<------------\n",
    "# WAP to print the multiplication table of a given number....\n",
    "\n",
    "num=int(input(\"enter a number you want to print table...\"))\n",
    "count=1\n",
    "while(count<=10):\n",
    "    print(num,\"*\",count,\"=\",num*count)\n",
    "    count+=1"
   ]
  },
  {
   "cell_type": "code",
   "execution_count": 3,
   "metadata": {},
   "outputs": [
    {
     "name": "stdout",
     "output_type": "stream",
     "text": [
      "Sum of all number is = 2550\n"
     ]
    }
   ],
   "source": [
    "#   ---------->>>>>>>Ques 3: <<<<<<------------\n",
    "# WAP to print Sum of all even number between 1 to 100\n",
    "\n",
    "sum=0\n",
    "for i in range(1,101):\n",
    "    if (i%2==0):\n",
    "        sum+=i\n",
    "    \n",
    "print(\"Sum of all number is =\",sum)"
   ]
  },
  {
   "cell_type": "code",
   "execution_count": 4,
   "metadata": {},
   "outputs": [
    {
     "name": "stdout",
     "output_type": "stream",
     "text": [
      "12 is not prime\n"
     ]
    }
   ],
   "source": [
    "#   ---------->>>>>>>Ques 4: <<<<<<------------\n",
    "# WAP to check given number is prime or not..\n",
    "\n",
    "num=int(input(\"enter a number:\"))\n",
    "count=0\n",
    "i=2\n",
    "while i<=num/2:\n",
    "    if (num%i)==0:\n",
    "        count=1\n",
    "        break\n",
    "    else:\n",
    "        i+=1\n",
    "if num==1:\n",
    "    print(num,\"is not prime\")\n",
    "elif count==1:\n",
    "    print(num,\"is not prime\")\n",
    "elif count==0:\n",
    "    print(num,\"is a prime number\")\n"
   ]
  },
  {
   "cell_type": "code",
   "execution_count": 5,
   "metadata": {},
   "outputs": [
    {
     "name": "stdout",
     "output_type": "stream",
     "text": [
      "120\n"
     ]
    }
   ],
   "source": [
    "#   ---------->>>>>>>Ques5: <<<<<<------------\n",
    "# WAP to calculate a factorial of a given number using For loop\n",
    "num=int(input(\"enter a number :\"))\n",
    "sum=1\n",
    "for i in range(1,num+1):\n",
    "    sum*=i\n",
    "print(sum)"
   ]
  },
  {
   "cell_type": "code",
   "execution_count": 6,
   "metadata": {},
   "outputs": [
    {
     "name": "stdout",
     "output_type": "stream",
     "text": [
      "720\n"
     ]
    }
   ],
   "source": []
  },
  {
   "cell_type": "code",
   "execution_count": 7,
   "metadata": {},
   "outputs": [
    {
     "name": "stdout",
     "output_type": "stream",
     "text": [
      "series 0 1 1 2 3 "
     ]
    }
   ],
   "source": [
    "#   ---------->>>>>>>Ques7: <<<<<<------------\n",
    "# WAP to print Fibonacci Series up to a given limit using \"While Loop\"\n",
    "\n",
    "num=int(input(\"Enter a number to find Fibonacci Series\"))\n",
    "a=0\n",
    "b=1\n",
    "sum=a+b\n",
    "count=0\n",
    "print(\"series\",end=' ')\n",
    "while(count<num):\n",
    "    count+=1\n",
    "    print(a,end=\" \")\n",
    "    a=b\n",
    "    b=sum\n",
    "    sum=a+b"
   ]
  },
  {
   "cell_type": "code",
   "execution_count": 8,
   "metadata": {},
   "outputs": [
    {
     "name": "stdout",
     "output_type": "stream",
     "text": [
      "0 1 1 2 3 5 8 13 21 34 55 89 "
     ]
    }
   ],
   "source": [
    "# ---------->>>>>>>Ques 8: <<<<<<------------\n",
    "# WAP to print Fibonacci Series up to a given limit using \"for loop\"\n",
    "# (Optional Question)\n",
    "\n",
    "num=int(input(\"enter the term\"))\n",
    "a,b=0,1\n",
    "sum=0\n",
    "print(f'{a} {b}',end=\" \")\n",
    "for i in range(0,num):\n",
    "    sum=a+b\n",
    "    print(f\"{sum}\",end=\" \")\n",
    "\n",
    "    a=b\n",
    "    b=sum"
   ]
  },
  {
   "cell_type": "code",
   "execution_count": 13,
   "metadata": {},
   "outputs": [
    {
     "name": "stdout",
     "output_type": "stream",
     "text": [
      "MAximium number in the array is 98\n"
     ]
    }
   ],
   "source": [
    "# --------->>>>>>Ques9: <<<<<<<-------\n",
    "# WAP to find the largest element in the array using for loop.\n",
    "\n",
    "max=0\n",
    "arr=[2,3,4,1,5,21,65,55,3,45,67,54,87,98,65]\n",
    "for i in range(len(arr)):\n",
    "    if max<=arr[i]:\n",
    "        max=arr[i]\n",
    "\n",
    "print(\"MAximium number in the array is\",max)"
   ]
  },
  {
   "cell_type": "code",
   "execution_count": 23,
   "metadata": {},
   "outputs": [
    {
     "name": "stdout",
     "output_type": "stream",
     "text": [
      "['h', 's', 'a', 'k', 'A']\n"
     ]
    }
   ],
   "source": [
    "# ---------->>>>>>Ques10: <<<<<-------\n",
    "# WAP to reverse a given string using while loop\n",
    "\n",
    "string=\"Akash\"\n",
    "b=-1\n",
    "a=[]\n",
    "num=len(string)-1\n",
    "while num>=0:\n",
    "    # a.append(string[num])\n",
    "    a.append(string[b])\n",
    "    b-=1\n",
    "    num-=1\n",
    "print(a)"
   ]
  },
  {
   "cell_type": "code",
   "execution_count": 44,
   "metadata": {},
   "outputs": [],
   "source": [
    "# ------>>>>>Ques11: <<<<<<--------\n",
    "# WAP to print ASCII values of all uppercase letter using \"for loop\"\n",
    "#  lowercase letter from 97 to 122\n",
    "#  uppercase letter from 65 to 90\n",
    "\n",
    "# ASCII values of the lowercase latter.\n",
    "# for i in range('A','Z'):\n",
    "#     print(ord(str(i)),end=\" \")\n",
    "\n",
    "# print(\" \")"
   ]
  },
  {
   "cell_type": "code",
   "execution_count": 51,
   "metadata": {},
   "outputs": [
    {
     "name": "stdout",
     "output_type": "stream",
     "text": [
      "akash is not Palindrome\n"
     ]
    }
   ],
   "source": [
    "# ------>>>>>Ques12: <<<<<<--------\n",
    "# WAP to check if a given string is a palindrome using \"while loop\"\n",
    "String=input(\"Enter a string\")\n",
    "n=len(String)//2\n",
    "count=0\n",
    "i=0\n",
    "while n>0:\n",
    "    if String[i]!=String[len(String)-1-i]:\n",
    "        count=1\n",
    "        break\n",
    "    else:\n",
    "        count=0\n",
    "    n-=1\n",
    "    i+=1\n",
    "if count==1:\n",
    "    print(f'{String} is not Palindrome')\n",
    "else:\n",
    "    print(f'{String} is Palindrome')\n"
   ]
  },
  {
   "cell_type": "code",
   "execution_count": 54,
   "metadata": {},
   "outputs": [
    {
     "name": "stdout",
     "output_type": "stream",
     "text": [
      "Average of number is : 5.5\n"
     ]
    }
   ],
   "source": [
    "# ------>>>>>Ques13: <<<<<<--------\n",
    "# WAP to calculate the average of a list of number using \"for loop\"\n",
    "array=[1,2,3,4,5,6,7,8,9,10]\n",
    "sum=0\n",
    "count=0\n",
    "for i in array:\n",
    "    sum+=i\n",
    "    count+=1\n",
    "sum=sum/count\n",
    "print(\"Average of number is :\",sum)"
   ]
  },
  {
   "cell_type": "code",
   "execution_count": 58,
   "metadata": {},
   "outputs": [
    {
     "name": "stdout",
     "output_type": "stream",
     "text": [
      "Smallest number is : 11\n"
     ]
    }
   ],
   "source": [
    "# ------>>>>>Ques14: <<<<<<--------\n",
    "# WAP to find the smallest element in a array using \"while loop\"\n",
    "\n",
    "array=[12,23,32,43,23,25,23,26,56,54,76,66,11]\n",
    "num=array[0]\n",
    "for i in range(1,len(array)):\n",
    "    if num >= array[i]:\n",
    "        num=array[i]\n",
    "print(\"Smallest number is :\",num)"
   ]
  },
  {
   "cell_type": "code",
   "execution_count": 61,
   "metadata": {},
   "outputs": [
    {
     "name": "stdout",
     "output_type": "stream",
     "text": [
      "Sum of digit is  21\n"
     ]
    }
   ],
   "source": [
    "# ------>>>>>Ques15: <<<<<<--------\n",
    "# WAP to calculate the sum of digits of a number using \"while loop\"\n",
    "# (Optional question)\n",
    "\n",
    "num=int(input(\"enter a number\"))\n",
    "sum=0\n",
    "while num>0:\n",
    "    Num=num%10\n",
    "    sum+=Num\n",
    "    num//=10\n",
    "print(\"Sum of digit is \",sum)"
   ]
  },
  {
   "cell_type": "code",
   "execution_count": 4,
   "metadata": {},
   "outputs": [
    {
     "name": "stdout",
     "output_type": "stream",
     "text": [
      "2015 is a not leap year\n"
     ]
    }
   ],
   "source": [
    "# ------>>>>>Ques16: <<<<<<--------\n",
    "# WAP to check if a given year is a leap year using \"while loop\"\n",
    "year=int(input(\"Enter the year\"))\n",
    "while True:\n",
    "    if year % 100 == 0 or year % 4 == 0 :\n",
    "        print(f'{year} is a leap year')\n",
    "    else:\n",
    "        print(f'{year} is a not leap year')\n",
    "    break\n"
   ]
  },
  {
   "cell_type": "code",
   "execution_count": 5,
   "metadata": {},
   "outputs": [
    {
     "name": "stdout",
     "output_type": "stream",
     "text": [
      "1 * 1 = 1\n",
      "1 * 2 = 2\n",
      "1 * 3 = 3\n",
      "1 * 4 = 4\n",
      "1 * 5 = 5\n",
      "1 * 6 = 6\n",
      "1 * 7 = 7\n",
      "1 * 8 = 8\n",
      "1 * 9 = 9\n",
      "1 * 10 = 10\n",
      "\n",
      "\n",
      "2 * 1 = 2\n",
      "2 * 2 = 4\n",
      "2 * 3 = 6\n",
      "2 * 4 = 8\n",
      "2 * 5 = 10\n",
      "2 * 6 = 12\n",
      "2 * 7 = 14\n",
      "2 * 8 = 16\n",
      "2 * 9 = 18\n",
      "2 * 10 = 20\n",
      "\n",
      "\n",
      "3 * 1 = 3\n",
      "3 * 2 = 6\n",
      "3 * 3 = 9\n",
      "3 * 4 = 12\n",
      "3 * 5 = 15\n",
      "3 * 6 = 18\n",
      "3 * 7 = 21\n",
      "3 * 8 = 24\n",
      "3 * 9 = 27\n",
      "3 * 10 = 30\n",
      "\n",
      "\n",
      "4 * 1 = 4\n",
      "4 * 2 = 8\n",
      "4 * 3 = 12\n",
      "4 * 4 = 16\n",
      "4 * 5 = 20\n",
      "4 * 6 = 24\n",
      "4 * 7 = 28\n",
      "4 * 8 = 32\n",
      "4 * 9 = 36\n",
      "4 * 10 = 40\n",
      "\n",
      "\n",
      "5 * 1 = 5\n",
      "5 * 2 = 10\n",
      "5 * 3 = 15\n",
      "5 * 4 = 20\n",
      "5 * 5 = 25\n",
      "5 * 6 = 30\n",
      "5 * 7 = 35\n",
      "5 * 8 = 40\n",
      "5 * 9 = 45\n",
      "5 * 10 = 50\n",
      "\n",
      "\n"
     ]
    }
   ],
   "source": [
    "# ------>>>>>Ques17: <<<<<<--------\n",
    "# WAP to print table of number from 1 to 5 using \"for loop\"\n",
    "\n",
    "for i in range(1,6):\n",
    "    for j in range(1,11):\n",
    "        print(f'{i} * {j} =',i*j)\n",
    "    print(\"\\n\")"
   ]
  },
  {
   "cell_type": "code",
   "execution_count": 6,
   "metadata": {},
   "outputs": [
    {
     "name": "stdout",
     "output_type": "stream",
     "text": [
      "120\n"
     ]
    }
   ],
   "source": [
    "#   ---------->>>>>>>Ques17: <<<<<<------------\n",
    "# WAP to calculate a factorial of a given number using \"While loop\"\n",
    "\n",
    "\n",
    "num=int(input(\"enter a range\"))\n",
    "sum=1\n",
    "while num>0:\n",
    "    sum*=num\n",
    "    num-=1\n",
    "print(sum)"
   ]
  },
  {
   "cell_type": "code",
   "execution_count": 9,
   "metadata": {},
   "outputs": [
    {
     "name": "stdout",
     "output_type": "stream",
     "text": [
      "number of vowel in the given Akash is : 2\n"
     ]
    }
   ],
   "source": [
    "#   ---------->>>>>>>Ques18: <<<<<<------------\n",
    "# WAP to count the number of vowel in a given string using \"for loop\"\n",
    "\n",
    "string=input(\"Enter the string:\")\n",
    "count=0\n",
    "for i in range(len(string)):\n",
    "    if string[i].lower()=='a' or string[i].lower()=='e' or string[i].lower()=='i' or string[i].lower()=='o' or string[i].lower()=='u':\n",
    "        count+=1\n",
    "print(f'number of vowel in the given {string} is :',count)"
   ]
  },
  {
   "cell_type": "code",
   "execution_count": 4,
   "metadata": {},
   "outputs": [
    {
     "name": "stdout",
     "output_type": "stream",
     "text": [
      "24\n",
      "Uppercase letter=W and its ASCII value=87\n",
      "Uppercase letter=A and its ASCII value=65\n",
      "Uppercase letter=P and its ASCII value=80\n",
      "Uppercase letter=T and its ASCII value=84\n",
      "Uppercase letter=P and its ASCII value=80\n"
     ]
    }
   ],
   "source": [
    "text=\"Write A Program To Print\"\n",
    "print(len(text))\n",
    "for i in text:\n",
    "    if i.isupper():\n",
    "        print(f'Uppercase letter={i} and its ASCII value={ord(i)}')"
   ]
  },
  {
   "cell_type": "code",
   "execution_count": null,
   "metadata": {},
   "outputs": [],
   "source": []
  }
 ],
 "metadata": {
  "kernelspec": {
   "display_name": "base",
   "language": "python",
   "name": "python3"
  },
  "language_info": {
   "codemirror_mode": {
    "name": "ipython",
    "version": 3
   },
   "file_extension": ".py",
   "mimetype": "text/x-python",
   "name": "python",
   "nbconvert_exporter": "python",
   "pygments_lexer": "ipython3",
   "version": "3.11.4"
  },
  "orig_nbformat": 4
 },
 "nbformat": 4,
 "nbformat_minor": 2
}
