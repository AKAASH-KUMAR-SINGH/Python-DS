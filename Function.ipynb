{
 "cells": [
  {
   "cell_type": "code",
   "execution_count": 1,
   "metadata": {},
   "outputs": [
    {
     "data": {
      "text/plain": [
       "'Syntax \\n    def fun_name([parameter]):\\n        statement 1\\n        statement 2\\n        ...\\n        ...\\n        statement 3\\n        [return expression]\\n'"
      ]
     },
     "execution_count": 1,
     "metadata": {},
     "output_type": "execute_result"
    }
   ],
   "source": [
    "'''Syntax \n",
    "    def fun_name([parameter]):\n",
    "        statement 1\n",
    "        statement 2\n",
    "        ...\n",
    "        ...\n",
    "        statement 3\n",
    "        [return expression]\n",
    "'''"
   ]
  },
  {
   "cell_type": "code",
   "execution_count": 2,
   "metadata": {},
   "outputs": [],
   "source": [
    "# example:\n",
    "def area(width,heigth):\n",
    "    a=width*height\n",
    "    return a"
   ]
  },
  {
   "cell_type": "markdown",
   "metadata": {},
   "source": [
    "-based on parameter and return value\n",
    "    1. no parameter ,no return value\n",
    "    2. no parameter ,return value\n",
    "    3. parameter ,no return value\n",
    "    4. parameter ,return value\n",
    "\n",
    "-based on parameter type\n",
    "    1.required parameter\n",
    "    2.keyword parameter\n",
    "    3.default parameter\n",
    "    4.variabble length parameter(*args)\n",
    "    5.variable keyword argument (*kwargs)\n",
    "\n",
    "-other type of function\n",
    "    -lambda function\n",
    "    -generetor function\n",
    "    -recursive function\n"
   ]
  },
  {
   "cell_type": "code",
   "execution_count": 6,
   "metadata": {},
   "outputs": [],
   "source": [
    "# value returning function\n",
    "def area():\n",
    "    l=int(input(\"Enter l= \"))\n",
    "    b=int(input(\"Enter b= \"))\n",
    "    return l*b"
   ]
  },
  {
   "cell_type": "code",
   "execution_count": 8,
   "metadata": {},
   "outputs": [
    {
     "name": "stdout",
     "output_type": "stream",
     "text": [
      "area is 156\n"
     ]
    }
   ],
   "source": [
    "ans=area()\n",
    "print(f'area is {ans}')"
   ]
  },
  {
   "cell_type": "code",
   "execution_count": 11,
   "metadata": {},
   "outputs": [],
   "source": [
    "def math():\n",
    "    p=int(input(\"Enter the principle :\"))\n",
    "    r=int(input(\"Enter the Rate :\"))\n",
    "    t=int(input(\"Enter the Time :\"))\n",
    "    si=p*r*t/100\n",
    "    amt=p+si\n",
    "    return si,amt"
   ]
  },
  {
   "cell_type": "code",
   "execution_count": 12,
   "metadata": {},
   "outputs": [
    {
     "name": "stdout",
     "output_type": "stream",
     "text": [
      "si 1200.0\n",
      "amt 2200.0\n"
     ]
    }
   ],
   "source": [
    "result=math()\n",
    "print(f'si',result[0])\n",
    "print(f'amt',result[1])"
   ]
  },
  {
   "cell_type": "code",
   "execution_count": 13,
   "metadata": {},
   "outputs": [
    {
     "name": "stdout",
     "output_type": "stream",
     "text": [
      "1200.0 2200.0\n"
     ]
    }
   ],
   "source": [
    "si,amount=math()\n",
    "print(si,amount)"
   ]
  },
  {
   "cell_type": "code",
   "execution_count": 14,
   "metadata": {},
   "outputs": [],
   "source": [
    "def is_armstrong(number):\n",
    "    t=number\n",
    "    s=0 #sum\n",
    "    pw=len(str(number))\n",
    "    while number>0:\n",
    "        r=number%10\n",
    "        s+=r**pw\n",
    "        number//=10\n",
    "    return t==s"
   ]
  },
  {
   "cell_type": "code",
   "execution_count": 15,
   "metadata": {},
   "outputs": [
    {
     "name": "stdout",
     "output_type": "stream",
     "text": [
      "False\n"
     ]
    }
   ],
   "source": [
    "print(is_armstrong(123))"
   ]
  },
  {
   "cell_type": "code",
   "execution_count": 17,
   "metadata": {},
   "outputs": [
    {
     "name": "stdout",
     "output_type": "stream",
     "text": [
      "153\n",
      "370\n",
      "371\n",
      "407\n"
     ]
    }
   ],
   "source": [
    "for i in range(100,999999):\n",
    "    if is_armstrong(i):\n",
    "        print(i)"
   ]
  },
  {
   "cell_type": "code",
   "execution_count": 20,
   "metadata": {},
   "outputs": [],
   "source": [
    "def adder(a,b,c):\n",
    "    return a+b+c"
   ]
  },
  {
   "cell_type": "code",
   "execution_count": 21,
   "metadata": {},
   "outputs": [
    {
     "name": "stdout",
     "output_type": "stream",
     "text": [
      "6\n"
     ]
    }
   ],
   "source": [
    "print(adder(1,2,3))"
   ]
  },
  {
   "cell_type": "code",
   "execution_count": 34,
   "metadata": {},
   "outputs": [
    {
     "name": "stdout",
     "output_type": "stream",
     "text": [
      "8\n",
      "8\n",
      "8\n",
      "7\n"
     ]
    }
   ],
   "source": [
    "print(adder(a=4,c=3,b=1))   #allow for any order\n",
    "print(adder(a=4,b=1,c=3))   #keyword Argument\n",
    "print(adder(4,b=1,c=3))\n",
    "print(adder(1,2,c=4))"
   ]
  },
  {
   "cell_type": "code",
   "execution_count": 36,
   "metadata": {},
   "outputs": [],
   "source": [
    "def multiplier(a,b,c=1):\n",
    "    return a*b*c"
   ]
  },
  {
   "cell_type": "code",
   "execution_count": 38,
   "metadata": {},
   "outputs": [
    {
     "name": "stdout",
     "output_type": "stream",
     "text": [
      "6\n",
      "60\n",
      "30\n"
     ]
    }
   ],
   "source": [
    "print(multiplier(2,3))\n",
    "print(multiplier(2,3,10))\n",
    "print(multiplier(2,3,c=5))"
   ]
  },
  {
   "cell_type": "code",
   "execution_count": 45,
   "metadata": {},
   "outputs": [],
   "source": [
    "from string import punctuation\n",
    "def cleaner(data,chars=None):\n",
    "    if chars is None:\n",
    "        chars=punctuation\n",
    "    for c in chars:\n",
    "        data=data.replace(c,'')\n",
    "    return data"
   ]
  },
  {
   "cell_type": "code",
   "execution_count": 53,
   "metadata": {},
   "outputs": [
    {
     "data": {
      "text/plain": [
       "'Hello'"
      ]
     },
     "execution_count": 53,
     "metadata": {},
     "output_type": "execute_result"
    }
   ],
   "source": [
    "cleaner('H!@#$#e#@$%!l&*^#@l()*&^&{o]',)"
   ]
  },
  {
   "cell_type": "code",
   "execution_count": 47,
   "metadata": {},
   "outputs": [
    {
     "name": "stdout",
     "output_type": "stream",
     "text": [
      "!\"#$%&'()*+,-./:;<=>?@[\\]^_`{|}~\n"
     ]
    }
   ],
   "source": [
    "print(punctuation,sep=' ')"
   ]
  },
  {
   "cell_type": "code",
   "execution_count": 54,
   "metadata": {},
   "outputs": [],
   "source": [
    "def multiplier(*nums):\n",
    "    result=1\n",
    "    for i in nums:\n",
    "        result*=i\n",
    "    return result"
   ]
  },
  {
   "cell_type": "code",
   "execution_count": 56,
   "metadata": {},
   "outputs": [
    {
     "name": "stdout",
     "output_type": "stream",
     "text": [
      "1\n",
      "2\n",
      "120\n",
      "30240\n",
      "6\n"
     ]
    }
   ],
   "source": [
    "print(multiplier())\n",
    "print(multiplier(2))\n",
    "print(multiplier(1,2,3,4,5))\n",
    "print(multiplier(10,9,8,7,6))\n",
    "print(multiplier(1,2,3))\n",
    "\n"
   ]
  },
  {
   "cell_type": "code",
   "execution_count": 57,
   "metadata": {},
   "outputs": [],
   "source": [
    "def aggregator(*x,action='sum'):\n",
    "    if action=='sum':\n",
    "        return sum(x)\n",
    "    elif action =='count':\n",
    "        return len(x)\n",
    "    elif action=='mean':\n",
    "        return sum(x)/len(x)\n",
    "    else:\n",
    "        raise ValueError('Invalid action')"
   ]
  },
  {
   "cell_type": "code",
   "execution_count": 63,
   "metadata": {},
   "outputs": [
    {
     "data": {
      "text/plain": [
       "5"
      ]
     },
     "execution_count": 63,
     "metadata": {},
     "output_type": "execute_result"
    }
   ],
   "source": [
    "# aggregator(1,2,3,4,5, action='count')\n",
    "aggregator(1,2,3,4,5, action='count')"
   ]
  },
  {
   "cell_type": "code",
   "execution_count": null,
   "metadata": {},
   "outputs": [],
   "source": []
  }
 ],
 "metadata": {
  "kernelspec": {
   "display_name": "base",
   "language": "python",
   "name": "python3"
  },
  "language_info": {
   "codemirror_mode": {
    "name": "ipython",
    "version": 3
   },
   "file_extension": ".py",
   "mimetype": "text/x-python",
   "name": "python",
   "nbconvert_exporter": "python",
   "pygments_lexer": "ipython3",
   "version": "3.11.4"
  },
  "orig_nbformat": 4
 },
 "nbformat": 4,
 "nbformat_minor": 2
}
