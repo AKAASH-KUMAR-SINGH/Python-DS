{
 "cells": [
  {
   "cell_type": "code",
   "execution_count": 2,
   "metadata": {},
   "outputs": [
    {
     "data": {
      "text/plain": [
       "'Syntax \\n    def fun_name([parameter]):\\n        statement 1\\n        statement 2\\n        ...\\n        ...\\n        statement 3\\n        [return expression]\\n'"
      ]
     },
     "execution_count": 2,
     "metadata": {},
     "output_type": "execute_result"
    }
   ],
   "source": [
    "'''Syntax \n",
    "    def fun_name([parameter]):\n",
    "        statement 1\n",
    "        statement 2\n",
    "        ...\n",
    "        ...\n",
    "        statement 3\n",
    "        [return expression]\n",
    "'''"
   ]
  },
  {
   "cell_type": "code",
   "execution_count": 4,
   "metadata": {},
   "outputs": [],
   "source": [
    "# example:\n",
    "def area(width,heigth):\n",
    "    a=width*height\n",
    "    return a"
   ]
  },
  {
   "cell_type": "markdown",
   "metadata": {},
   "source": [
    "-based on parameter and return value\n",
    "    1. no parameter ,no return value\n",
    "    2. no parameter ,return value\n",
    "    3. parameter ,no return value\n",
    "    4. parameter ,return value\n",
    "\n",
    "-based on parameter type\n",
    "    1.required parameter\n",
    "    2.keyword parameter\n",
    "    3.default parameter\n",
    "    4.variabble length parameter(*args)\n",
    "    5.variable keyword argument (*kwargs)\n",
    "\n",
    "-other type of function\n",
    "    -lambda function\n",
    "    -generetor function\n",
    "    -recursive function\n"
   ]
  },
  {
   "cell_type": "markdown",
   "metadata": {},
   "source": []
  }
 ],
 "metadata": {
  "kernelspec": {
   "display_name": "base",
   "language": "python",
   "name": "python3"
  },
  "language_info": {
   "codemirror_mode": {
    "name": "ipython",
    "version": 3
   },
   "file_extension": ".py",
   "mimetype": "text/x-python",
   "name": "python",
   "nbconvert_exporter": "python",
   "pygments_lexer": "ipython3",
   "version": "3.11.4"
  },
  "orig_nbformat": 4
 },
 "nbformat": 4,
 "nbformat_minor": 2
}
