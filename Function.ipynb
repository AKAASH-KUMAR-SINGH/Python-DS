{
 "cells": [
  {
   "cell_type": "code",
   "execution_count": 1,
   "metadata": {},
   "outputs": [
    {
     "data": {
      "text/plain": [
       "'Syntax \\n    def fun_name([parameter]):\\n        statement 1\\n        statement 2\\n        ...\\n        ...\\n        statement 3\\n        [return expression]\\n'"
      ]
     },
     "execution_count": 1,
     "metadata": {},
     "output_type": "execute_result"
    }
   ],
   "source": [
    "'''Syntax \n",
    "    def fun_name([parameter]):\n",
    "        statement 1\n",
    "        statement 2\n",
    "        ...\n",
    "        ...\n",
    "        statement 3\n",
    "        [return expression]\n",
    "'''"
   ]
  },
  {
   "cell_type": "code",
   "execution_count": 2,
   "metadata": {},
   "outputs": [],
   "source": [
    "# example:\n",
    "def area(width,heigth):\n",
    "    a=width*height\n",
    "    return a"
   ]
  },
  {
   "cell_type": "markdown",
   "metadata": {},
   "source": [
    "-based on parameter and return value\n",
    "    1. no parameter ,no return value\n",
    "    2. no parameter ,return value\n",
    "    3. parameter ,no return value\n",
    "    4. parameter ,return value\n",
    "\n",
    "-based on parameter type\n",
    "    1.required parameter\n",
    "    2.keyword parameter\n",
    "    3.default parameter\n",
    "    4.variabble length parameter(*args)\n",
    "    5.variable keyword argument (*kwargs)\n",
    "\n",
    "-other type of function\n",
    "    -lambda function\n",
    "    -generetor function\n",
    "    -recursive function\n"
   ]
  },
  {
   "cell_type": "code",
   "execution_count": 6,
   "metadata": {},
   "outputs": [],
   "source": [
    "# value returning function\n",
    "def area():\n",
    "    l=int(input(\"Enter l= \"))\n",
    "    b=int(input(\"Enter b= \"))\n",
    "    return l*b"
   ]
  },
  {
   "cell_type": "code",
   "execution_count": 8,
   "metadata": {},
   "outputs": [
    {
     "name": "stdout",
     "output_type": "stream",
     "text": [
      "area is 156\n"
     ]
    }
   ],
   "source": [
    "ans=area()\n",
    "print(f'area is {ans}')"
   ]
  },
  {
   "cell_type": "code",
   "execution_count": 11,
   "metadata": {},
   "outputs": [],
   "source": [
    "def math():\n",
    "    p=int(input(\"Enter the principle :\"))\n",
    "    r=int(input(\"Enter the Rate :\"))\n",
    "    t=int(input(\"Enter the Time :\"))\n",
    "    si=p*r*t/100\n",
    "    amt=p+si\n",
    "    return si,amt"
   ]
  },
  {
   "cell_type": "code",
   "execution_count": 12,
   "metadata": {},
   "outputs": [
    {
     "name": "stdout",
     "output_type": "stream",
     "text": [
      "si 1200.0\n",
      "amt 2200.0\n"
     ]
    }
   ],
   "source": [
    "result=math()\n",
    "print(f'si',result[0])\n",
    "print(f'amt',result[1])"
   ]
  },
  {
   "cell_type": "code",
   "execution_count": 13,
   "metadata": {},
   "outputs": [
    {
     "name": "stdout",
     "output_type": "stream",
     "text": [
      "1200.0 2200.0\n"
     ]
    }
   ],
   "source": [
    "si,amount=math()\n",
    "print(si,amount)"
   ]
  },
  {
   "cell_type": "code",
   "execution_count": 14,
   "metadata": {},
   "outputs": [],
   "source": [
    "def is_armstrong(number):\n",
    "    t=number\n",
    "    s=0 #sum\n",
    "    pw=len(str(number))\n",
    "    while number>0:\n",
    "        r=number%10\n",
    "        s+=r**pw\n",
    "        number//=10\n",
    "    return t==s"
   ]
  },
  {
   "cell_type": "code",
   "execution_count": 15,
   "metadata": {},
   "outputs": [
    {
     "name": "stdout",
     "output_type": "stream",
     "text": [
      "False\n"
     ]
    }
   ],
   "source": [
    "print(is_armstrong(123))"
   ]
  },
  {
   "cell_type": "code",
   "execution_count": 17,
   "metadata": {},
   "outputs": [
    {
     "name": "stdout",
     "output_type": "stream",
     "text": [
      "153\n",
      "370\n",
      "371\n",
      "407\n"
     ]
    }
   ],
   "source": [
    "for i in range(100,999999):\n",
    "    if is_armstrong(i):\n",
    "        print(i)"
   ]
  },
  {
   "cell_type": "code",
   "execution_count": 20,
   "metadata": {},
   "outputs": [],
   "source": [
    "def adder(a,b,c):\n",
    "    return a+b+c"
   ]
  },
  {
   "cell_type": "code",
   "execution_count": 21,
   "metadata": {},
   "outputs": [
    {
     "name": "stdout",
     "output_type": "stream",
     "text": [
      "6\n"
     ]
    }
   ],
   "source": [
    "print(adder(1,2,3))"
   ]
  },
  {
   "cell_type": "code",
   "execution_count": 34,
   "metadata": {},
   "outputs": [
    {
     "name": "stdout",
     "output_type": "stream",
     "text": [
      "8\n",
      "8\n",
      "8\n",
      "7\n"
     ]
    }
   ],
   "source": [
    "print(adder(a=4,c=3,b=1))   #allow for any order\n",
    "print(adder(a=4,b=1,c=3))   #keyword Argument\n",
    "print(adder(4,b=1,c=3))\n",
    "print(adder(1,2,c=4))"
   ]
  },
  {
   "cell_type": "code",
   "execution_count": 36,
   "metadata": {},
   "outputs": [],
   "source": [
    "def multiplier(a,b,c=1):\n",
    "    return a*b*c"
   ]
  },
  {
   "cell_type": "code",
   "execution_count": 38,
   "metadata": {},
   "outputs": [
    {
     "name": "stdout",
     "output_type": "stream",
     "text": [
      "6\n",
      "60\n",
      "30\n"
     ]
    }
   ],
   "source": [
    "print(multiplier(2,3))\n",
    "print(multiplier(2,3,10))\n",
    "print(multiplier(2,3,c=5))"
   ]
  },
  {
   "cell_type": "code",
   "execution_count": 45,
   "metadata": {},
   "outputs": [],
   "source": [
    "from string import punctuation\n",
    "def cleaner(data,chars=None):\n",
    "    if chars is None:\n",
    "        chars=punctuation\n",
    "    for c in chars:\n",
    "        data=data.replace(c,'')\n",
    "    return data"
   ]
  },
  {
   "cell_type": "code",
   "execution_count": 53,
   "metadata": {},
   "outputs": [
    {
     "data": {
      "text/plain": [
       "'Hello'"
      ]
     },
     "execution_count": 53,
     "metadata": {},
     "output_type": "execute_result"
    }
   ],
   "source": [
    "cleaner('H!@#$#e#@$%!l&*^#@l()*&^&{o]',)"
   ]
  },
  {
   "cell_type": "code",
   "execution_count": 47,
   "metadata": {},
   "outputs": [
    {
     "name": "stdout",
     "output_type": "stream",
     "text": [
      "!\"#$%&'()*+,-./:;<=>?@[\\]^_`{|}~\n"
     ]
    }
   ],
   "source": [
    "print(punctuation,sep=' ')"
   ]
  },
  {
   "cell_type": "code",
   "execution_count": 54,
   "metadata": {},
   "outputs": [],
   "source": [
    "def multiplier(*nums):\n",
    "    result=1\n",
    "    for i in nums:\n",
    "        result*=i\n",
    "    return result"
   ]
  },
  {
   "cell_type": "code",
   "execution_count": 56,
   "metadata": {},
   "outputs": [
    {
     "name": "stdout",
     "output_type": "stream",
     "text": [
      "1\n",
      "2\n",
      "120\n",
      "30240\n",
      "6\n"
     ]
    }
   ],
   "source": [
    "print(multiplier())\n",
    "print(multiplier(2))\n",
    "print(multiplier(1,2,3,4,5))\n",
    "print(multiplier(10,9,8,7,6))\n",
    "print(multiplier(1,2,3))\n",
    "\n"
   ]
  },
  {
   "cell_type": "code",
   "execution_count": 2,
   "metadata": {},
   "outputs": [],
   "source": [
    "def aggregator(*x,action='sum'):\n",
    "    if action=='sum':\n",
    "        return sum(x)\n",
    "    elif action =='count':\n",
    "        return len(x)\n",
    "    elif action=='mean':\n",
    "        return sum(x)/len(x)\n",
    "    else:\n",
    "        raise ValueError('Invalid action')"
   ]
  },
  {
   "cell_type": "code",
   "execution_count": 3,
   "metadata": {},
   "outputs": [
    {
     "data": {
      "text/plain": [
       "15"
      ]
     },
     "execution_count": 3,
     "metadata": {},
     "output_type": "execute_result"
    }
   ],
   "source": [
    "# aggregator(1,2,3,4,5, action='count')\n",
    "\n",
    "aggregator(1,2,3,4,5, action='sum')"
   ]
  },
  {
   "cell_type": "code",
   "execution_count": 4,
   "metadata": {},
   "outputs": [],
   "source": [
    "def sorter(*data,type='number'):\n",
    "    if type=='number':\n",
    "        clean_data=[]\n",
    "        for i in data:\n",
    "            if isinstance(i,int)or isinstance(i,float):\n",
    "                clean_data.append(i)\n",
    "        clean_data.sort()\n",
    "        return clean_data\n",
    "    else:\n",
    "        return None                "
   ]
  },
  {
   "cell_type": "code",
   "execution_count": 5,
   "metadata": {},
   "outputs": [
    {
     "data": {
      "text/plain": [
       "[1, 1, 2, 2, 3, 3, 3, 4, 5, 6, 9, 54]"
      ]
     },
     "execution_count": 5,
     "metadata": {},
     "output_type": "execute_result"
    }
   ],
   "source": [
    "sorter(1,2,3,4,5,3,2,1,6,54,3,9)"
   ]
  },
  {
   "cell_type": "code",
   "execution_count": 7,
   "metadata": {},
   "outputs": [
    {
     "data": {
      "text/plain": [
       "[3, 4, 8, 9, 24, 33, 55, 65, 76]"
      ]
     },
     "execution_count": 7,
     "metadata": {},
     "output_type": "execute_result"
    }
   ],
   "source": [
    "sorter(9,8,'r',4,55,3,24,33,65,76,'n','b')"
   ]
  },
  {
   "cell_type": "code",
   "execution_count": 35,
   "metadata": {},
   "outputs": [],
   "source": [
    "def display_data(**data):\n",
    "    print(\"Your Data\")\n",
    "    total=0\n",
    "    for k,v in data.item():\n",
    "        print(f'{k:10}{v}')\n",
    "        total+=v\n",
    "    print('-'*20)\n",
    "    print(f'Total: Rs.{total}')\n",
    "    print('-'*20) "
   ]
  },
  {
   "cell_type": "code",
   "execution_count": 36,
   "metadata": {},
   "outputs": [
    {
     "ename": "TypeError",
     "evalue": "display_data() got an unexpected keyword argument 'dahi'",
     "output_type": "error",
     "traceback": [
      "\u001b[1;31m---------------------------------------------------------------------------\u001b[0m",
      "\u001b[1;31mTypeError\u001b[0m                                 Traceback (most recent call last)",
      "Cell \u001b[1;32mIn[36], line 1\u001b[0m\n\u001b[1;32m----> 1\u001b[0m display_data(dahi\u001b[39m=\u001b[39m\u001b[39m50\u001b[39m, medicine\u001b[39m=\u001b[39m\u001b[39m1200\u001b[39m, tshirt\u001b[39m=\u001b[39m\u001b[39m250\u001b[39m, fruits\u001b[39m=\u001b[39m\u001b[39m100\u001b[39m)\n",
      "\u001b[1;31mTypeError\u001b[0m: display_data() got an unexpected keyword argument 'dahi'"
     ]
    }
   ],
   "source": [
    "display_data(dahi=50, medicine=1200, tshirt=250, fruits=100)"
   ]
  },
  {
   "cell_type": "code",
   "execution_count": 25,
   "metadata": {},
   "outputs": [
    {
     "name": "stdout",
     "output_type": "stream",
     "text": [
      "210\n",
      "60\n",
      "26\n"
     ]
    }
   ],
   "source": [
    "f=lambda x:x**2 + x*10 +x\n",
    "print(f(10))\n",
    "print(f(4))\n",
    "print(f(2))"
   ]
  },
  {
   "cell_type": "code",
   "execution_count": 26,
   "metadata": {},
   "outputs": [
    {
     "name": "stdout",
     "output_type": "stream",
     "text": [
      "18\n",
      "708\n",
      "156\n"
     ]
    }
   ],
   "source": [
    "g=lambda x,y:x**3 +y**4 +x*y -1\n",
    "print(g(1,2))\n",
    "print(g(4,5))\n",
    "print(g(4,3))"
   ]
  },
  {
   "cell_type": "code",
   "execution_count": 37,
   "metadata": {},
   "outputs": [],
   "source": [
    "pyt=lambda p,b :(p**2 + b**2)**.5"
   ]
  },
  {
   "cell_type": "code",
   "execution_count": 38,
   "metadata": {},
   "outputs": [
    {
     "data": {
      "text/plain": [
       "19.1049731745428"
      ]
     },
     "execution_count": 38,
     "metadata": {},
     "output_type": "execute_result"
    }
   ],
   "source": [
    "pyt(13,14)"
   ]
  },
  {
   "cell_type": "markdown",
   "metadata": {},
   "source": [
    "MAP: list of data-> operation->new list of data\n",
    "FILTER: list of data->condition->new list of data"
   ]
  },
  {
   "cell_type": "code",
   "execution_count": 48,
   "metadata": {},
   "outputs": [
    {
     "name": "stdout",
     "output_type": "stream",
     "text": [
      "[1, 8, 27, 64, 125, 216, 343, 512, 512, 343, 729, 1000]\n",
      "(1, 8, 27, 64, 125, 216, 343, 512, 512, 343, 729, 1000)\n",
      "{64, 1, 512, 8, 1000, 343, 216, 729, 27, 125}\n"
     ]
    }
   ],
   "source": [
    "x=[1,2,3,4,5,6,7,8,8,7,9,10]\n",
    "x3=list(map(lambda i:i**3, x))\n",
    "x4=tuple(map(lambda i:i**3, x))\n",
    "x5=set(map(lambda i:i**3, x))\n",
    "print(x3,x4,x5,sep='\\n')"
   ]
  },
  {
   "cell_type": "code",
   "execution_count": 49,
   "metadata": {},
   "outputs": [
    {
     "name": "stdout",
     "output_type": "stream",
     "text": [
      "[2, 6, 12, 20, 30, 42]\n"
     ]
    }
   ],
   "source": [
    "x=[1,2,3,4,5,6]\n",
    "y=[2,3,4,5,6,7]\n",
    "xy=list(map(lambda i,j:i*j,x,y))\n",
    "print(xy)"
   ]
  },
  {
   "cell_type": "code",
   "execution_count": 59,
   "metadata": {},
   "outputs": [
    {
     "data": {
      "text/plain": [
       "range(0, 10)"
      ]
     },
     "execution_count": 59,
     "metadata": {},
     "output_type": "execute_result"
    }
   ],
   "source": [
    "range(10)"
   ]
  },
  {
   "cell_type": "code",
   "execution_count": 50,
   "metadata": {},
   "outputs": [
    {
     "name": "stdout",
     "output_type": "stream",
     "text": [
      "[1, 3, 1, 3, 3, 3]\n"
     ]
    }
   ],
   "source": [
    "a=[1,2,3,4,1,3,2,4,3,3,4,2]\n",
    "b=list(filter(lambda i: i%2==1, a))\n",
    "print(b)"
   ]
  },
  {
   "cell_type": "code",
   "execution_count": 51,
   "metadata": {},
   "outputs": [],
   "source": [
    "from random import randint"
   ]
  },
  {
   "cell_type": "code",
   "execution_count": 52,
   "metadata": {},
   "outputs": [],
   "source": [
    "def random_range(s,e,size=10):\n",
    "    for i in range(size):\n",
    "        yield randint(s,e)"
   ]
  },
  {
   "cell_type": "code",
   "execution_count": 53,
   "metadata": {},
   "outputs": [
    {
     "name": "stdout",
     "output_type": "stream",
     "text": [
      "5 5 2 3 4 1 1 4 1 4 "
     ]
    }
   ],
   "source": [
    "for i in random_range(1,5,10):\n",
    "    print(i,end=' ')"
   ]
  },
  {
   "cell_type": "code",
   "execution_count": null,
   "metadata": {},
   "outputs": [],
   "source": []
  }
 ],
 "metadata": {
  "kernelspec": {
   "display_name": "base",
   "language": "python",
   "name": "python3"
  },
  "language_info": {
   "codemirror_mode": {
    "name": "ipython",
    "version": 3
   },
   "file_extension": ".py",
   "mimetype": "text/x-python",
   "name": "python",
   "nbconvert_exporter": "python",
   "pygments_lexer": "ipython3",
   "version": "3.11.4"
  },
  "orig_nbformat": 4
 },
 "nbformat": 4,
 "nbformat_minor": 2
}
