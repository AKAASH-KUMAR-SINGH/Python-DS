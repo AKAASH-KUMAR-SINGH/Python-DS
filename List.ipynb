{
 "cells": [
  {
   "cell_type": "code",
   "execution_count": null,
   "metadata": {},
   "outputs": [
    {
     "ename": "",
     "evalue": "",
     "output_type": "error",
     "traceback": [
      "\u001b[1;31mFailed to start the Kernel. \n",
      "\u001b[1;31mUnable to start Kernel 'base (Python 3.11.4)' due to a timeout waiting for the ports to get used. \n",
      "\u001b[1;31mView Jupyter <a href='command:jupyter.viewOutput'>log</a> for further details."
     ]
    }
   ],
   "source": [
    "# List\n",
    "# -->> indexed,ordered,mutable,can have dublicate,[],'list()'.\n",
    "\n",
    "# Tuple\n",
    "# -->> indexed,ordered,immutable,can have dublicate,(),'tuple()'.\n",
    "\n",
    "# Set\n",
    "# -->> unindexed,unordered,mutable,\"cannot have dublicate\",{},'set()'.\n",
    "\n",
    "#dictionary\n",
    "# -->> unindexed,ordered,mutable,\"key:value pairs\",\"immutable key\",\"{key:value}\",'dict()'."
   ]
  },
  {
   "cell_type": "code",
   "execution_count": 2,
   "metadata": {},
   "outputs": [],
   "source": [
    "x=[]  #empty list\n",
    "a=[1,2,3,45]    #numeric list\n",
    "colors=['red','green','blue']   #string list\n",
    "mixed=[1,2,'red','green',False,True,None,[1,2,3]]   #mixed list\n",
    "nested_list=[[1,2,3],['apple','green','pink']]  #nested_list."
   ]
  },
  {
   "cell_type": "code",
   "execution_count": 3,
   "metadata": {},
   "outputs": [
    {
     "name": "stdout",
     "output_type": "stream",
     "text": [
      "['A', 'k', 'a', 's', 'h', ' ', 'K', 'u', 'm', 'a', 'r', ' ', 'S', 'i', 'n', 'g', 'h']\n"
     ]
    }
   ],
   "source": [
    "# convert \"string\" into \"List\"\n",
    "name='Akash Kumar Singh'\n",
    "new_list=list(name)\n",
    "print(new_list)"
   ]
  },
  {
   "cell_type": "code",
   "execution_count": 4,
   "metadata": {},
   "outputs": [
    {
     "name": "stdout",
     "output_type": "stream",
     "text": [
      "['red', 'green', 'blue', 'red', 'green', 'blue', 'red', 'green', 'blue']\n"
     ]
    }
   ],
   "source": [
    "Color=colors*3\n",
    "print(Color)"
   ]
  },
  {
   "cell_type": "code",
   "execution_count": 5,
   "metadata": {},
   "outputs": [
    {
     "name": "stdout",
     "output_type": "stream",
     "text": [
      "[1, 2, 3, 45, 'red', 'green', 'blue', 'red', 'green', 'blue', 'red', 'green', 'blue'] "
     ]
    }
   ],
   "source": [
    "#   concatenate two list\n",
    "print(a+Color,end=\" \")"
   ]
  },
  {
   "cell_type": "code",
   "execution_count": 6,
   "metadata": {},
   "outputs": [
    {
     "name": "stdout",
     "output_type": "stream",
     "text": [
      "11\n"
     ]
    }
   ],
   "source": [
    "Color=['red','Green','blue','pink','yellow','Black','brown','violet','wheat','skyblue','white']\n",
    "print(len(Color))"
   ]
  },
  {
   "cell_type": "code",
   "execution_count": 7,
   "metadata": {},
   "outputs": [
    {
     "name": "stdout",
     "output_type": "stream",
     "text": [
      "['red', 'Green', 'blue', 'pink', 'yellow']\n",
      "['wheat', 'skyblue', 'white']\n",
      "['white', 'skyblue', 'wheat', 'violet', 'brown', 'Black', 'yellow', 'pink', 'blue', 'Green', 'red']\n",
      "['red', 'Green', 'blue', 'pink', 'yellow', 'Black', 'brown', 'violet', 'wheat', 'skyblue']\n"
     ]
    }
   ],
   "source": [
    "# slicing :\n",
    "print(Color[:5])\n",
    "print(Color[-3:])\n",
    "print(Color[::-1])\n",
    "print(Color[:-1:])\n"
   ]
  },
  {
   "cell_type": "code",
   "execution_count": null,
   "metadata": {},
   "outputs": [],
   "source": [
    "Color[3]=\"Violet\"\n",
    "print(Color)"
   ]
  },
  {
   "cell_type": "code",
   "execution_count": null,
   "metadata": {},
   "outputs": [],
   "source": [
    "# total 11 methods in a list\n",
    "# -- to add\n",
    "#     1. append()\n",
    "#     2. extend()\n",
    "#     3. insert()\n",
    "# -- to remove\n",
    "#     1. remove()\n",
    "#     2. pop()\n",
    "#     3. clear()\n",
    "# -- for utility\n",
    "#     1. reverse()\n",
    "#     2. sort()\n",
    "#     3. copy()\n",
    "#     4. count()\n",
    "#     5. index()"
   ]
  },
  {
   "cell_type": "code",
   "execution_count": null,
   "metadata": {},
   "outputs": [],
   "source": [
    "tvshows=[]   #empty list\n",
    "tvshows.append('Chota Bheem')\n",
    "tvshows.append(\"Bhen 10\")\n",
    "tvshows.append(\"Motu Patlu\")\n",
    "tvshows.append(\"Tom Jerry\")\n",
    "tvshows.append(\"Doremon\")\n"
   ]
  },
  {
   "cell_type": "code",
   "execution_count": null,
   "metadata": {},
   "outputs": [],
   "source": [
    "print(tvshows)"
   ]
  },
  {
   "cell_type": "code",
   "execution_count": null,
   "metadata": {},
   "outputs": [],
   "source": [
    "Youtube_chann=[]\n",
    "Youtube_chann.append('Apna College')\n",
    "Youtube_chann.append('Apni Kaksha')\n",
    "Youtube_chann.append('Code with Harry')\n",
    "Youtube_chann.append('Khan Academy')\n",
    "Youtube_chann.append('codeacademy')"
   ]
  },
  {
   "cell_type": "code",
   "execution_count": null,
   "metadata": {},
   "outputs": [],
   "source": [
    "print(Youtube_chann)"
   ]
  },
  {
   "cell_type": "code",
   "execution_count": null,
   "metadata": {},
   "outputs": [],
   "source": [
    "# insert() method is used to insert item in the given index.\n",
    "Youtube_chann.insert((0),'Upsc')"
   ]
  },
  {
   "cell_type": "code",
   "execution_count": null,
   "metadata": {},
   "outputs": [],
   "source": [
    "print(Youtube_chann)"
   ]
  },
  {
   "cell_type": "code",
   "execution_count": null,
   "metadata": {},
   "outputs": [],
   "source": [
    "# extend() method is used to add list in the existing list.\n",
    "tvshows.extend(Youtube_chann)\n",
    "print(tvshows) "
   ]
  },
  {
   "cell_type": "code",
   "execution_count": null,
   "metadata": {},
   "outputs": [],
   "source": [
    "# remove() method is used to remove the item in the list.\n",
    "# if itm not found then *error* occur.\n",
    "print(tvshows,end=\" \")"
   ]
  },
  {
   "cell_type": "code",
   "execution_count": null,
   "metadata": {},
   "outputs": [],
   "source": [
    "if 'Motu Patlu' in tvshows:\n",
    "    tvshows.remove(\"Motu Patlu\")\n",
    "print(tvshows) "
   ]
  },
  {
   "cell_type": "code",
   "execution_count": null,
   "metadata": {},
   "outputs": [],
   "source": [
    "# pop() method is used to pop the item in the list.\n",
    "# and display the pop item .\n",
    "tvshows.pop(0)"
   ]
  },
  {
   "cell_type": "code",
   "execution_count": null,
   "metadata": {},
   "outputs": [],
   "source": [
    "tvshows"
   ]
  },
  {
   "cell_type": "code",
   "execution_count": null,
   "metadata": {},
   "outputs": [],
   "source": [
    "del colors"
   ]
  },
  {
   "cell_type": "code",
   "execution_count": null,
   "metadata": {},
   "outputs": [],
   "source": [
    "x=[1,32,43,23,65,4,34,22,56,67,89,89,90,78,67,76,55,44,56,33,23,44,67,77]\n",
    "# sort() method is used sort the item in the list(Ascending Order).\n",
    "x.sort()\n",
    "print(x)"
   ]
  },
  {
   "cell_type": "code",
   "execution_count": null,
   "metadata": {},
   "outputs": [],
   "source": [
    "#reverse() is used to revese the list in descending order.\n",
    "x.sort(reverse=True)\n",
    "print(x)"
   ]
  },
  {
   "cell_type": "code",
   "execution_count": null,
   "metadata": {},
   "outputs": [],
   "source": [
    "x.count(44)"
   ]
  },
  {
   "cell_type": "code",
   "execution_count": null,
   "metadata": {},
   "outputs": [],
   "source": [
    "X=[1,3,2,4,3,5,6,2,1,2,1,4,5,1]\n",
    "print(X)"
   ]
  },
  {
   "cell_type": "code",
   "execution_count": null,
   "metadata": {},
   "outputs": [],
   "source": [
    "X.count(1)"
   ]
  },
  {
   "cell_type": "code",
   "execution_count": null,
   "metadata": {},
   "outputs": [],
   "source": [
    "print(x)\n",
    "print(x.index(43))"
   ]
  },
  {
   "cell_type": "code",
   "execution_count": null,
   "metadata": {},
   "outputs": [],
   "source": [
    "start=0\n",
    "for i in range(x.count(1)):\n",
    "    pos=x.index(1,start)\n",
    "    start=pos+1\n",
    "    print(pos)\n",
    "    "
   ]
  },
  {
   "cell_type": "code",
   "execution_count": null,
   "metadata": {},
   "outputs": [],
   "source": []
  }
 ],
 "metadata": {
  "kernelspec": {
   "display_name": "base",
   "language": "python",
   "name": "python3"
  },
  "language_info": {
   "codemirror_mode": {
    "name": "ipython",
    "version": 3
   },
   "file_extension": ".py",
   "mimetype": "text/x-python",
   "name": "python",
   "nbconvert_exporter": "python",
   "pygments_lexer": "ipython3",
   "version": "3.11.4"
  },
  "orig_nbformat": 4
 },
 "nbformat": 4,
 "nbformat_minor": 2
}
