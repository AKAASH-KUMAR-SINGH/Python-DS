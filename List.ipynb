{
 "cells": [
  {
   "cell_type": "code",
   "execution_count": 4,
   "metadata": {},
   "outputs": [],
   "source": [
    "# List\n",
    "# -->> indexed,ordered,mutable,can have dublicate,[],'list()'.\n",
    "\n",
    "# Tuple\n",
    "# -->> indexed,ordered,immutable,can have dublicate,(),'tuple()'.\n",
    "\n",
    "# Set\n",
    "# -->> unindexed,unordered,mutable,\"cannot have dublicate\",{},'set()'.\n",
    "\n",
    "#dictionary\n",
    "# -->> unindexed,ordered,mutable,\"key:value pairs\",\"immutable key\",\"{key:value}\",'dict()'."
   ]
  },
  {
   "cell_type": "code",
   "execution_count": 5,
   "metadata": {},
   "outputs": [],
   "source": [
    "x=[]  #empty list\n",
    "a=[1,2,3,45]    #numeric list\n",
    "colors=['red','green','blue']   #string list\n",
    "mixed=[1,2,'red','green',False,True,None,[1,2,3]]   #mixed list\n",
    "nested_list=[[1,2,3],['apple','green','pink']]  #nested_list."
   ]
  },
  {
   "cell_type": "code",
   "execution_count": 7,
   "metadata": {},
   "outputs": [
    {
     "name": "stdout",
     "output_type": "stream",
     "text": [
      "['A', 'k', 'a', 's', 'h', ' ', 'K', 'u', 'm', 'a', 'r', ' ', 'S', 'i', 'n', 'g', 'h']\n"
     ]
    }
   ],
   "source": [
    "# convert \"string\" into \"List\"\n",
    "name='Akash Kumar Singh'\n",
    "new_list=list(name)\n",
    "print(new_list)"
   ]
  },
  {
   "cell_type": "code",
   "execution_count": 8,
   "metadata": {},
   "outputs": [
    {
     "name": "stdout",
     "output_type": "stream",
     "text": [
      "['red', 'green', 'blue', 'red', 'green', 'blue', 'red', 'green', 'blue']\n"
     ]
    }
   ],
   "source": [
    "Color=colors*3\n",
    "print(Color)"
   ]
  },
  {
   "cell_type": "code",
   "execution_count": 11,
   "metadata": {},
   "outputs": [
    {
     "name": "stdout",
     "output_type": "stream",
     "text": [
      "[1, 2, 3, 45, 'red', 'green', 'blue', 'red', 'green', 'blue', 'red', 'green', 'blue'] "
     ]
    }
   ],
   "source": [
    "#   concatenate two list\n",
    "print(a+Color,end=\" \")"
   ]
  },
  {
   "cell_type": "code",
   "execution_count": 17,
   "metadata": {},
   "outputs": [
    {
     "name": "stdout",
     "output_type": "stream",
     "text": [
      "11\n"
     ]
    }
   ],
   "source": [
    "Color=['red','Green','blue','pink','yellow','Black','brown','violet','wheat','skyblue','white']\n",
    "print(len(Color))"
   ]
  },
  {
   "cell_type": "code",
   "execution_count": 23,
   "metadata": {},
   "outputs": [
    {
     "name": "stdout",
     "output_type": "stream",
     "text": [
      "['red', 'Green', 'blue', 'pink', 'yellow']\n",
      "['wheat', 'skyblue', 'white']\n",
      "['white', 'skyblue', 'wheat', 'violet', 'brown', 'Black', 'yellow', 'pink', 'blue', 'Green', 'red']\n",
      "['red', 'Green', 'blue', 'pink', 'yellow', 'Black', 'brown', 'violet', 'wheat', 'skyblue']\n"
     ]
    }
   ],
   "source": [
    "# slicing :\n",
    "print(Color[:5])\n",
    "print(Color[-3:])\n",
    "print(Color[::-1])\n",
    "print(Color[:-1:])\n"
   ]
  },
  {
   "cell_type": "code",
   "execution_count": 30,
   "metadata": {},
   "outputs": [
    {
     "name": "stdout",
     "output_type": "stream",
     "text": [
      "['red', 'Green', 'blue', 'Violet', 'yellow', 'Black', 'brown', 'violet', 'wheat', 'skyblue', 'white']\n"
     ]
    }
   ],
   "source": [
    "Color[3]=\"Violet\"\n",
    "print(Color)"
   ]
  },
  {
   "cell_type": "code",
   "execution_count": 31,
   "metadata": {},
   "outputs": [],
   "source": [
    "# total 11 methods in a list\n",
    "# -- to add\n",
    "#     1. append()\n",
    "#     2. extend()\n",
    "#     3. insert()\n",
    "# -- to remove\n",
    "#     1. remove()\n",
    "#     2. pop()\n",
    "#     3. clear()\n",
    "# -- for utility\n",
    "#     1. reverse()\n",
    "#     2. sort()\n",
    "#     3. copy()\n",
    "#     4. count()\n",
    "#     5. index()"
   ]
  },
  {
   "cell_type": "code",
   "execution_count": 32,
   "metadata": {},
   "outputs": [],
   "source": [
    "tvshows=[]   #empty list\n",
    "tvshows.append('Chota Bheem')\n",
    "tvshows.append(\"Bhen 10\")\n",
    "tvshows.append(\"Motu Patlu\")\n",
    "tvshows.append(\"Tom Jerry\")\n",
    "tvshows.append(\"Doremon\")\n"
   ]
  },
  {
   "cell_type": "code",
   "execution_count": 34,
   "metadata": {},
   "outputs": [
    {
     "name": "stdout",
     "output_type": "stream",
     "text": [
      "['Chota Bheem', 'Bhen 10', 'Motu Patlu', 'Tom Jerry', 'Doremon']\n"
     ]
    }
   ],
   "source": [
    "print(tvshows)"
   ]
  },
  {
   "cell_type": "code",
   "execution_count": 36,
   "metadata": {},
   "outputs": [],
   "source": [
    "Youtube_chann=[]\n",
    "Youtube_chann.append('Apna College')\n",
    "Youtube_chann.append('Apni Kaksha')\n",
    "Youtube_chann.append('Code with Harry')\n",
    "Youtube_chann.append('Khan Academy')\n",
    "Youtube_chann.append('codeacademy')"
   ]
  },
  {
   "cell_type": "code",
   "execution_count": 37,
   "metadata": {},
   "outputs": [
    {
     "name": "stdout",
     "output_type": "stream",
     "text": [
      "['Apna College', 'Apni Kaksha', 'Code with Harry', 'Khan Academy', 'codeacademy']\n"
     ]
    }
   ],
   "source": [
    "print(Youtube_chann)"
   ]
  },
  {
   "cell_type": "code",
   "execution_count": 38,
   "metadata": {},
   "outputs": [],
   "source": [
    "# insert() method is used to insert item in the given index.\n",
    "Youtube_chann.insert((0),'Upsc')"
   ]
  },
  {
   "cell_type": "code",
   "execution_count": 40,
   "metadata": {},
   "outputs": [
    {
     "name": "stdout",
     "output_type": "stream",
     "text": [
      "['Upsc', 'Apna College', 'Apni Kaksha', 'Code with Harry', 'Khan Academy', 'codeacademy']\n"
     ]
    }
   ],
   "source": [
    "print(Youtube_chann)"
   ]
  },
  {
   "cell_type": "code",
   "execution_count": 41,
   "metadata": {},
   "outputs": [
    {
     "name": "stdout",
     "output_type": "stream",
     "text": [
      "['Chota Bheem', 'Bhen 10', 'Motu Patlu', 'Tom Jerry', 'Doremon', 'Upsc', 'Apna College', 'Apni Kaksha', 'Code with Harry', 'Khan Academy', 'codeacademy']\n"
     ]
    }
   ],
   "source": [
    "# extend() method is used to add list in the existing list.\n",
    "tvshows.extend(Youtube_chann)\n",
    "print(tvshows) "
   ]
  },
  {
   "cell_type": "code",
   "execution_count": 43,
   "metadata": {},
   "outputs": [
    {
     "name": "stdout",
     "output_type": "stream",
     "text": [
      "['Chota Bheem', 'Bhen 10', 'Motu Patlu', 'Tom Jerry', 'Doremon', 'Upsc', 'Apna College', 'Apni Kaksha', 'Code with Harry', 'Khan Academy', 'codeacademy'] "
     ]
    }
   ],
   "source": [
    "# remove() method is used to remove the item in the list.\n",
    "# if itm not found then *error* occur.\n",
    "print(tvshows,end=\" \")"
   ]
  },
  {
   "cell_type": "code",
   "execution_count": 45,
   "metadata": {},
   "outputs": [
    {
     "name": "stdout",
     "output_type": "stream",
     "text": [
      "['Chota Bheem', 'Bhen 10', 'Tom Jerry', 'Doremon', 'Upsc', 'Apna College', 'Apni Kaksha', 'Code with Harry', 'Khan Academy', 'codeacademy']\n"
     ]
    }
   ],
   "source": [
    "if 'Motu Patlu' in tvshows:\n",
    "    tvshows.remove(\"Motu Patlu\")\n",
    "print(tvshows) "
   ]
  },
  {
   "cell_type": "code",
   "execution_count": 47,
   "metadata": {},
   "outputs": [
    {
     "data": {
      "text/plain": [
       "'Chota Bheem'"
      ]
     },
     "execution_count": 47,
     "metadata": {},
     "output_type": "execute_result"
    }
   ],
   "source": [
    "# pop() method is used to pop the item in the list.\n",
    "# and display the pop item .\n",
    "tvshows.pop(0)"
   ]
  },
  {
   "cell_type": "code",
   "execution_count": 48,
   "metadata": {},
   "outputs": [
    {
     "data": {
      "text/plain": [
       "['Bhen 10',\n",
       " 'Tom Jerry',\n",
       " 'Doremon',\n",
       " 'Upsc',\n",
       " 'Apna College',\n",
       " 'Apni Kaksha',\n",
       " 'Code with Harry',\n",
       " 'Khan Academy',\n",
       " 'codeacademy']"
      ]
     },
     "execution_count": 48,
     "metadata": {},
     "output_type": "execute_result"
    }
   ],
   "source": [
    "tvshows"
   ]
  },
  {
   "cell_type": "code",
   "execution_count": 50,
   "metadata": {},
   "outputs": [],
   "source": [
    "del colors"
   ]
  },
  {
   "cell_type": "code",
   "execution_count": 55,
   "metadata": {},
   "outputs": [
    {
     "name": "stdout",
     "output_type": "stream",
     "text": [
      "[1, 4, 22, 23, 23, 32, 33, 34, 43, 44, 44, 55, 56, 56, 65, 67, 67, 67, 76, 77, 78, 89, 89, 90]\n"
     ]
    }
   ],
   "source": [
    "x=[1,32,43,23,65,4,34,22,56,67,89,89,90,78,67,76,55,44,56,33,23,44,67,77]\n",
    "# sort() method is used sort the item in the list(Ascending Order).\n",
    "x.sort()\n",
    "print(x)"
   ]
  },
  {
   "cell_type": "code",
   "execution_count": 57,
   "metadata": {},
   "outputs": [
    {
     "name": "stdout",
     "output_type": "stream",
     "text": [
      "[90, 89, 89, 78, 77, 76, 67, 67, 67, 65, 56, 56, 55, 44, 44, 43, 34, 33, 32, 23, 23, 22, 4, 1]\n"
     ]
    }
   ],
   "source": [
    "#reverse() is used to revese the list in descending order.\n",
    "x.sort(reverse=True)\n",
    "print(x)"
   ]
  },
  {
   "cell_type": "code",
   "execution_count": 60,
   "metadata": {},
   "outputs": [
    {
     "data": {
      "text/plain": [
       "2"
      ]
     },
     "execution_count": 60,
     "metadata": {},
     "output_type": "execute_result"
    }
   ],
   "source": [
    "x.count(44)"
   ]
  },
  {
   "cell_type": "code",
   "execution_count": 61,
   "metadata": {},
   "outputs": [
    {
     "name": "stdout",
     "output_type": "stream",
     "text": [
      "[1, 3, 2, 4, 3, 5, 6, 2, 1, 2, 1, 4, 5, 1]\n"
     ]
    }
   ],
   "source": [
    "X=[1,3,2,4,3,5,6,2,1,2,1,4,5,1]\n",
    "print(X)"
   ]
  },
  {
   "cell_type": "code",
   "execution_count": 67,
   "metadata": {},
   "outputs": [
    {
     "data": {
      "text/plain": [
       "4"
      ]
     },
     "execution_count": 67,
     "metadata": {},
     "output_type": "execute_result"
    }
   ],
   "source": [
    "X.count(1)"
   ]
  },
  {
   "cell_type": "code",
   "execution_count": 64,
   "metadata": {},
   "outputs": [
    {
     "name": "stdout",
     "output_type": "stream",
     "text": [
      "[1, 4, 22, 23, 23, 32, 33, 34, 43, 44, 44, 55, 56, 56, 65, 67, 67, 67, 76, 77, 78, 89, 89, 90]\n",
      "8\n"
     ]
    }
   ],
   "source": [
    "print(x)\n",
    "print(x.index(43))"
   ]
  },
  {
   "cell_type": "code",
   "execution_count": 69,
   "metadata": {},
   "outputs": [
    {
     "name": "stdout",
     "output_type": "stream",
     "text": [
      "0\n"
     ]
    }
   ],
   "source": [
    "start=0\n",
    "for i in range(x.count(1)):\n",
    "    pos=x.index(1,start)\n",
    "    start=pos+1\n",
    "    print(pos)\n",
    "    "
   ]
  },
  {
   "cell_type": "code",
   "execution_count": null,
   "metadata": {},
   "outputs": [],
   "source": []
  }
 ],
 "metadata": {
  "kernelspec": {
   "display_name": "base",
   "language": "python",
   "name": "python3"
  },
  "language_info": {
   "codemirror_mode": {
    "name": "ipython",
    "version": 3
   },
   "file_extension": ".py",
   "mimetype": "text/x-python",
   "name": "python",
   "nbconvert_exporter": "python",
   "pygments_lexer": "ipython3",
   "version": "3.11.4"
  },
  "orig_nbformat": 4
 },
 "nbformat": 4,
 "nbformat_minor": 2
}
