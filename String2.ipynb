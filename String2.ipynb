{
 "cells": [
  {
   "cell_type": "code",
   "execution_count": 6,
   "metadata": {},
   "outputs": [
    {
     "name": "stdout",
     "output_type": "stream",
     "text": [
      "autiful is better than ugly.explicit is better than implicit.simple is better than complex.\n",
      "AUTIFUL IS BETTER THAN UGLY.EXPLICIT IS BETTER THAN IMPLICIT.SIMPLE IS BETTER THAN COMPLEX.\n",
      "Autiful Is Better Than Ugly.Explicit Is Better Than Implicit.Simple Is Better Than Complex.\n"
     ]
    }
   ],
   "source": [
    "string=\"autiful is better than ugly.Explicit is better than implicit.Simple is better than complex.\"\n",
    "print(string.lower())\n",
    "print(string.upper())\n",
    "print(string.title())"
   ]
  },
  {
   "cell_type": "code",
   "execution_count": null,
   "metadata": {},
   "outputs": [],
   "source": []
  }
 ],
 "metadata": {
  "kernelspec": {
   "display_name": "base",
   "language": "python",
   "name": "python3"
  },
  "language_info": {
   "codemirror_mode": {
    "name": "ipython",
    "version": 3
   },
   "file_extension": ".py",
   "mimetype": "text/x-python",
   "name": "python",
   "nbconvert_exporter": "python",
   "pygments_lexer": "ipython3",
   "version": "3.11.4"
  },
  "orig_nbformat": 4
 },
 "nbformat": 4,
 "nbformat_minor": 2
}
