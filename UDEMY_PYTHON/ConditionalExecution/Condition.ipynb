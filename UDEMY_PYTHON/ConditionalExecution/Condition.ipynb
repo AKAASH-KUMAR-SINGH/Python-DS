{
 "cells": [
  {
   "cell_type": "code",
   "execution_count": 3,
   "metadata": {},
   "outputs": [
    {
     "name": "stdout",
     "output_type": "stream",
     "text": [
      "Welcome to Mortage Calculator!\n",
      "You are eligible for mortage!\n",
      "Interest rate: 4%\n"
     ]
    }
   ],
   "source": [
    "print(\"Welcome to Mortage Calculator!\")\n",
    "salary=int(input(\"What is your salary? \"))\n",
    "if salary >= 2000:\n",
    "    print(\"You are eligible for mortage!\")\n",
    "    credit_score=int(input(\"What is your credit score? \"))\n",
    "    if credit_score > 800:\n",
    "        print(\"Interest rate: 4%\")\n",
    "    else:\n",
    "        print(\"Interest rate: 6%\")\n",
    "else:\n",
    "    print(\"Sorry,you are not eligible!\")"
   ]
  },
  {
   "cell_type": "code",
   "execution_count": 3,
   "metadata": {},
   "outputs": [],
   "source": [
    "# ------>>>>> Even or Odd <<<<------\n",
    "# WAP that takes an integer number from\n",
    "# console and check whether if number is an Odd or Even."
   ]
  },
  {
   "cell_type": "code",
   "execution_count": 4,
   "metadata": {},
   "outputs": [
    {
     "name": "stdout",
     "output_type": "stream",
     "text": [
      "Welcome to Check the number is Even or Odd! \n",
      "Enter the number: \n",
      "2 is Even\n"
     ]
    }
   ],
   "source": [
    "print(\"Welcome to Check the number is Even or Odd! \")\n",
    "print(\"Enter the number: \")\n",
    "num=int(input())\n",
    "if num % 2==0:\n",
    "    print(f'{num} is Even')\n",
    "else:\n",
    "    print(f'{num} is Odd')"
   ]
  },
  {
   "cell_type": "markdown",
   "metadata": {},
   "source": [
    "#Chained Conditional"
   ]
  },
  {
   "cell_type": "code",
   "execution_count": 4,
   "metadata": {},
   "outputs": [
    {
     "name": "stdout",
     "output_type": "stream",
     "text": [
      "Welcome to Mortage Calculator!\n",
      "You are eligible for mortage!\n",
      "Interest rate: 8%\n"
     ]
    }
   ],
   "source": [
    "print(\"Welcome to Mortage Calculator!\")\n",
    "salary=int(input(\"What is your salary? \"))\n",
    "if salary >= 2000:\n",
    "    print(\"You are eligible for mortage!\")\n",
    "    credit_score=int(input(\"What is your credit score? \"))\n",
    "    if credit_score > 800:\n",
    "        print(\"Interest rate: 4%\")\n",
    "    elif credit_score > 750:\n",
    "        print(\"Interest rate: 6%\")\n",
    "    else:\n",
    "        print('Interest rate: 8%')\n",
    "else:\n",
    "    print(\"Sorry,you are not eligible!\")"
   ]
  },
  {
   "cell_type": "code",
   "execution_count": 9,
   "metadata": {},
   "outputs": [
    {
     "name": "stdout",
     "output_type": "stream",
     "text": [
      "Welcome to Mortage Calculator!\n",
      "You are eligible for mortage!\n",
      "Interest rate: 8%\n",
      "Final Interest Rate: 6\n"
     ]
    }
   ],
   "source": [
    "print(\"Welcome to Mortage Calculator!\")\n",
    "salary=int(input(\"What is your salary? \"))\n",
    "rate=0\n",
    "if salary >= 2000:\n",
    "    print(\"You are eligible for mortage!\")\n",
    "    credit_score=int(input(\"What is your credit score? \"))\n",
    "    if credit_score > 800:\n",
    "        rate=4\n",
    "        print(\"Interest rate: 4%\")\n",
    "    elif credit_score > 750:\n",
    "        rate=6\n",
    "        print(\"Interest rate: 6%\")\n",
    "    else:\n",
    "        rate=8\n",
    "        print('Interest rate: 8%')\n",
    "    disability=input(\"Do you have any disability? 'Y' or 'N'\")\n",
    "    if disability=='Y':\n",
    "        rate-=2\n",
    "    print(f'Final Interest Rate: {rate}')\n",
    "else:\n",
    "    print(\"Sorry,you are not eligible!\")"
   ]
  },
  {
   "cell_type": "code",
   "execution_count": null,
   "metadata": {},
   "outputs": [],
   "source": []
  }
 ],
 "metadata": {
  "kernelspec": {
   "display_name": "base",
   "language": "python",
   "name": "python3"
  },
  "language_info": {
   "codemirror_mode": {
    "name": "ipython",
    "version": 3
   },
   "file_extension": ".py",
   "mimetype": "text/x-python",
   "name": "python",
   "nbconvert_exporter": "python",
   "pygments_lexer": "ipython3",
   "version": "3.11.4"
  },
  "orig_nbformat": 4
 },
 "nbformat": 4,
 "nbformat_minor": 2
}
