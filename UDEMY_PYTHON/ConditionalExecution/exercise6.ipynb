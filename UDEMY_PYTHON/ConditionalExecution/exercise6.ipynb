{
 "cells": [
  {
   "cell_type": "markdown",
   "metadata": {},
   "source": [
    "-------->>>>>> Exercise 6 <<<<-------"
   ]
  },
  {
   "cell_type": "code",
   "execution_count": 2,
   "metadata": {},
   "outputs": [],
   "source": [
    "# BMI(Body Mass Index) Calculator\n",
    "# WAP to calculate the Body Mass Index based on \n",
    "# user's weight and height.\n",
    "\n",
    "    # Under 18.5-->> underweight\n",
    "    # Over 18.5 but below 25 -->> normal\n",
    "    # Over 25 but below 30 -->> overweight\n",
    "    # Over 30 but below 35 -->> obesity."
   ]
  },
  {
   "cell_type": "code",
   "execution_count": 3,
   "metadata": {},
   "outputs": [
    {
     "name": "stdout",
     "output_type": "stream",
     "text": [
      "Your bmi is 24.8, you are normal.\n"
     ]
    }
   ],
   "source": [
    "height=float(input(\"Enter your height in m: \"))\n",
    "weight=float(input(\"Enter your weight in kg: \"))\n",
    "\n",
    "BMI=round(weight/height ** 2,2)\n",
    "\n",
    "if BMI<18.5:\n",
    "    print(f\"Your bmi is {BMI}, you are underweight.\")\n",
    "elif BMI < 25:\n",
    "        print(f\"Your bmi is {BMI}, you are normal.\")\n",
    "elif BMI < 30:\n",
    "        print(f\"Your bmi is {BMI}, you are overweight.\")\n",
    "else:\n",
    "        print(f\"Your bmi is {BMI}, you are obese.\")"
   ]
  },
  {
   "cell_type": "markdown",
   "metadata": {},
   "source": [
    "-------->>>>>> Exercise 7 <<<<<<------"
   ]
  },
  {
   "cell_type": "code",
   "execution_count": 4,
   "metadata": {},
   "outputs": [],
   "source": [
    "# Burger Order\n",
    "# WAP that calculate final bill Burger Order\n",
    "# Price based on a user's choice.\n",
    "    # Price List:\n",
    "    #    Mini Burger(M): $5 \n",
    "    #    Normal Burger(N): $8 \n",
    "    #    Large Burger(L): $10 \n",
    "    # Add Mushroom:\n",
    "    #     Mini & Normal= $1\n",
    "    #     Large = $2\n",
    "    # Extra Cheese: $1"
   ]
  },
  {
   "cell_type": "code",
   "execution_count": null,
   "metadata": {},
   "outputs": [],
   "source": [
    "print(\"Welcome to Burger Shop!\")\n",
    "size=input(\"What size Burger do you want? M, N, or L\")\n",
    "add_mushroom=input(\"Do you want mushroom? Y or N\")\n",
    "extra_cheese=input(\"Do you want extra cheese? Y or N\")\n",
    "\n",
    "bill=0\n",
    "\n",
    "if size='M':\n",
    "    bill+=5\n",
    "elif size='N':\n",
    "    bill+=8\n",
    "else :\n",
    "    bill+=10\n",
    "\n",
    "if add_mushroom==\"Y\":\n",
    "    if size==\"L\":\n",
    "        bill+=2\n",
    "    else:\n",
    "        bill+=1\n",
    "\n",
    "if extra_cheese==\"Y\":\n",
    "    bill+=1\n",
    "\n",
    "print(f'Your final bill is: {bill}')"
   ]
  }
 ],
 "metadata": {
  "kernelspec": {
   "display_name": "base",
   "language": "python",
   "name": "python3"
  },
  "language_info": {
   "codemirror_mode": {
    "name": "ipython",
    "version": 3
   },
   "file_extension": ".py",
   "mimetype": "text/x-python",
   "name": "python",
   "nbconvert_exporter": "python",
   "pygments_lexer": "ipython3",
   "version": "3.11.4"
  },
  "orig_nbformat": 4
 },
 "nbformat": 4,
 "nbformat_minor": 2
}
