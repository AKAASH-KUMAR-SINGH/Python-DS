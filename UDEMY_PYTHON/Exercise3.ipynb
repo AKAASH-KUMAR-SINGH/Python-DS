{
 "cells": [
  {
   "cell_type": "code",
   "execution_count": 5,
   "metadata": {},
   "outputs": [
    {
     "name": "stdout",
     "output_type": "stream",
     "text": [
      "There are 104 weeks in 2 years\n"
     ]
    }
   ],
   "source": [
    "# Exercise 3\n",
    "# Ques 1: --->>> Weeks in Years\n",
    "\n",
    "# Write a program that convert number of year to the weeks.\n",
    "# if the input was 2,then the output should be 2*52=104\n",
    "\n",
    "year=input(\"Enter number of Years \")\n",
    "weeks=52*int(year)\n",
    "\n",
    "print(\"There are \"+str(weeks)+\" weeks in \"+year+\" years\")"
   ]
  },
  {
   "cell_type": "code",
   "execution_count": 7,
   "metadata": {},
   "outputs": [
    {
     "name": "stdout",
     "output_type": "stream",
     "text": [
      "There are 104 weeks in 2 years\n"
     ]
    }
   ],
   "source": [
    "# f string\n",
    "year=input(\"Enter number of Years \")\n",
    "weeks=52*int(year)\n",
    "print(f\"There are {weeks} weeks in {year} years\")"
   ]
  },
  {
   "cell_type": "code",
   "execution_count": 9,
   "metadata": {},
   "outputs": [
    {
     "name": "stdout",
     "output_type": "stream",
     "text": [
      "3.3333333333333335\n",
      "3\n",
      "3\n"
     ]
    }
   ],
   "source": [
    "# Round\n",
    "print(10/3)\n",
    "print(int(10/3))\n",
    "print(10//3)\n"
   ]
  },
  {
   "cell_type": "code",
   "execution_count": 14,
   "metadata": {},
   "outputs": [
    {
     "name": "stdout",
     "output_type": "stream",
     "text": [
      "3.33\n",
      "234.435\n",
      "234\n"
     ]
    }
   ],
   "source": [
    "print(round(10/3,2))\n",
    "print(round(234.4354,3))\n",
    "print(round(234.435))\n",
    "\n"
   ]
  },
  {
   "cell_type": "code",
   "execution_count": null,
   "metadata": {},
   "outputs": [],
   "source": []
  }
 ],
 "metadata": {
  "kernelspec": {
   "display_name": "base",
   "language": "python",
   "name": "python3"
  },
  "language_info": {
   "codemirror_mode": {
    "name": "ipython",
    "version": 3
   },
   "file_extension": ".py",
   "mimetype": "text/x-python",
   "name": "python",
   "nbconvert_exporter": "python",
   "pygments_lexer": "ipython3",
   "version": "3.11.4"
  },
  "orig_nbformat": 4
 },
 "nbformat": 4,
 "nbformat_minor": 2
}
