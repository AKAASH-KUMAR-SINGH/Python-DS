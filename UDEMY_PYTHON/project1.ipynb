{
 "cells": [
  {
   "cell_type": "code",
   "execution_count": 1,
   "metadata": {},
   "outputs": [
    {
     "name": "stdout",
     "output_type": "stream",
     "text": [
      "Hello Akash Singh.\n",
      "Welcome to the Python\n"
     ]
    }
   ],
   "source": [
    "# ---->>>> Greeting Project <<<<-----\n",
    "# WAP that input to prompt a user for their name & then welcome them.\n",
    "\n",
    "name=input(\"Enter your name: \")\n",
    "print(f'Hello {name}.')\n",
    "print(f'Welcome to the Python')"
   ]
  },
  {
   "cell_type": "code",
   "execution_count": 2,
   "metadata": {},
   "outputs": [],
   "source": [
    "# ------>>>>> Group Name Generator <<<<------\n",
    "    # 1. Create a gretting to the program.\n",
    "    # 2. Ask the user to their favourite color.\n",
    "    # 3. Ask the user to the favourite animal.\n",
    "    # 4. Combine the name of their favourite color and animal and show them their group."
   ]
  },
  {
   "cell_type": "code",
   "execution_count": 4,
   "metadata": {},
   "outputs": [
    {
     "name": "stdout",
     "output_type": "stream",
     "text": [
      "Welcome to the Group Name Generator.\n",
      "Your group name could be Red Tigers\n"
     ]
    }
   ],
   "source": [
    "print(\"Welcome to the Group Name Generator.\")\n",
    "color=input(\"What's your favourite color?\\n\").capitalize()\n",
    "animal=input(\"What's your favourite animal?\\n\").capitalize()\n",
    "print(f\"Your group name could be {color} {animal}s\")"
   ]
  },
  {
   "cell_type": "code",
   "execution_count": 1,
   "metadata": {},
   "outputs": [],
   "source": [
    "# ------>>>>> Gross Pay <<<<------\n",
    "# WAP to prompt the user for hours and rate per hour \n",
    "# to compute gross pay.You need to take into account that \n",
    "# result that exactly two digit after the decimal."
   ]
  },
  {
   "cell_type": "code",
   "execution_count": 2,
   "metadata": {},
   "outputs": [
    {
     "name": "stdout",
     "output_type": "stream",
     "text": [
      "Pay:  50.0\n"
     ]
    }
   ],
   "source": [
    "hours=int(input(\"Enter Hours: \"))\n",
    "rate=float(input(\"Enter Rate: \"))\n",
    "gross_pay=hours*rate\n",
    "print(\"Pay: \",round(gross_pay,2))"
   ]
  },
  {
   "cell_type": "code",
   "execution_count": 3,
   "metadata": {},
   "outputs": [],
   "source": [
    "# ------>>>>> Celsius to Fahrenheit <<<<------\n",
    "# WAP which prompts the user for a Celsius temperature,convert the temperature to Fahrenheit,and print out the converted temperature.\n",
    "# Formula:\n",
    "#         (C*9/5)+32=F"
   ]
  },
  {
   "cell_type": "code",
   "execution_count": 4,
   "metadata": {},
   "outputs": [
    {
     "name": "stdout",
     "output_type": "stream",
     "text": [
      "20 Celsius = 68.0 Faherenheit\n"
     ]
    }
   ],
   "source": [
    "Celsius=int(input(\"Enter Temperature in Celsius: \"))\n",
    "Fahren=(Celsius*9/5)+32\n",
    "print(f\"{Celsius} Celsius = {Fahren} Faherenheit\")"
   ]
  },
  {
   "cell_type": "code",
   "execution_count": 5,
   "metadata": {},
   "outputs": [],
   "source": [
    "# ------>>>>> Trip Cost Calculator <<<<------\n",
    "# WAP which calculates trip cost for a user.\n",
    "# 1. Create a greeting for your program.\n",
    "# 2. Ask the user for number of days.\n",
    "# 3. Ask the user for hotel price.\n",
    "# 4. Ask the user for flight price.\n",
    "# 5. Ask the user for rental car price.\n",
    "# 6. Ask for other expenses.\n",
    "# 7. Combines all expenses together and print with 2 digits after decimal places."
   ]
  },
  {
   "cell_type": "code",
   "execution_count": 10,
   "metadata": {},
   "outputs": [
    {
     "name": "stdout",
     "output_type": "stream",
     "text": [
      "Welcome to the trip Cost Calculator!\n",
      "Total cost: $51.5\n"
     ]
    }
   ],
   "source": [
    "print(\"Welcome to the trip Cost Calculator!\")\n",
    "day=int(input(\"How many days will you stay? \"))\n",
    "hotel_price=float(input(\"How much does hotel cost per night? $\"))\n",
    "flight_price=float(input(\"How much flight cost? $\"))\n",
    "car_price=float(input(\"If you need rental car please enter the price otherwise enter zeros. $\"))\n",
    "other_expenses=float(input(\"Enter other possible expenses $\"))\n",
    "Cost=(day*hotel_price)\n",
    "+(day*car_price)+flight_price+other_expenses\n",
    "print(f\"Total cost: ${round(Cost,2)}\") "
   ]
  },
  {
   "cell_type": "code",
   "execution_count": null,
   "metadata": {},
   "outputs": [],
   "source": []
  }
 ],
 "metadata": {
  "kernelspec": {
   "display_name": "base",
   "language": "python",
   "name": "python3"
  },
  "language_info": {
   "codemirror_mode": {
    "name": "ipython",
    "version": 3
   },
   "file_extension": ".py",
   "mimetype": "text/x-python",
   "name": "python",
   "nbconvert_exporter": "python",
   "pygments_lexer": "ipython3",
   "version": "3.11.4"
  },
  "orig_nbformat": 4
 },
 "nbformat": 4,
 "nbformat_minor": 2
}
