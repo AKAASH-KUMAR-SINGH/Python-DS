{
 "cells": [
  {
   "cell_type": "code",
   "execution_count": 1,
   "metadata": {},
   "outputs": [
    {
     "name": "stdout",
     "output_type": "stream",
     "text": [
      "Hello Akash Singh.\n",
      "Welcome to the Python\n"
     ]
    }
   ],
   "source": [
    "# ---->>>> Greeting Project <<<<-----\n",
    "# WAP that input to prompt a user for their name & then welcome them.\n",
    "\n",
    "name=input(\"Enter your name: \")\n",
    "print(f'Hello {name}.')\n",
    "print(f'Welcome to the Python')"
   ]
  },
  {
   "cell_type": "code",
   "execution_count": 2,
   "metadata": {},
   "outputs": [],
   "source": [
    "# ------>>>>> Group Name Generator <<<<------\n",
    "    # 1. Create a gretting to the program.\n",
    "    # 2. Ask the user to their favourite color.\n",
    "    # 3. Ask the user to the favourite animal.\n",
    "    # 4. Combine the name of their favourite color and animal and show them their group."
   ]
  },
  {
   "cell_type": "code",
   "execution_count": 4,
   "metadata": {},
   "outputs": [
    {
     "name": "stdout",
     "output_type": "stream",
     "text": [
      "Welcome to the Group Name Generator.\n",
      "Your group name could be Red Tigers\n"
     ]
    }
   ],
   "source": [
    "print(\"Welcome to the Group Name Generator.\")\n",
    "color=input(\"What's your favourite color?\\n\").capitalize()\n",
    "animal=input(\"What's your favourite animal?\\n\").capitalize()\n",
    "print(f\"Your group name could be {color} {animal}s\")"
   ]
  }
 ],
 "metadata": {
  "kernelspec": {
   "display_name": "base",
   "language": "python",
   "name": "python3"
  },
  "language_info": {
   "codemirror_mode": {
    "name": "ipython",
    "version": 3
   },
   "file_extension": ".py",
   "mimetype": "text/x-python",
   "name": "python",
   "nbconvert_exporter": "python",
   "pygments_lexer": "ipython3",
   "version": "3.11.4"
  },
  "orig_nbformat": 4
 },
 "nbformat": 4,
 "nbformat_minor": 2
}
