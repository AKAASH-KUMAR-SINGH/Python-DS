{
 "cells": [
  {
   "cell_type": "code",
   "execution_count": 105,
   "metadata": {},
   "outputs": [
    {
     "name": "stdout",
     "output_type": "stream",
     "text": [
      "['apple', 'banana', 'cherry']\n"
     ]
    }
   ],
   "source": [
    "# Create a list of 10 student name.\n",
    "mylist=[\"apple\",'banana','cherry']\n",
    "print(mylist)"
   ]
  },
  {
   "cell_type": "code",
   "execution_count": 106,
   "metadata": {},
   "outputs": [],
   "source": [
    "# there are three method to add element in a list\n",
    "# .append()\n",
    "# .insert()\n",
    "# .extend()"
   ]
  },
  {
   "cell_type": "code",
   "execution_count": 107,
   "metadata": {},
   "outputs": [
    {
     "name": "stdout",
     "output_type": "stream",
     "text": [
      "apple\n",
      "['banana', 'cherry']\n",
      "['cherry', 'banana', 'apple']\n",
      "['apple', 'banana', 'cherry', 'apple', 'mango', 'papaya']\n"
     ]
    }
   ],
   "source": [
    "print(mylist[0])\n",
    "print(mylist[1:])\n",
    "print(mylist[::-1])\n",
    "mylist.append('apple'),mylist.append('mango'),mylist.append('papaya')\n",
    "print(mylist)\n"
   ]
  },
  {
   "cell_type": "code",
   "execution_count": 108,
   "metadata": {},
   "outputs": [
    {
     "name": "stdout",
     "output_type": "stream",
     "text": [
      "6\n"
     ]
    }
   ],
   "source": [
    "print(len(mylist))"
   ]
  },
  {
   "cell_type": "code",
   "execution_count": 109,
   "metadata": {},
   "outputs": [
    {
     "name": "stdout",
     "output_type": "stream",
     "text": [
      "<class 'list'>\n",
      "['apple', 'banana', 'cherry', 'apple', 'mango', 'papaya', 'True']\n"
     ]
    }
   ],
   "source": [
    "print(type(mylist))\n",
    "mylist.append('True')\n",
    "print(mylist)"
   ]
  },
  {
   "cell_type": "code",
   "execution_count": 110,
   "metadata": {},
   "outputs": [],
   "source": [
    "new_list=list(('apple','mango','banana','papaya','grape','graprs'))"
   ]
  },
  {
   "cell_type": "code",
   "execution_count": 111,
   "metadata": {},
   "outputs": [
    {
     "name": "stdout",
     "output_type": "stream",
     "text": [
      "['apple', 'mango', 'banana', 'papaya', 'grape', 'graprs']\n"
     ]
    }
   ],
   "source": [
    "print(new_list)"
   ]
  },
  {
   "cell_type": "code",
   "execution_count": 112,
   "metadata": {},
   "outputs": [
    {
     "name": "stdout",
     "output_type": "stream",
     "text": [
      "apple\n",
      "papaya\n",
      "['apple', 'mango', 'banana', 'papaya', 'grape', 'graprs']\n",
      "['apple', 'banana', 'grape']\n",
      "['graprs']\n",
      "['apple', 'mango', 'banana', 'papaya']\n",
      "['graprs', 'grape', 'papaya', 'banana', 'mango', 'apple']\n",
      "['banana', 'papaya', 'grape']\n",
      "['banana', 'papaya', 'grape', 'graprs']\n",
      "['banana', 'papaya', 'grape']\n"
     ]
    }
   ],
   "source": [
    "print(new_list[0])\n",
    "print(new_list[3])\n",
    "print(new_list[:])\n",
    "print(new_list[::2])\n",
    "print(new_list[-1:])\n",
    "print(new_list[:len(new_list)-2:])\n",
    "print(new_list[::-1])\n",
    "print(new_list[2:5])\n",
    "print(new_list[2:])\n",
    "print(new_list[-4:-1:])\n"
   ]
  },
  {
   "cell_type": "code",
   "execution_count": 113,
   "metadata": {},
   "outputs": [
    {
     "name": "stdout",
     "output_type": "stream",
     "text": [
      "yes,apple is in the list\n"
     ]
    }
   ],
   "source": [
    "if 'apple' in new_list:\n",
    "    print(\"yes,apple is in the list\")"
   ]
  },
  {
   "cell_type": "code",
   "execution_count": 114,
   "metadata": {},
   "outputs": [
    {
     "data": {
      "text/plain": [
       "['apple', 'mango', 'banana', 'papaya', 'grape', 'graprs']"
      ]
     },
     "execution_count": 114,
     "metadata": {},
     "output_type": "execute_result"
    }
   ],
   "source": [
    "new_list"
   ]
  },
  {
   "cell_type": "code",
   "execution_count": 115,
   "metadata": {},
   "outputs": [
    {
     "name": "stdout",
     "output_type": "stream",
     "text": [
      "['blackberry', 'mango', 'banana', 'papaya', 'grape', 'graprs']\n"
     ]
    }
   ],
   "source": [
    "new_list[0]='blackberry'\n",
    "print(new_list)"
   ]
  },
  {
   "cell_type": "code",
   "execution_count": 116,
   "metadata": {},
   "outputs": [
    {
     "name": "stdout",
     "output_type": "stream",
     "text": [
      "['blackberry', 'chiku', 'banana', 'papaya', 'grape', 'graprs']\n"
     ]
    }
   ],
   "source": [
    "new_list[1]='chiku'\n",
    "print(new_list)"
   ]
  },
  {
   "cell_type": "code",
   "execution_count": 117,
   "metadata": {},
   "outputs": [
    {
     "name": "stdout",
     "output_type": "stream",
     "text": [
      "['blackberry', 'chiku', 'papaya', 'coocnut', 'watermelon', 'kiwi', 'mango', 'apple', 'grapes']\n"
     ]
    }
   ],
   "source": [
    "new_list[2:10]=['papaya','coocnut','watermelon','kiwi','mango','apple','grapes']\n",
    "print(new_list)"
   ]
  },
  {
   "cell_type": "code",
   "execution_count": 118,
   "metadata": {},
   "outputs": [
    {
     "name": "stdout",
     "output_type": "stream",
     "text": [
      "9\n"
     ]
    }
   ],
   "source": [
    "print(len(new_list))"
   ]
  },
  {
   "cell_type": "code",
   "execution_count": 119,
   "metadata": {},
   "outputs": [],
   "source": [
    "new_list.insert(len(new_list),\"lemon\")"
   ]
  },
  {
   "cell_type": "code",
   "execution_count": 120,
   "metadata": {},
   "outputs": [
    {
     "name": "stdout",
     "output_type": "stream",
     "text": [
      "['blackberry', 'chiku', 'papaya', 'coocnut', 'watermelon', 'kiwi', 'mango', 'apple', 'grapes', 'lemon'] 10\n"
     ]
    }
   ],
   "source": [
    "print(new_list,len(new_list))"
   ]
  },
  {
   "cell_type": "code",
   "execution_count": 121,
   "metadata": {},
   "outputs": [],
   "source": [
    "new_list.append('orange')"
   ]
  },
  {
   "cell_type": "code",
   "execution_count": 122,
   "metadata": {},
   "outputs": [
    {
     "name": "stdout",
     "output_type": "stream",
     "text": [
      "['blackberry', 'chiku', 'papaya', 'coocnut', 'watermelon', 'kiwi', 'mango', 'apple', 'grapes', 'lemon', 'orange', 'lichi']\n"
     ]
    }
   ],
   "source": [
    "new_list.append('lichi')\n",
    "print(new_list)"
   ]
  },
  {
   "cell_type": "code",
   "execution_count": 123,
   "metadata": {},
   "outputs": [],
   "source": [
    "new_list.insert(len(new_list),'papaya')"
   ]
  },
  {
   "cell_type": "code",
   "execution_count": 124,
   "metadata": {},
   "outputs": [
    {
     "name": "stdout",
     "output_type": "stream",
     "text": [
      "['blackberry', 'chiku', 'papaya', 'coocnut', 'watermelon', 'kiwi', 'mango', 'apple', 'grapes', 'lemon', 'orange', 'lichi', 'papaya']\n"
     ]
    }
   ],
   "source": [
    "print(new_list)"
   ]
  },
  {
   "cell_type": "code",
   "execution_count": 125,
   "metadata": {},
   "outputs": [],
   "source": [
    "new_list.insert(1,'gauava')"
   ]
  },
  {
   "cell_type": "code",
   "execution_count": 126,
   "metadata": {},
   "outputs": [
    {
     "name": "stdout",
     "output_type": "stream",
     "text": [
      "['blackberry', 'gauava', 'chiku', 'papaya', 'coocnut', 'watermelon', 'kiwi', 'mango', 'apple', 'grapes', 'lemon', 'orange', 'lichi', 'papaya']\n"
     ]
    }
   ],
   "source": [
    "print(new_list)"
   ]
  },
  {
   "cell_type": "code",
   "execution_count": 127,
   "metadata": {},
   "outputs": [
    {
     "name": "stdout",
     "output_type": "stream",
     "text": [
      "14\n"
     ]
    }
   ],
   "source": [
    "print(len(new_list))"
   ]
  },
  {
   "cell_type": "code",
   "execution_count": 128,
   "metadata": {},
   "outputs": [],
   "source": [
    "new_list.extend(mylist)"
   ]
  },
  {
   "cell_type": "code",
   "execution_count": 129,
   "metadata": {},
   "outputs": [
    {
     "name": "stdout",
     "output_type": "stream",
     "text": [
      "['blackberry', 'gauava', 'chiku', 'papaya', 'coocnut', 'watermelon', 'kiwi', 'mango', 'apple', 'grapes', 'lemon', 'orange', 'lichi', 'papaya', 'apple', 'banana', 'cherry', 'apple', 'mango', 'papaya', 'True']\n"
     ]
    }
   ],
   "source": [
    "print(new_list)"
   ]
  },
  {
   "cell_type": "code",
   "execution_count": 130,
   "metadata": {},
   "outputs": [
    {
     "name": "stdout",
     "output_type": "stream",
     "text": [
      "21\n"
     ]
    }
   ],
   "source": [
    "print(len(new_list))"
   ]
  },
  {
   "cell_type": "code",
   "execution_count": 131,
   "metadata": {},
   "outputs": [],
   "source": [
    "T_tuple=('pink',9,'green','purple')"
   ]
  },
  {
   "cell_type": "code",
   "execution_count": 132,
   "metadata": {},
   "outputs": [],
   "source": [
    "new_list.extend(T_tuple)"
   ]
  },
  {
   "cell_type": "code",
   "execution_count": 133,
   "metadata": {},
   "outputs": [
    {
     "name": "stdout",
     "output_type": "stream",
     "text": [
      "25 ['blackberry', 'gauava', 'chiku', 'papaya', 'coocnut', 'watermelon', 'kiwi', 'mango', 'apple', 'grapes', 'lemon', 'orange', 'lichi', 'papaya', 'apple', 'banana', 'cherry', 'apple', 'mango', 'papaya', 'True', 'pink', 9, 'green', 'purple']\n"
     ]
    }
   ],
   "source": [
    "print(len(new_list),new_list)"
   ]
  },
  {
   "cell_type": "code",
   "execution_count": 134,
   "metadata": {},
   "outputs": [],
   "source": [
    "new_list.remove(\"chiku\")"
   ]
  },
  {
   "cell_type": "code",
   "execution_count": 135,
   "metadata": {},
   "outputs": [
    {
     "name": "stdout",
     "output_type": "stream",
     "text": [
      "['blackberry', 'gauava', 'papaya', 'coocnut', 'watermelon', 'kiwi', 'mango', 'apple', 'grapes', 'lemon', 'orange', 'lichi', 'papaya', 'apple', 'banana', 'cherry', 'apple', 'mango', 'papaya', 'True', 'pink', 9, 'green', 'purple']\n"
     ]
    }
   ],
   "source": [
    "print(new_list)"
   ]
  },
  {
   "cell_type": "code",
   "execution_count": 136,
   "metadata": {},
   "outputs": [],
   "source": [
    "new_list.remove('lemon')"
   ]
  },
  {
   "cell_type": "code",
   "execution_count": 137,
   "metadata": {},
   "outputs": [
    {
     "name": "stdout",
     "output_type": "stream",
     "text": [
      "['blackberry', 'gauava', 'papaya', 'coocnut', 'watermelon', 'kiwi', 'mango', 'apple', 'grapes', 'orange', 'lichi', 'papaya', 'apple', 'banana', 'cherry', 'apple', 'mango', 'papaya', 'True', 'pink', 9, 'green', 'purple']\n"
     ]
    }
   ],
   "source": [
    "print(new_list)"
   ]
  },
  {
   "cell_type": "code",
   "execution_count": 138,
   "metadata": {},
   "outputs": [],
   "source": [
    "new_list.remove('gauava')"
   ]
  },
  {
   "cell_type": "code",
   "execution_count": 139,
   "metadata": {},
   "outputs": [
    {
     "name": "stdout",
     "output_type": "stream",
     "text": [
      "['blackberry', 'papaya', 'coocnut', 'watermelon', 'kiwi', 'mango', 'apple', 'grapes', 'orange', 'lichi', 'papaya', 'apple', 'banana', 'cherry', 'apple', 'mango', 'papaya', 'True', 'pink', 9, 'green', 'purple']\n"
     ]
    }
   ],
   "source": [
    "print(new_list)"
   ]
  },
  {
   "cell_type": "code",
   "execution_count": 140,
   "metadata": {},
   "outputs": [
    {
     "data": {
      "text/plain": [
       "'apple'"
      ]
     },
     "execution_count": 140,
     "metadata": {},
     "output_type": "execute_result"
    }
   ],
   "source": [
    "mylist.pop(0)"
   ]
  },
  {
   "cell_type": "code",
   "execution_count": 141,
   "metadata": {},
   "outputs": [
    {
     "data": {
      "text/plain": [
       "'cherry'"
      ]
     },
     "execution_count": 141,
     "metadata": {},
     "output_type": "execute_result"
    }
   ],
   "source": [
    "mylist.pop(1)"
   ]
  },
  {
   "cell_type": "code",
   "execution_count": 142,
   "metadata": {},
   "outputs": [
    {
     "data": {
      "text/plain": [
       "'banana'"
      ]
     },
     "execution_count": 142,
     "metadata": {},
     "output_type": "execute_result"
    }
   ],
   "source": [
    "mylist.pop(0)"
   ]
  },
  {
   "cell_type": "code",
   "execution_count": 143,
   "metadata": {},
   "outputs": [
    {
     "data": {
      "text/plain": [
       "'apple'"
      ]
     },
     "execution_count": 143,
     "metadata": {},
     "output_type": "execute_result"
    }
   ],
   "source": [
    "mylist.pop(0)"
   ]
  },
  {
   "cell_type": "code",
   "execution_count": 144,
   "metadata": {},
   "outputs": [
    {
     "data": {
      "text/plain": [
       "'mango'"
      ]
     },
     "execution_count": 144,
     "metadata": {},
     "output_type": "execute_result"
    }
   ],
   "source": [
    "mylist.pop(0)"
   ]
  },
  {
   "cell_type": "code",
   "execution_count": 145,
   "metadata": {},
   "outputs": [
    {
     "data": {
      "text/plain": [
       "['papaya', 'True']"
      ]
     },
     "execution_count": 145,
     "metadata": {},
     "output_type": "execute_result"
    }
   ],
   "source": [
    "mylist"
   ]
  },
  {
   "cell_type": "code",
   "execution_count": 146,
   "metadata": {},
   "outputs": [
    {
     "data": {
      "text/plain": [
       "'True'"
      ]
     },
     "execution_count": 146,
     "metadata": {},
     "output_type": "execute_result"
    }
   ],
   "source": [
    "mylist.pop()"
   ]
  },
  {
   "cell_type": "code",
   "execution_count": 147,
   "metadata": {},
   "outputs": [
    {
     "data": {
      "text/plain": [
       "['papaya']"
      ]
     },
     "execution_count": 147,
     "metadata": {},
     "output_type": "execute_result"
    }
   ],
   "source": [
    "mylist"
   ]
  },
  {
   "cell_type": "code",
   "execution_count": 148,
   "metadata": {},
   "outputs": [],
   "source": [
    "del mylist[0]"
   ]
  },
  {
   "cell_type": "code",
   "execution_count": 149,
   "metadata": {},
   "outputs": [
    {
     "data": {
      "text/plain": [
       "[]"
      ]
     },
     "execution_count": 149,
     "metadata": {},
     "output_type": "execute_result"
    }
   ],
   "source": [
    "mylist"
   ]
  },
  {
   "cell_type": "code",
   "execution_count": 150,
   "metadata": {},
   "outputs": [],
   "source": [
    "mylist.extend(T_tuple)"
   ]
  },
  {
   "cell_type": "code",
   "execution_count": 151,
   "metadata": {},
   "outputs": [
    {
     "data": {
      "text/plain": [
       "['pink', 9, 'green', 'purple']"
      ]
     },
     "execution_count": 151,
     "metadata": {},
     "output_type": "execute_result"
    }
   ],
   "source": [
    "mylist"
   ]
  },
  {
   "cell_type": "code",
   "execution_count": 152,
   "metadata": {},
   "outputs": [],
   "source": [
    "mylist.clear()"
   ]
  },
  {
   "cell_type": "code",
   "execution_count": 153,
   "metadata": {},
   "outputs": [
    {
     "data": {
      "text/plain": [
       "[]"
      ]
     },
     "execution_count": 153,
     "metadata": {},
     "output_type": "execute_result"
    }
   ],
   "source": [
    "mylist"
   ]
  },
  {
   "cell_type": "code",
   "execution_count": 154,
   "metadata": {},
   "outputs": [
    {
     "name": "stdout",
     "output_type": "stream",
     "text": [
      "blackberry\n",
      "papaya\n",
      "coocnut\n",
      "watermelon\n",
      "kiwi\n",
      "mango\n",
      "apple\n",
      "grapes\n",
      "orange\n",
      "lichi\n",
      "papaya\n",
      "apple\n",
      "banana\n",
      "cherry\n",
      "apple\n",
      "mango\n",
      "papaya\n",
      "True\n",
      "pink\n",
      "9\n",
      "green\n",
      "purple\n"
     ]
    }
   ],
   "source": [
    "for i in new_list:\n",
    "    print(i)"
   ]
  },
  {
   "cell_type": "code",
   "execution_count": 155,
   "metadata": {},
   "outputs": [
    {
     "name": "stdout",
     "output_type": "stream",
     "text": [
      "blackberry\n",
      "papaya\n",
      "coocnut\n",
      "watermelon\n",
      "kiwi\n",
      "mango\n",
      "apple\n",
      "grapes\n",
      "orange\n",
      "lichi\n",
      "papaya\n",
      "apple\n",
      "banana\n",
      "cherry\n",
      "apple\n",
      "mango\n",
      "papaya\n",
      "True\n",
      "pink\n",
      "9\n",
      "green\n",
      "purple\n",
      "22\n"
     ]
    }
   ],
   "source": [
    "for i in range(len(new_list)):\n",
    "    print(new_list[i])\n",
    "print(len(new_list))"
   ]
  },
  {
   "cell_type": "code",
   "execution_count": 156,
   "metadata": {},
   "outputs": [
    {
     "name": "stdout",
     "output_type": "stream",
     "text": [
      "blackberry papaya coocnut watermelon kiwi mango apple grapes orange lichi papaya apple banana cherry apple mango papaya True pink 9 green purple "
     ]
    }
   ],
   "source": [
    "count=len(new_list)\n",
    "start=0\n",
    "while( count>0):\n",
    "    print(new_list[start],end=' ')\n",
    "    start+=1\n",
    "    count-=1"
   ]
  },
  {
   "cell_type": "code",
   "execution_count": null,
   "metadata": {},
   "outputs": [],
   "source": []
  }
 ],
 "metadata": {
  "kernelspec": {
   "display_name": "base",
   "language": "python",
   "name": "python3"
  },
  "language_info": {
   "codemirror_mode": {
    "name": "ipython",
    "version": 3
   },
   "file_extension": ".py",
   "mimetype": "text/x-python",
   "name": "python",
   "nbconvert_exporter": "python",
   "pygments_lexer": "ipython3",
   "version": "3.11.4"
  },
  "orig_nbformat": 4
 },
 "nbformat": 4,
 "nbformat_minor": 2
}
