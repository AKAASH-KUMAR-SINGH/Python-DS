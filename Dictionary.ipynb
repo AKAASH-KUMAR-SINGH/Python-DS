{
 "cells": [
  {
   "cell_type": "code",
   "execution_count": 1,
   "metadata": {},
   "outputs": [
    {
     "name": "stdout",
     "output_type": "stream",
     "text": [
      "{'title': 'The Final Empire', 'author': 'Brandon Sanderson', 'price': 500}\n"
     ]
    }
   ],
   "source": [
    "book={'title':'The Final Empire','author':'Brandon Sanderson','price':500}\n",
    "print(book)"
   ]
  },
  {
   "cell_type": "code",
   "execution_count": 4,
   "metadata": {},
   "outputs": [],
   "source": [
    "book={\"title\":\"The Final Empire\",\"author\":'Brandon Sanderson',\"price\":500,'publisher':'Tor Books','year':2006,'pages':\"541\",'language':['english',\"french\",'spanish']}"
   ]
  },
  {
   "cell_type": "code",
   "execution_count": 8,
   "metadata": {},
   "outputs": [
    {
     "name": "stdout",
     "output_type": "stream",
     "text": [
      "{'title': 'The Final Empire', 'author': 'Brandon Sanderson', 'price': 500, 'publisher': 'Tor Books', 'year': 2006, 'pages': '541', 'language': ['english', 'french', 'spanish']}\n"
     ]
    }
   ],
   "source": [
    "print(book)"
   ]
  },
  {
   "cell_type": "code",
   "execution_count": 10,
   "metadata": {},
   "outputs": [
    {
     "name": "stdout",
     "output_type": "stream",
     "text": [
      "{'title': 'The Final Empire', 'author': 'Brandon Sanderson', 'price': 500, 'publisher': 'Tor Books', 'year': 2006, 'pages': '541', 'language': ['english', 'french', 'spanish'], 'rating': '4.5'}\n"
     ]
    }
   ],
   "source": [
    "book['rating']=\"4.5\"\n",
    "print(book)\n"
   ]
  },
  {
   "cell_type": "code",
   "execution_count": 11,
   "metadata": {},
   "outputs": [
    {
     "name": "stdout",
     "output_type": "stream",
     "text": [
      "{'title': 'The Final Empire', 'author': 'Brandon Sanderson', 'price': 500, 'publisher': 'Tor Books', 'year': 2006, 'pages': '541', 'language': ['english', 'french', 'spanish'], 'rating': '4.5', 'type': 'paperback'}\n"
     ]
    }
   ],
   "source": [
    "book['type']='paperback'\n",
    "print(book)"
   ]
  },
  {
   "cell_type": "code",
   "execution_count": 27,
   "metadata": {},
   "outputs": [
    {
     "data": {
      "text/plain": [
       "'paperback'"
      ]
     },
     "execution_count": 27,
     "metadata": {},
     "output_type": "execute_result"
    }
   ],
   "source": [
    "book['type']"
   ]
  },
  {
   "cell_type": "code",
   "execution_count": 29,
   "metadata": {},
   "outputs": [
    {
     "name": "stdout",
     "output_type": "stream",
     "text": [
      "{'title': 'The Final Empire', 'author': 'Brandon Sanderson', 'price': 500, 'publisher': 'Tor Books', 'language': ['english', 'french', 'spanish'], 'rating': '4.5', 'type': 'paperback', 'Date': '2006'}\n"
     ]
    }
   ],
   "source": [
    "book.pop('2006')\n",
    "print(book)"
   ]
  },
  {
   "cell_type": "code",
   "execution_count": 31,
   "metadata": {},
   "outputs": [
    {
     "data": {
      "text/plain": [
       "'Brandon Sanderson'"
      ]
     },
     "execution_count": 31,
     "metadata": {},
     "output_type": "execute_result"
    }
   ],
   "source": [
    "book.pop('author')"
   ]
  },
  {
   "cell_type": "code",
   "execution_count": 32,
   "metadata": {},
   "outputs": [],
   "source": [
    "book['Date']='2006'"
   ]
  },
  {
   "cell_type": "code",
   "execution_count": 33,
   "metadata": {},
   "outputs": [
    {
     "name": "stdout",
     "output_type": "stream",
     "text": [
      "{'title': 'The Final Empire', 'price': 500, 'publisher': 'Tor Books', 'language': ['english', 'french', 'spanish'], 'rating': '4.5', 'type': 'paperback', 'Date': '2006'}\n"
     ]
    }
   ],
   "source": [
    "print(book)"
   ]
  },
  {
   "cell_type": "code",
   "execution_count": 34,
   "metadata": {},
   "outputs": [
    {
     "data": {
      "text/plain": [
       "{'title': 'The Final Empire',\n",
       " 'price': 500,\n",
       " 'publisher': 'Tor Books',\n",
       " 'language': ['english', 'french', 'spanish'],\n",
       " 'rating': '4.5',\n",
       " 'type': 'paperback',\n",
       " 'Date': '2006'}"
      ]
     },
     "execution_count": 34,
     "metadata": {},
     "output_type": "execute_result"
    }
   ],
   "source": [
    "book"
   ]
  },
  {
   "cell_type": "code",
   "execution_count": 35,
   "metadata": {},
   "outputs": [],
   "source": [
    "book['author']='Brandon Sanderson'"
   ]
  },
  {
   "cell_type": "code",
   "execution_count": 36,
   "metadata": {},
   "outputs": [
    {
     "data": {
      "text/plain": [
       "{'title': 'The Final Empire',\n",
       " 'price': 500,\n",
       " 'publisher': 'Tor Books',\n",
       " 'language': ['english', 'french', 'spanish'],\n",
       " 'rating': '4.5',\n",
       " 'type': 'paperback',\n",
       " 'Date': '2006',\n",
       " 'author': 'Brandon Sanderson'}"
      ]
     },
     "execution_count": 36,
     "metadata": {},
     "output_type": "execute_result"
    }
   ],
   "source": [
    "book"
   ]
  },
  {
   "cell_type": "code",
   "execution_count": 42,
   "metadata": {},
   "outputs": [
    {
     "data": {
      "text/plain": [
       "['The Final Empire',\n",
       " 500,\n",
       " 'Tor Books',\n",
       " ['english', 'french', 'spanish'],\n",
       " '4.5',\n",
       " 'paperback',\n",
       " '2006',\n",
       " 'Brandon Sanderson']"
      ]
     },
     "execution_count": 42,
     "metadata": {},
     "output_type": "execute_result"
    }
   ],
   "source": [
    "list(book.values())"
   ]
  },
  {
   "cell_type": "code",
   "execution_count": 43,
   "metadata": {},
   "outputs": [
    {
     "data": {
      "text/plain": [
       "('title', 'price', 'publisher', 'language', 'rating', 'type', 'Date', 'author')"
      ]
     },
     "execution_count": 43,
     "metadata": {},
     "output_type": "execute_result"
    }
   ],
   "source": [
    "tuple(book.keys())"
   ]
  },
  {
   "cell_type": "code",
   "execution_count": 45,
   "metadata": {},
   "outputs": [
    {
     "ename": "SyntaxError",
     "evalue": "'break' outside loop (476382262.py, line 13)",
     "output_type": "error",
     "traceback": [
      "\u001b[1;36m  File \u001b[1;32m\"C:\\Users\\akash\\AppData\\Local\\Temp\\ipykernel_12656\\476382262.py\"\u001b[1;36m, line \u001b[1;32m13\u001b[0m\n\u001b[1;33m    break\u001b[0m\n\u001b[1;37m    ^\u001b[0m\n\u001b[1;31mSyntaxError\u001b[0m\u001b[1;31m:\u001b[0m 'break' outside loop\n"
     ]
    }
   ],
   "source": [
    "myrating={}\n",
    "time=int(input(\"enter number of times:\"))\n",
    "num=0\n",
    "if num!=-1:\n",
    "    while(time>0):\n",
    "        name=input(\"enter a movies name:\")\n",
    "        rating=float(input(f\"enter the rating of movies {i}\"))\n",
    "        myrating[name]=rating\n",
    "        time-=1\n",
    "    num=int(input(\"enter '-1' to exit :\"))\n",
    "\n",
    "else:\n",
    "    break\n",
    "    \n",
    "print()\n",
    "\n"
   ]
  },
  {
   "cell_type": "code",
   "execution_count": 47,
   "metadata": {},
   "outputs": [
    {
     "name": "stdout",
     "output_type": "stream",
     "text": [
      "----------------------------------------\n",
      "------------------------------\n"
     ]
    }
   ],
   "source": [
    "for i in myrating:\n",
    "    print(i)    # only keys\n",
    "\n",
    "print('----'*10)\n",
    "for i in myrating:\n",
    "    print(i,myrating[i])\n",
    "\n",
    "print('---'*10)\n",
    "for k,v in myrating.items():\n",
    "    print(k,v)"
   ]
  },
  {
   "cell_type": "code",
   "execution_count": 51,
   "metadata": {},
   "outputs": [
    {
     "name": "stdout",
     "output_type": "stream",
     "text": [
      "{'book1': {'title': 'The Final Empire', 'author': 'Brandon Sanderson', 'price': '1499'}, 'book2': {'title': 'The Well of Ascension', 'author': 'Brendon Sanderson', 'price': '1555', 'publisher': 'Tor Books'}, 'book3': {'title': 'The hero of Ages', 'author': 'Brandonson', 'price': 1243}}\n"
     ]
    }
   ],
   "source": [
    "books={\n",
    "    'book1':{\n",
    "    'title':'The Final Empire','author':\"Brandon Sanderson\",'price':'1499'},\n",
    "    'book2':{\n",
    "        'title':'The Well of Ascension','author':\"Brendon Sanderson\",'price':'1555','publisher':'Tor Books'\n",
    "    },\n",
    "    \"book3\":{\n",
    "        \"title\":\"The hero of Ages\",'author':'Brandonson','price':1243\n",
    "    }\n",
    "}\n",
    "print(books)"
   ]
  },
  {
   "cell_type": "code",
   "execution_count": 52,
   "metadata": {},
   "outputs": [
    {
     "name": "stdout",
     "output_type": "stream",
     "text": [
      "book1\n",
      "\ttitle=The Final Empire\n",
      "\tauthor=Brandon Sanderson\n",
      "\tprice=1499\n",
      "book2\n",
      "\ttitle=The Well of Ascension\n",
      "\tauthor=Brendon Sanderson\n",
      "\tprice=1555\n",
      "\tpublisher=Tor Books\n",
      "book3\n",
      "\ttitle=The hero of Ages\n",
      "\tauthor=Brandonson\n",
      "\tprice=1243\n"
     ]
    }
   ],
   "source": [
    "for name,detail in books.items():\n",
    "    print(name)\n",
    "    for k,v in detail.items():\n",
    "        print(f'\\t{k}={v}')"
   ]
  },
  {
   "cell_type": "code",
   "execution_count": 56,
   "metadata": {},
   "outputs": [
    {
     "data": {
      "text/plain": [
       "[('title', 'The hero of Ages'), ('author', 'Brandonson'), ('price', 1243)]"
      ]
     },
     "execution_count": 56,
     "metadata": {},
     "output_type": "execute_result"
    }
   ],
   "source": [
    "list(detail.items())"
   ]
  },
  {
   "cell_type": "markdown",
   "metadata": {},
   "source": [
    "WAP to create a dictionary that store number and their Square"
   ]
  },
  {
   "cell_type": "code",
   "execution_count": 64,
   "metadata": {},
   "outputs": [
    {
     "name": "stdout",
     "output_type": "stream",
     "text": [
      "{1: '1', 2: '4', 3: '9', 4: '16', 5: '25', 6: '36', 7: '49', 8: '64', 9: '81', 10: '100', 11: '121'}\n"
     ]
    }
   ],
   "source": [
    "Num={}\n",
    "num=[1,2,3,4,5,6,7,8,9,10,11]\n",
    "for i in num:\n",
    "    sqr=i*i\n",
    "    Num[i]=str(sqr)\n",
    "print(Num)"
   ]
  },
  {
   "cell_type": "markdown",
   "metadata": {},
   "source": [
    "Ques :--->>> WAP to ask user to enter item and its price and then store it in a dictionary\n",
    "The program should stop when user need."
   ]
  },
  {
   "cell_type": "code",
   "execution_count": 71,
   "metadata": {},
   "outputs": [
    {
     "name": "stdout",
     "output_type": "stream",
     "text": [
      "Thanks for entering..\n",
      "{'1': '1', -6: 120.0, '2': '2', -7: 120.0}\n"
     ]
    }
   ],
   "source": [
    "user_item={}\n",
    "# item_no=int(input(\"enter item number: \"))\n",
    "while True:\n",
    "    User_inp=int(input(\"If youn want to stop enter '-1'\"))\n",
    "    if User_inp != -1:\n",
    "        item=input(\"Enter your item number: \")\n",
    "        prices=float(input(\"Enter your item price: \"))\n",
    "        user_item[item]=item\n",
    "        user_item[item_no]=prices\n",
    "        item_no-=1\n",
    "    else:\n",
    "        print(\"Thanks for entering..\")\n",
    "        break\n",
    "print(user_item)"
   ]
  },
  {
   "cell_type": "code",
   "execution_count": null,
   "metadata": {},
   "outputs": [],
   "source": [
    "items={}\n",
    "while True:\n",
    "    item=input('Enter name :')\n",
    "    if not in item:break\n",
    "    price=int(input('enter price:'))\n",
    "    item[item]=price\n",
    "print(items)"
   ]
  }
 ],
 "metadata": {
  "kernelspec": {
   "display_name": "base",
   "language": "python",
   "name": "python3"
  },
  "language_info": {
   "codemirror_mode": {
    "name": "ipython",
    "version": 3
   },
   "file_extension": ".py",
   "mimetype": "text/x-python",
   "name": "python",
   "nbconvert_exporter": "python",
   "pygments_lexer": "ipython3",
   "version": "3.9.13"
  },
  "orig_nbformat": 4
 },
 "nbformat": 4,
 "nbformat_minor": 2
}
